{
  "cells": [
    {
      "cell_type": "markdown",
      "metadata": {
        "id": "view-in-github",
        "colab_type": "text"
      },
      "source": [
        "<a href=\"https://colab.research.google.com/github/pedroconcejero/UTAD_python/blob/master/Keras_NLP_getting_started.ipynb\" target=\"_parent\"><img src=\"https://colab.research.google.com/assets/colab-badge.svg\" alt=\"Open In Colab\"/></a>"
      ]
    },
    {
      "cell_type": "markdown",
      "metadata": {
        "id": "8-NQSPvNo5lF"
      },
      "source": [
        "# Getting Started with KerasNLP\n",
        "\n",
        "**Author:** [Jonathan Bischof](https://github.com/jbischof)<br>\n",
        "**Date created:** 2022/12/15<br>\n",
        "**Last modified:** 2023/07/01<br>\n",
        "**Description:** An introduction to the KerasNLP API."
      ]
    },
    {
      "cell_type": "markdown",
      "metadata": {
        "id": "zi8N7Xyao5lI"
      },
      "source": [
        "## Introduction\n",
        "\n",
        "KerasNLP is a natural language processing library that supports users through\n",
        "their entire development cycle. Our workflows are built from modular components\n",
        "that have state-of-the-art preset weights and architectures when used\n",
        "out-of-the-box and are easily customizable when more control is needed.\n",
        "\n",
        "This library is an extension of the core Keras API; all high-level modules are\n",
        "[`Layers`](/api/layers/) or [`Models`](/api/models/). If you are familiar with Keras,\n",
        "congratulations! You already understand most of KerasNLP.\n",
        "\n",
        "KerasNLP uses Keras 3 to work with any of TensorFlow, Pytorch and Jax. In the\n",
        "guide below, we will use the `jax` backend for training our models, and\n",
        "[tf.data](https://www.tensorflow.org/guide/data) for efficiently running our\n",
        "input preprocessing. But feel free to mix things up! This guide runs in\n",
        "TensorFlow or PyTorch backends with zero changes, simply update the\n",
        "`KERAS_BACKEND` below.\n",
        "\n",
        "This guide demonstrates our modular approach using a sentiment analysis example at six\n",
        "levels of complexity:\n",
        "\n",
        "* Inference with a pretrained classifier\n",
        "* Fine tuning a pretrained backbone\n",
        "* Fine tuning with user-controlled preprocessing\n",
        "* Fine tuning a custom model\n",
        "* Pretraining a backbone model\n",
        "* Build and train your own transformer from scratch\n",
        "\n",
        "Throughout our guide, we use Professor Keras, the official Keras mascot, as a visual\n",
        "reference for the complexity of the material:\n",
        "\n",
        "<img src=\"https://storage.googleapis.com/keras-nlp/getting_started_guide/prof_keras_evolution.png\" alt=\"drawing\" height=\"250\"/>"
      ]
    },
    {
      "cell_type": "code",
      "execution_count": null,
      "metadata": {
        "id": "wk5HF6Qoo5lL",
        "outputId": "faabd98d-61fc-4625-8792-d01a0f8a210c",
        "colab": {
          "base_uri": "https://localhost:8080/"
        }
      },
      "outputs": [
        {
          "output_type": "stream",
          "name": "stdout",
          "text": [
            "\u001b[2K     \u001b[90m━━━━━━━━━━━━━━━━━━━━━━━━━━━━━━━━━━━━━━━━\u001b[0m \u001b[32m508.4/508.4 kB\u001b[0m \u001b[31m8.0 MB/s\u001b[0m eta \u001b[36m0:00:00\u001b[0m\n",
            "\u001b[2K     \u001b[90m━━━━━━━━━━━━━━━━━━━━━━━━━━━━━━━━━━━━━━━━\u001b[0m \u001b[32m950.8/950.8 kB\u001b[0m \u001b[31m14.9 MB/s\u001b[0m eta \u001b[36m0:00:00\u001b[0m\n",
            "\u001b[2K     \u001b[90m━━━━━━━━━━━━━━━━━━━━━━━━━━━━━━━━━━━━━━━━\u001b[0m \u001b[32m5.2/5.2 MB\u001b[0m \u001b[31m28.4 MB/s\u001b[0m eta \u001b[36m0:00:00\u001b[0m\n",
            "\u001b[2K     \u001b[90m━━━━━━━━━━━━━━━━━━━━━━━━━━━━━━━━━━━━━━━━\u001b[0m \u001b[32m589.8/589.8 MB\u001b[0m \u001b[31m2.8 MB/s\u001b[0m eta \u001b[36m0:00:00\u001b[0m\n",
            "\u001b[2K     \u001b[90m━━━━━━━━━━━━━━━━━━━━━━━━━━━━━━━━━━━━━━━━\u001b[0m \u001b[32m5.3/5.3 MB\u001b[0m \u001b[31m102.8 MB/s\u001b[0m eta \u001b[36m0:00:00\u001b[0m\n",
            "\u001b[2K     \u001b[90m━━━━━━━━━━━━━━━━━━━━━━━━━━━━━━━━━━━━━━━━\u001b[0m \u001b[32m2.2/2.2 MB\u001b[0m \u001b[31m86.3 MB/s\u001b[0m eta \u001b[36m0:00:00\u001b[0m\n",
            "\u001b[2K     \u001b[90m━━━━━━━━━━━━━━━━━━━━━━━━━━━━━━━━━━━━━━━━\u001b[0m \u001b[32m5.5/5.5 MB\u001b[0m \u001b[31m99.1 MB/s\u001b[0m eta \u001b[36m0:00:00\u001b[0m\n",
            "\u001b[2K     \u001b[90m━━━━━━━━━━━━━━━━━━━━━━━━━━━━━━━━━━━━━━━━\u001b[0m \u001b[32m1.1/1.1 MB\u001b[0m \u001b[31m71.7 MB/s\u001b[0m eta \u001b[36m0:00:00\u001b[0m\n",
            "\u001b[2K     \u001b[90m━━━━━━━━━━━━━━━━━━━━━━━━━━━━━━━━━━━━━━━━\u001b[0m \u001b[32m311.2/311.2 kB\u001b[0m \u001b[31m35.3 MB/s\u001b[0m eta \u001b[36m0:00:00\u001b[0m\n",
            "\u001b[?25h\u001b[31mERROR: pip's dependency resolver does not currently take into account all the packages that are installed. This behaviour is the source of the following dependency conflicts.\n",
            "tf-keras 2.15.1 requires tensorflow<2.16,>=2.15, but you have tensorflow 2.16.1 which is incompatible.\u001b[0m\u001b[31m\n",
            "\u001b[0m"
          ]
        }
      ],
      "source": [
        "!pip install -q --upgrade keras-nlp\n",
        "!pip install -q --upgrade keras  # Upgrade to Keras 3."
      ]
    },
    {
      "cell_type": "code",
      "execution_count": null,
      "metadata": {
        "id": "yevIENu5o5lN"
      },
      "outputs": [],
      "source": [
        "import os\n",
        "\n",
        "os.environ[\"KERAS_BACKEND\"] = \"jax\"  # or \"tensorflow\" or \"torch\"\n",
        "\n",
        "import keras_nlp\n",
        "import keras\n",
        "\n",
        "# Use mixed precision to speed up all training in this guide.\n",
        "keras.mixed_precision.set_global_policy(\"mixed_float16\")"
      ]
    },
    {
      "cell_type": "markdown",
      "metadata": {
        "id": "I3JP2xQdo5lP"
      },
      "source": [
        "## API quickstart\n",
        "\n",
        "Our highest level API is `keras_nlp.models`. These symbols cover the complete user\n",
        "journey of converting strings to tokens, tokens to dense features, and dense features to\n",
        "task-specific output. For each `XX` architecture (e.g., `Bert`), we offer the following\n",
        "modules:\n",
        "\n",
        "* **Tokenizer**: `keras_nlp.models.XXTokenizer`\n",
        "  * **What it does**: Converts strings to sequences of token ids.\n",
        "  * **Why it's important**: The raw bytes of a string are too high dimensional to be useful\n",
        "    features so we first map them to a small number of tokens, for example `\"The quick brown\n",
        "    fox\"` to `[\"the\", \"qu\", \"##ick\", \"br\", \"##own\", \"fox\"]`.\n",
        "  * **Inherits from**: `keras.layers.Layer`.\n",
        "* **Preprocessor**: `keras_nlp.models.XXPreprocessor`\n",
        "  * **What it does**: Converts strings to a dictionary of preprocessed tensors consumed by\n",
        "    the backbone, starting with tokenization.\n",
        "  * **Why it's important**: Each model uses special tokens and extra tensors to understand\n",
        "    the input such as delimiting input segments and identifying padding tokens. Padding each\n",
        "    sequence to the same length improves computational efficiency.\n",
        "  * **Has a**: `XXTokenizer`.\n",
        "  * **Inherits from**: `keras.layers.Layer`.\n",
        "* **Backbone**: `keras_nlp.models.XXBackbone`\n",
        "  * **What it does**: Converts preprocessed tensors to dense features. *Does not handle\n",
        "    strings; call the preprocessor first.*\n",
        "  * **Why it's important**: The backbone distills the input tokens into dense features that\n",
        "    can be used in downstream tasks. It is generally pretrained on a language modeling task\n",
        "    using massive amounts of unlabeled data. Transferring this information to a new task is a\n",
        "    major breakthrough in modern NLP.\n",
        "  * **Inherits from**: `keras.Model`.\n",
        "* **Task**: e.g., `keras_nlp.models.XXClassifier`\n",
        "  * **What it does**: Converts strings to task-specific output (e.g., classification\n",
        "    probabilities).\n",
        "  * **Why it's important**: Task models combine string preprocessing and the backbone model\n",
        "    with task-specific `Layers` to solve a problem such as sentence classification, token\n",
        "    classification, or text generation. The additional `Layers` must be fine-tuned on labeled\n",
        "    data.\n",
        "  * **Has a**: `XXBackbone` and `XXPreprocessor`.\n",
        "  * **Inherits from**: `keras.Model`.\n",
        "\n",
        "Here is the modular hierarchy for `BertClassifier` (all relationships are compositional):\n",
        "\n",
        "<img src=\"https://storage.googleapis.com/keras-nlp/getting_started_guide/class_diagram.png\" alt=\"drawing\" height=\"300\"/>\n",
        "\n",
        "All modules can be used independently and have a `from_preset()` method in addition to\n",
        "the standard constructor that instantiates the class with **preset** architecture and\n",
        "weights (see examples below)."
      ]
    },
    {
      "cell_type": "markdown",
      "metadata": {
        "id": "qx48D7wLo5lR"
      },
      "source": [
        "## Data\n",
        "\n",
        "We will use a running example of sentiment analysis of IMDB movie reviews. In this task,\n",
        "we use the text to predict whether the review was positive (`label = 1`) or negative\n",
        "(`label = 0`).\n",
        "\n",
        "We load the data using `keras.utils.text_dataset_from_directory`, which utilizes the\n",
        "powerful `tf.data.Dataset` format for examples."
      ]
    },
    {
      "cell_type": "code",
      "execution_count": null,
      "metadata": {
        "id": "yMczxnD6o5lS",
        "outputId": "21575445-bd9e-4e5b-daae-09a509bd321e",
        "colab": {
          "base_uri": "https://localhost:8080/"
        }
      },
      "outputs": [
        {
          "output_type": "stream",
          "name": "stdout",
          "text": [
            "  % Total    % Received % Xferd  Average Speed   Time    Time     Time  Current\n",
            "                                 Dload  Upload   Total   Spent    Left  Speed\n",
            "100 80.2M  100 80.2M    0     0  9350k      0  0:00:08  0:00:08 --:--:--  9.9M\n"
          ]
        }
      ],
      "source": [
        "!curl -O https://ai.stanford.edu/~amaas/data/sentiment/aclImdb_v1.tar.gz\n",
        "!tar -xf aclImdb_v1.tar.gz\n",
        "!# Remove unsupervised examples\n",
        "!rm -r aclImdb/train/unsup"
      ]
    },
    {
      "cell_type": "code",
      "execution_count": null,
      "metadata": {
        "id": "j8xpxbSyo5lT",
        "outputId": "82cffbc6-de7b-4142-b48a-345edef4e864",
        "colab": {
          "base_uri": "https://localhost:8080/"
        }
      },
      "outputs": [
        {
          "output_type": "stream",
          "name": "stdout",
          "text": [
            "Found 25000 files belonging to 2 classes.\n",
            "Found 25000 files belonging to 2 classes.\n",
            "(<tf.Tensor: shape=(), dtype=string, numpy=b'I was really excited about seeing this film. I thought finally Australia had made a good film.. but I was wrong.<br /><br />This was the most pathetic attempt at a slasher film ever. I feel sorry for Molly Ringwald having to come all the way to Australia to make an awful movie.<br /><br />The acting was terrible (especially that Australian guy who was trying to speak in an American accent), and the plot was also pretty bad.<br /><br />When I first heard about this film coming out, I thought that the title was pathetic (because it sounds like the cheesy film \"Stab\" in Scream 2), but I was willing to let it slide if it was a good movie.<br /><br />WARNING!!! MAJOR SPOILERS!!!<br /><br />Probably the worst thing about the film was the ending. I was expecting a big surprise about who the killer was.. but the killer wasn\\'t even human.. which turned this realistic slasher film into an awful horror movie.<br /><br />Don\\'t see this film.. you\\'ll probably be disappointed!'>, <tf.Tensor: shape=(), dtype=int32, numpy=1>)\n"
          ]
        }
      ],
      "source": [
        "BATCH_SIZE = 16\n",
        "imdb_train = keras.utils.text_dataset_from_directory(\n",
        "    \"aclImdb/train\",\n",
        "    batch_size=BATCH_SIZE,\n",
        ")\n",
        "imdb_test = keras.utils.text_dataset_from_directory(\n",
        "    \"aclImdb/test\",\n",
        "    batch_size=BATCH_SIZE,\n",
        ")\n",
        "\n",
        "# Inspect first review\n",
        "# Format is (review text tensor, label tensor)\n",
        "print(imdb_train.unbatch().take(1).get_single_element())\n"
      ]
    },
    {
      "cell_type": "markdown",
      "metadata": {
        "id": "WoU_9pKSo5lU"
      },
      "source": [
        "## Inference with a pretrained classifier\n",
        "\n",
        "<img src=\"https://storage.googleapis.com/keras-nlp/getting_started_guide/prof_keras_beginner.png\" alt=\"drawing\" height=\"250\"/>\n",
        "\n",
        "The highest level module in KerasNLP is a **task**. A **task** is a `keras.Model`\n",
        "consisting of a (generally pretrained) **backbone** model and task-specific layers.\n",
        "Here's an example using `keras_nlp.models.BertClassifier`.\n",
        "\n",
        "**Note**: Outputs are the logits per class (e.g., `[0, 0]` is 50% chance of positive). The output is\n",
        "[negative, positive] for binary classification."
      ]
    },
    {
      "cell_type": "code",
      "execution_count": null,
      "metadata": {
        "id": "mQOGWIJMo5lW",
        "outputId": "3e172990-08d1-49e8-f637-74c0417ec70b",
        "colab": {
          "base_uri": "https://localhost:8080/"
        }
      },
      "outputs": [
        {
          "output_type": "stream",
          "name": "stderr",
          "text": [
            "Downloading from https://www.kaggle.com/api/v1/models/keras/bert/keras/bert_tiny_en_uncased_sst2/3/download/config.json...\n",
            "100%|██████████| 2.14k/2.14k [00:00<00:00, 1.43MB/s]\n",
            "Downloading from https://www.kaggle.com/api/v1/models/keras/bert/keras/bert_tiny_en_uncased_sst2/3/download/assets/tokenizer/vocabulary.txt...\n",
            "100%|██████████| 226k/226k [00:00<00:00, 1.05MB/s]\n",
            "Downloading from https://www.kaggle.com/api/v1/models/keras/bert/keras/bert_tiny_en_uncased_sst2/3/download/model.weights.h5...\n",
            "100%|██████████| 16.8M/16.8M [00:00<00:00, 23.9MB/s]\n",
            "/usr/local/lib/python3.10/dist-packages/keras/src/saving/saving_lib.py:418: UserWarning: Skipping variable loading for optimizer 'loss_scale_optimizer', because it has 4 variables whereas the saved optimizer has 2 variables. \n",
            "  trackable.load_own_variables(weights_store.get(inner_path))\n",
            "/usr/local/lib/python3.10/dist-packages/keras/src/saving/saving_lib.py:418: UserWarning: Skipping variable loading for optimizer 'adam', because it has 2 variables whereas the saved optimizer has 0 variables. \n",
            "  trackable.load_own_variables(weights_store.get(inner_path))\n"
          ]
        },
        {
          "output_type": "stream",
          "name": "stdout",
          "text": [
            "\u001b[1m1/1\u001b[0m \u001b[32m━━━━━━━━━━━━━━━━━━━━\u001b[0m\u001b[37m\u001b[0m \u001b[1m2s\u001b[0m 2s/step\n"
          ]
        },
        {
          "output_type": "execute_result",
          "data": {
            "text/plain": [
              "array([[-1.54 ,  1.543]], dtype=float16)"
            ]
          },
          "metadata": {},
          "execution_count": 5
        }
      ],
      "source": [
        "classifier = keras_nlp.models.BertClassifier.from_preset(\"bert_tiny_en_uncased_sst2\")\n",
        "# Note: batched inputs expected so must wrap string in iterable\n",
        "classifier.predict([\"I love modular workflows in keras-nlp!\"])"
      ]
    },
    {
      "cell_type": "markdown",
      "metadata": {
        "id": "9zeRdOfso5lW"
      },
      "source": [
        "All **tasks** have a `from_preset` method that constructs a `keras.Model` instance with\n",
        "preset preprocessing, architecture and weights. This means that we can pass raw strings\n",
        "in any format accepted by a `keras.Model` and get output specific to our task.\n",
        "\n",
        "This particular **preset** is a `\"bert_tiny_uncased_en\"` **backbone** fine-tuned on\n",
        "`sst2`, another movie review sentiment analysis (this time from Rotten Tomatoes). We use\n",
        "the `tiny` architecture for demo purposes, but larger models are recommended for SoTA\n",
        "performance. For all the task-specific presets available for `BertClassifier`, see\n",
        "our keras.io [models page](https://keras.io/api/keras_nlp/models/).\n",
        "\n",
        "Let's evaluate our classifier on the IMDB dataset. You will note we don't need to\n",
        "call `keras.Model.compile` here. All **task** models like `BertClassifier` ship with\n",
        "compilation defaults, meaning we can just call `keras.Model.evaluate` directly. You\n",
        "can always call compile as normal to override these defaults (e.g. to add new metrics).\n",
        "\n",
        "The output below is [loss, accuracy],"
      ]
    },
    {
      "cell_type": "code",
      "execution_count": null,
      "metadata": {
        "id": "3LdthpMJo5lX"
      },
      "outputs": [],
      "source": [
        "classifier.evaluate(imdb_test)"
      ]
    },
    {
      "cell_type": "markdown",
      "metadata": {
        "id": "9DJINSUao5lY"
      },
      "source": [
        "Our result is 78% accuracy without training anything. Not bad!"
      ]
    },
    {
      "cell_type": "markdown",
      "metadata": {
        "id": "g4Q9n5Vso5lY"
      },
      "source": [
        "## Fine tuning a pretrained BERT backbone\n",
        "\n",
        "<img src=\"https://storage.googleapis.com/keras-nlp/getting_started_guide/prof_keras_intermediate.png\" alt=\"drawing\" height=\"250\"/>\n",
        "\n",
        "When labeled text specific to our task is available, fine-tuning a custom classifier can\n",
        "improve performance. If we want to predict IMDB review sentiment, using IMDB data should\n",
        "perform better than Rotten Tomatoes data! And for many tasks, no relevant pretrained model\n",
        "will be available (e.g., categorizing customer reviews).\n",
        "\n",
        "The workflow for fine-tuning is almost identical to above, except that we request a\n",
        "**preset** for the **backbone**-only model rather than the entire classifier. When passed\n",
        "a **backbone** **preset**, a **task** `Model` will randomly initialize all task-specific\n",
        "layers in preparation for training. For all the **backbone** presets available for\n",
        "`BertClassifier`, see our keras.io [models page](https://keras.io/api/keras_nlp/models/).\n",
        "\n",
        "To train your classifier, use `keras.Model.fit` as with any other\n",
        "`keras.Model`. As with our inference example, we can rely on the compilation\n",
        "defaults for the **task** and skip `keras.Model.compile`. As preprocessing is\n",
        "included, we again pass the raw data."
      ]
    },
    {
      "cell_type": "code",
      "execution_count": null,
      "metadata": {
        "id": "WJ2hkUYIo5lZ",
        "outputId": "d02f16b5-1876-4dd8-fb3e-8dbf3c4d24a0",
        "colab": {
          "base_uri": "https://localhost:8080/"
        }
      },
      "outputs": [
        {
          "output_type": "stream",
          "name": "stderr",
          "text": [
            "Downloading from https://www.kaggle.com/api/v1/models/keras/bert/keras/bert_tiny_en_uncased/2/download/config.json...\n",
            "100%|██████████| 507/507 [00:00<00:00, 1.31MB/s]\n",
            "Downloading from https://www.kaggle.com/api/v1/models/keras/bert/keras/bert_tiny_en_uncased/2/download/model.weights.h5...\n",
            "100%|██████████| 16.8M/16.8M [00:00<00:00, 24.0MB/s]\n",
            "Downloading from https://www.kaggle.com/api/v1/models/keras/bert/keras/bert_tiny_en_uncased/2/download/tokenizer.json...\n",
            "100%|██████████| 547/547 [00:00<00:00, 386kB/s]\n",
            "Downloading from https://www.kaggle.com/api/v1/models/keras/bert/keras/bert_tiny_en_uncased/2/download/assets/tokenizer/vocabulary.txt...\n",
            "100%|██████████| 226k/226k [00:00<00:00, 1.06MB/s]\n"
          ]
        },
        {
          "output_type": "stream",
          "name": "stdout",
          "text": [
            "\u001b[1m1563/1563\u001b[0m \u001b[32m━━━━━━━━━━━━━━━━━━━━\u001b[0m\u001b[37m\u001b[0m \u001b[1m60s\u001b[0m 34ms/step - loss: 0.5178 - sparse_categorical_accuracy: 0.7308 - val_loss: 0.3026 - val_sparse_categorical_accuracy: 0.8736\n"
          ]
        },
        {
          "output_type": "execute_result",
          "data": {
            "text/plain": [
              "<keras.src.callbacks.history.History at 0x7812b036ab30>"
            ]
          },
          "metadata": {},
          "execution_count": 6
        }
      ],
      "source": [
        "classifier = keras_nlp.models.BertClassifier.from_preset(\n",
        "    \"bert_tiny_en_uncased\",\n",
        "    num_classes=2,\n",
        ")\n",
        "classifier.fit(\n",
        "    imdb_train,\n",
        "    validation_data=imdb_test,\n",
        "    epochs=1,\n",
        ")"
      ]
    },
    {
      "cell_type": "markdown",
      "metadata": {
        "id": "A32FL6CRo5lZ"
      },
      "source": [
        "Here we see a significant lift in validation accuracy (0.78 -> 0.87) with a single epoch of\n",
        "training even though the IMDB dataset is much smaller than `sst2`."
      ]
    },
    {
      "cell_type": "markdown",
      "metadata": {
        "id": "O-XD3jcoo5la"
      },
      "source": [
        "## Fine tuning with user-controlled preprocessing\n",
        "<img src=\"https://storage.googleapis.com/keras-nlp/getting_started_guide/prof_keras_advanced.png\" alt=\"drawing\" height=\"250\"/>\n",
        "\n",
        "For some advanced training scenarios, users might prefer direct control over\n",
        "preprocessing. For large datasets, examples can be preprocessed in advance and saved to\n",
        "disk or preprocessed by a separate worker pool using `tf.data.experimental.service`. In\n",
        "other cases, custom preprocessing is needed to handle the inputs.\n",
        "\n",
        "Pass `preprocessor=None` to the constructor of a **task** `Model` to skip automatic\n",
        "preprocessing or pass a custom `BertPreprocessor` instead."
      ]
    },
    {
      "cell_type": "markdown",
      "metadata": {
        "id": "OOt7HaiNo5la"
      },
      "source": [
        "### Separate preprocessing from the same preset\n",
        "\n",
        "Each model architecture has a parallel **preprocessor** `Layer` with its own\n",
        "`from_preset` constructor. Using the same **preset** for this `Layer` will return the\n",
        "matching **preprocessor** as the **task**.\n",
        "\n",
        "In this workflow we train the model over three epochs using `tf.data.Dataset.cache()`,\n",
        "which computes the preprocessing once and caches the result before fitting begins.\n",
        "\n",
        "**Note:** we can use `tf.data` for preprocessing while running on the\n",
        "Jax or PyTorch backend. The input dataset will automatically be converted to\n",
        "backend native tensor types during fit. In fact, given the efficiency of `tf.data`\n",
        "for running preprocessing, this is good practice on all backends."
      ]
    },
    {
      "cell_type": "code",
      "execution_count": null,
      "metadata": {
        "id": "HQUAIhcZo5lc",
        "outputId": "d8891d33-34a2-4b79-b8ee-b5314a759f56",
        "colab": {
          "base_uri": "https://localhost:8080/"
        }
      },
      "outputs": [
        {
          "output_type": "stream",
          "name": "stdout",
          "text": [
            "Epoch 1/3\n",
            "\u001b[1m1563/1563\u001b[0m \u001b[32m━━━━━━━━━━━━━━━━━━━━\u001b[0m\u001b[37m\u001b[0m \u001b[1m57s\u001b[0m 34ms/step - loss: 0.5136 - sparse_categorical_accuracy: 0.7325 - val_loss: 0.3100 - val_sparse_categorical_accuracy: 0.8686\n",
            "Epoch 2/3\n",
            "\u001b[1m1563/1563\u001b[0m \u001b[32m━━━━━━━━━━━━━━━━━━━━\u001b[0m\u001b[37m\u001b[0m \u001b[1m48s\u001b[0m 29ms/step - loss: 0.2905 - sparse_categorical_accuracy: 0.8786 - val_loss: 0.2940 - val_sparse_categorical_accuracy: 0.8799\n",
            "Epoch 3/3\n",
            "\u001b[1m1563/1563\u001b[0m \u001b[32m━━━━━━━━━━━━━━━━━━━━\u001b[0m\u001b[37m\u001b[0m \u001b[1m48s\u001b[0m 31ms/step - loss: 0.2150 - sparse_categorical_accuracy: 0.9192 - val_loss: 0.3197 - val_sparse_categorical_accuracy: 0.8769\n"
          ]
        },
        {
          "output_type": "execute_result",
          "data": {
            "text/plain": [
              "<keras.src.callbacks.history.History at 0x7812486d3af0>"
            ]
          },
          "metadata": {},
          "execution_count": 7
        }
      ],
      "source": [
        "import tensorflow as tf\n",
        "\n",
        "preprocessor = keras_nlp.models.BertPreprocessor.from_preset(\n",
        "    \"bert_tiny_en_uncased\",\n",
        "    sequence_length=512,\n",
        ")\n",
        "\n",
        "# Apply the preprocessor to every sample of train and test data using `map()`.\n",
        "# `tf.data.AUTOTUNE` and `prefetch()` are options to tune performance, see\n",
        "# https://www.tensorflow.org/guide/data_performance for details.\n",
        "\n",
        "# Note: only call `cache()` if you training data fits in CPU memory!\n",
        "imdb_train_cached = (\n",
        "    imdb_train.map(preprocessor, tf.data.AUTOTUNE).cache().prefetch(tf.data.AUTOTUNE)\n",
        ")\n",
        "imdb_test_cached = (\n",
        "    imdb_test.map(preprocessor, tf.data.AUTOTUNE).cache().prefetch(tf.data.AUTOTUNE)\n",
        ")\n",
        "\n",
        "classifier = keras_nlp.models.BertClassifier.from_preset(\n",
        "    \"bert_tiny_en_uncased\", preprocessor=None, num_classes=2\n",
        ")\n",
        "classifier.fit(\n",
        "    imdb_train_cached,\n",
        "    validation_data=imdb_test_cached,\n",
        "    epochs=3,\n",
        ")"
      ]
    },
    {
      "cell_type": "markdown",
      "metadata": {
        "id": "pbWvGjTWo5lc"
      },
      "source": [
        "After three epochs, our validation accuracy has only increased to 0.88. This is both a\n",
        "function of the small size of our dataset and our model. To exceed 90% accuracy, try\n",
        "larger **presets** such as  `\"bert_base_en_uncased\"`. For all the **backbone** presets\n",
        "available for `BertClassifier`, see our keras.io [models page](https://keras.io/api/keras_nlp/models/)."
      ]
    },
    {
      "cell_type": "markdown",
      "metadata": {
        "id": "k5u2A9Nqo5ld"
      },
      "source": [
        "### Custom preprocessing\n",
        "\n",
        "In cases where custom preprocessing is required, we offer direct access to the\n",
        "`Tokenizer` class that maps raw strings to tokens. It also has a `from_preset()`\n",
        "constructor to get the vocabulary matching pretraining.\n",
        "\n",
        "**Note:** `BertTokenizer` does not pad sequences by default, so the output is\n",
        "ragged (each sequence has varying length). The `MultiSegmentPacker` below\n",
        "handles padding these ragged sequences to dense tensor types (e.g. `tf.Tensor`\n",
        "or `torch.Tensor`)."
      ]
    },
    {
      "cell_type": "code",
      "execution_count": null,
      "metadata": {
        "id": "MWWmuTu6o5ld",
        "outputId": "8eb7cbf1-c72e-4f2f-d4e8-ff5dc5c48959",
        "colab": {
          "base_uri": "https://localhost:8080/"
        }
      },
      "outputs": [
        {
          "output_type": "stream",
          "name": "stdout",
          "text": [
            "({'token_ids': <tf.Tensor: shape=(64,), dtype=int32, numpy=\n",
            "array([  101,  3581,  6178,  2527,  1005,  1055, 14842,  2442,  2031,\n",
            "        2042,  2074,  2055,  2985,  2011,  1996,  2051,  2002,  2081,\n",
            "        2023,  2143,  1012,  2096,  2009,  2038,  1037,  2261, 11951,\n",
            "        5312,  1010,  1998,  2116,  6919,  9567,  1010,  6178,  2527,\n",
            "        1005,  1055, 13848, 17874,  1997,  2025,  2074,  1996,  5896,\n",
            "        2021,  6196,  8333,  2013,  2010,  2034,  2544,  1997,  2023,\n",
            "        2466,  1010,  5934,  3021,  1006,  4579,  1007,  1010,  2003,\n",
            "         102], dtype=int32)>, 'segment_ids': <tf.Tensor: shape=(64,), dtype=int32, numpy=\n",
            "array([0, 0, 0, 0, 0, 0, 0, 0, 0, 0, 0, 0, 0, 0, 0, 0, 0, 0, 0, 0, 0, 0,\n",
            "       0, 0, 0, 0, 0, 0, 0, 0, 0, 0, 0, 0, 0, 0, 0, 0, 0, 0, 0, 0, 0, 0,\n",
            "       0, 0, 0, 0, 0, 0, 0, 0, 0, 0, 0, 0, 0, 0, 0, 0, 0, 0, 0, 0],\n",
            "      dtype=int32)>, 'padding_mask': <tf.Tensor: shape=(64,), dtype=bool, numpy=\n",
            "array([ True,  True,  True,  True,  True,  True,  True,  True,  True,\n",
            "        True,  True,  True,  True,  True,  True,  True,  True,  True,\n",
            "        True,  True,  True,  True,  True,  True,  True,  True,  True,\n",
            "        True,  True,  True,  True,  True,  True,  True,  True,  True,\n",
            "        True,  True,  True,  True,  True,  True,  True,  True,  True,\n",
            "        True,  True,  True,  True,  True,  True,  True,  True,  True,\n",
            "        True,  True,  True,  True,  True,  True,  True,  True,  True,\n",
            "        True])>}, <tf.Tensor: shape=(), dtype=int32, numpy=0>)\n"
          ]
        }
      ],
      "source": [
        "tokenizer = keras_nlp.models.BertTokenizer.from_preset(\"bert_tiny_en_uncased\")\n",
        "tokenizer([\"I love modular workflows!\", \"Libraries over frameworks!\"])\n",
        "\n",
        "# Write your own packer or use one of our `Layers`\n",
        "packer = keras_nlp.layers.MultiSegmentPacker(\n",
        "    start_value=tokenizer.cls_token_id,\n",
        "    end_value=tokenizer.sep_token_id,\n",
        "    # Note: This cannot be longer than the preset's `sequence_length`, and there\n",
        "    # is no check for a custom preprocessor!\n",
        "    sequence_length=64,\n",
        ")\n",
        "\n",
        "\n",
        "# This function that takes a text sample `x` and its\n",
        "# corresponding label `y` as input and converts the\n",
        "# text into a format suitable for input into a BERT model.\n",
        "def preprocessor(x, y):\n",
        "    token_ids, segment_ids = packer(tokenizer(x))\n",
        "    x = {\n",
        "        \"token_ids\": token_ids,\n",
        "        \"segment_ids\": segment_ids,\n",
        "        \"padding_mask\": token_ids != 0,\n",
        "    }\n",
        "    return x, y\n",
        "\n",
        "\n",
        "imdb_train_preprocessed = imdb_train.map(preprocessor, tf.data.AUTOTUNE).prefetch(\n",
        "    tf.data.AUTOTUNE\n",
        ")\n",
        "imdb_test_preprocessed = imdb_test.map(preprocessor, tf.data.AUTOTUNE).prefetch(\n",
        "    tf.data.AUTOTUNE\n",
        ")\n",
        "\n",
        "# Preprocessed example\n",
        "print(imdb_train_preprocessed.unbatch().take(1).get_single_element())"
      ]
    },
    {
      "cell_type": "markdown",
      "metadata": {
        "id": "G-l2B_Ado5ld"
      },
      "source": [
        "## Fine tuning with a custom model\n",
        "<img src=\"https://storage.googleapis.com/keras-nlp/getting_started_guide/prof_keras_advanced.png\" alt=\"drawing\" height=\"250\"/>\n",
        "\n",
        "For more advanced applications, an appropriate **task** `Model` may not be available. In\n",
        "this case, we provide direct access to the **backbone** `Model`, which has its own\n",
        "`from_preset` constructor and can be composed with custom `Layer`s. Detailed examples can\n",
        "be found at our [transfer learning guide](https://keras.io/guides/transfer_learning/).\n",
        "\n",
        "A **backbone** `Model` does not include automatic preprocessing but can be paired with a\n",
        "matching **preprocessor** using the same **preset** as shown in the previous workflow.\n",
        "\n",
        "In this workflow, we experiment with freezing our backbone model and adding two trainable\n",
        "transformer layers to adapt to the new input.\n",
        "\n",
        "**Note**: We can ignore the warning about gradients for the `pooled_dense` layer because\n",
        "we are using BERT's sequence output."
      ]
    },
    {
      "cell_type": "code",
      "execution_count": null,
      "metadata": {
        "id": "gF72LjUvo5le",
        "outputId": "ae3b8797-d3fb-4af5-b0c4-260226f1d78f",
        "colab": {
          "base_uri": "https://localhost:8080/",
          "height": 618
        }
      },
      "outputs": [
        {
          "output_type": "display_data",
          "data": {
            "text/plain": [
              "\u001b[1mModel: \"functional_1\"\u001b[0m\n"
            ],
            "text/html": [
              "<pre style=\"white-space:pre;overflow-x:auto;line-height:normal;font-family:Menlo,'DejaVu Sans Mono',consolas,'Courier New',monospace\"><span style=\"font-weight: bold\">Model: \"functional_1\"</span>\n",
              "</pre>\n"
            ]
          },
          "metadata": {}
        },
        {
          "output_type": "display_data",
          "data": {
            "text/plain": [
              "┏━━━━━━━━━━━━━━━━━━━━━━━━━━━┳━━━━━━━━━━━━━━━━━━━━━━━━┳━━━━━━━━━━━━━━━━┳━━━━━━━━━━━━━━━━━━━━━━━━┓\n",
              "┃\u001b[1m \u001b[0m\u001b[1mLayer (type)             \u001b[0m\u001b[1m \u001b[0m┃\u001b[1m \u001b[0m\u001b[1mOutput Shape          \u001b[0m\u001b[1m \u001b[0m┃\u001b[1m \u001b[0m\u001b[1m       Param #\u001b[0m\u001b[1m \u001b[0m┃\u001b[1m \u001b[0m\u001b[1mConnected to          \u001b[0m\u001b[1m \u001b[0m┃\n",
              "┡━━━━━━━━━━━━━━━━━━━━━━━━━━━╇━━━━━━━━━━━━━━━━━━━━━━━━╇━━━━━━━━━━━━━━━━╇━━━━━━━━━━━━━━━━━━━━━━━━┩\n",
              "│ padding_mask (\u001b[38;5;33mInputLayer\u001b[0m) │ (\u001b[38;5;45mNone\u001b[0m, \u001b[38;5;45mNone\u001b[0m)           │              \u001b[38;5;34m0\u001b[0m │ -                      │\n",
              "├───────────────────────────┼────────────────────────┼────────────────┼────────────────────────┤\n",
              "│ segment_ids (\u001b[38;5;33mInputLayer\u001b[0m)  │ (\u001b[38;5;45mNone\u001b[0m, \u001b[38;5;45mNone\u001b[0m)           │              \u001b[38;5;34m0\u001b[0m │ -                      │\n",
              "├───────────────────────────┼────────────────────────┼────────────────┼────────────────────────┤\n",
              "│ token_ids (\u001b[38;5;33mInputLayer\u001b[0m)    │ (\u001b[38;5;45mNone\u001b[0m, \u001b[38;5;45mNone\u001b[0m)           │              \u001b[38;5;34m0\u001b[0m │ -                      │\n",
              "├───────────────────────────┼────────────────────────┼────────────────┼────────────────────────┤\n",
              "│ bert_backbone             │ [(\u001b[38;5;45mNone\u001b[0m, \u001b[38;5;34m128\u001b[0m), (\u001b[38;5;45mNone\u001b[0m,   │      \u001b[38;5;34m4,385,920\u001b[0m │ padding_mask[\u001b[38;5;34m0\u001b[0m][\u001b[38;5;34m0\u001b[0m],    │\n",
              "│ (\u001b[38;5;33mBertBackbone\u001b[0m)            │ \u001b[38;5;45mNone\u001b[0m, \u001b[38;5;34m128\u001b[0m)]            │                │ segment_ids[\u001b[38;5;34m0\u001b[0m][\u001b[38;5;34m0\u001b[0m],     │\n",
              "│                           │                        │                │ token_ids[\u001b[38;5;34m0\u001b[0m][\u001b[38;5;34m0\u001b[0m]        │\n",
              "├───────────────────────────┼────────────────────────┼────────────────┼────────────────────────┤\n",
              "│ transformer_encoder       │ (\u001b[38;5;45mNone\u001b[0m, \u001b[38;5;45mNone\u001b[0m, \u001b[38;5;34m128\u001b[0m)      │        \u001b[38;5;34m198,272\u001b[0m │ bert_backbone[\u001b[38;5;34m0\u001b[0m][\u001b[38;5;34m1\u001b[0m]    │\n",
              "│ (\u001b[38;5;33mTransformerEncoder\u001b[0m)      │                        │                │                        │\n",
              "├───────────────────────────┼────────────────────────┼────────────────┼────────────────────────┤\n",
              "│ transformer_encoder_1     │ (\u001b[38;5;45mNone\u001b[0m, \u001b[38;5;45mNone\u001b[0m, \u001b[38;5;34m128\u001b[0m)      │        \u001b[38;5;34m198,272\u001b[0m │ transformer_encoder[\u001b[38;5;34m0\u001b[0m… │\n",
              "│ (\u001b[38;5;33mTransformerEncoder\u001b[0m)      │                        │                │                        │\n",
              "├───────────────────────────┼────────────────────────┼────────────────┼────────────────────────┤\n",
              "│ get_item_4 (\u001b[38;5;33mGetItem\u001b[0m)      │ (\u001b[38;5;45mNone\u001b[0m, \u001b[38;5;34m128\u001b[0m)            │              \u001b[38;5;34m0\u001b[0m │ transformer_encoder_1… │\n",
              "├───────────────────────────┼────────────────────────┼────────────────┼────────────────────────┤\n",
              "│ dense (\u001b[38;5;33mDense\u001b[0m)             │ (\u001b[38;5;45mNone\u001b[0m, \u001b[38;5;34m2\u001b[0m)              │            \u001b[38;5;34m258\u001b[0m │ get_item_4[\u001b[38;5;34m0\u001b[0m][\u001b[38;5;34m0\u001b[0m]       │\n",
              "└───────────────────────────┴────────────────────────┴────────────────┴────────────────────────┘\n"
            ],
            "text/html": [
              "<pre style=\"white-space:pre;overflow-x:auto;line-height:normal;font-family:Menlo,'DejaVu Sans Mono',consolas,'Courier New',monospace\">┏━━━━━━━━━━━━━━━━━━━━━━━━━━━┳━━━━━━━━━━━━━━━━━━━━━━━━┳━━━━━━━━━━━━━━━━┳━━━━━━━━━━━━━━━━━━━━━━━━┓\n",
              "┃<span style=\"font-weight: bold\"> Layer (type)              </span>┃<span style=\"font-weight: bold\"> Output Shape           </span>┃<span style=\"font-weight: bold\">        Param # </span>┃<span style=\"font-weight: bold\"> Connected to           </span>┃\n",
              "┡━━━━━━━━━━━━━━━━━━━━━━━━━━━╇━━━━━━━━━━━━━━━━━━━━━━━━╇━━━━━━━━━━━━━━━━╇━━━━━━━━━━━━━━━━━━━━━━━━┩\n",
              "│ padding_mask (<span style=\"color: #0087ff; text-decoration-color: #0087ff\">InputLayer</span>) │ (<span style=\"color: #00d7ff; text-decoration-color: #00d7ff\">None</span>, <span style=\"color: #00d7ff; text-decoration-color: #00d7ff\">None</span>)           │              <span style=\"color: #00af00; text-decoration-color: #00af00\">0</span> │ -                      │\n",
              "├───────────────────────────┼────────────────────────┼────────────────┼────────────────────────┤\n",
              "│ segment_ids (<span style=\"color: #0087ff; text-decoration-color: #0087ff\">InputLayer</span>)  │ (<span style=\"color: #00d7ff; text-decoration-color: #00d7ff\">None</span>, <span style=\"color: #00d7ff; text-decoration-color: #00d7ff\">None</span>)           │              <span style=\"color: #00af00; text-decoration-color: #00af00\">0</span> │ -                      │\n",
              "├───────────────────────────┼────────────────────────┼────────────────┼────────────────────────┤\n",
              "│ token_ids (<span style=\"color: #0087ff; text-decoration-color: #0087ff\">InputLayer</span>)    │ (<span style=\"color: #00d7ff; text-decoration-color: #00d7ff\">None</span>, <span style=\"color: #00d7ff; text-decoration-color: #00d7ff\">None</span>)           │              <span style=\"color: #00af00; text-decoration-color: #00af00\">0</span> │ -                      │\n",
              "├───────────────────────────┼────────────────────────┼────────────────┼────────────────────────┤\n",
              "│ bert_backbone             │ [(<span style=\"color: #00d7ff; text-decoration-color: #00d7ff\">None</span>, <span style=\"color: #00af00; text-decoration-color: #00af00\">128</span>), (<span style=\"color: #00d7ff; text-decoration-color: #00d7ff\">None</span>,   │      <span style=\"color: #00af00; text-decoration-color: #00af00\">4,385,920</span> │ padding_mask[<span style=\"color: #00af00; text-decoration-color: #00af00\">0</span>][<span style=\"color: #00af00; text-decoration-color: #00af00\">0</span>],    │\n",
              "│ (<span style=\"color: #0087ff; text-decoration-color: #0087ff\">BertBackbone</span>)            │ <span style=\"color: #00d7ff; text-decoration-color: #00d7ff\">None</span>, <span style=\"color: #00af00; text-decoration-color: #00af00\">128</span>)]            │                │ segment_ids[<span style=\"color: #00af00; text-decoration-color: #00af00\">0</span>][<span style=\"color: #00af00; text-decoration-color: #00af00\">0</span>],     │\n",
              "│                           │                        │                │ token_ids[<span style=\"color: #00af00; text-decoration-color: #00af00\">0</span>][<span style=\"color: #00af00; text-decoration-color: #00af00\">0</span>]        │\n",
              "├───────────────────────────┼────────────────────────┼────────────────┼────────────────────────┤\n",
              "│ transformer_encoder       │ (<span style=\"color: #00d7ff; text-decoration-color: #00d7ff\">None</span>, <span style=\"color: #00d7ff; text-decoration-color: #00d7ff\">None</span>, <span style=\"color: #00af00; text-decoration-color: #00af00\">128</span>)      │        <span style=\"color: #00af00; text-decoration-color: #00af00\">198,272</span> │ bert_backbone[<span style=\"color: #00af00; text-decoration-color: #00af00\">0</span>][<span style=\"color: #00af00; text-decoration-color: #00af00\">1</span>]    │\n",
              "│ (<span style=\"color: #0087ff; text-decoration-color: #0087ff\">TransformerEncoder</span>)      │                        │                │                        │\n",
              "├───────────────────────────┼────────────────────────┼────────────────┼────────────────────────┤\n",
              "│ transformer_encoder_1     │ (<span style=\"color: #00d7ff; text-decoration-color: #00d7ff\">None</span>, <span style=\"color: #00d7ff; text-decoration-color: #00d7ff\">None</span>, <span style=\"color: #00af00; text-decoration-color: #00af00\">128</span>)      │        <span style=\"color: #00af00; text-decoration-color: #00af00\">198,272</span> │ transformer_encoder[<span style=\"color: #00af00; text-decoration-color: #00af00\">0</span>… │\n",
              "│ (<span style=\"color: #0087ff; text-decoration-color: #0087ff\">TransformerEncoder</span>)      │                        │                │                        │\n",
              "├───────────────────────────┼────────────────────────┼────────────────┼────────────────────────┤\n",
              "│ get_item_4 (<span style=\"color: #0087ff; text-decoration-color: #0087ff\">GetItem</span>)      │ (<span style=\"color: #00d7ff; text-decoration-color: #00d7ff\">None</span>, <span style=\"color: #00af00; text-decoration-color: #00af00\">128</span>)            │              <span style=\"color: #00af00; text-decoration-color: #00af00\">0</span> │ transformer_encoder_1… │\n",
              "├───────────────────────────┼────────────────────────┼────────────────┼────────────────────────┤\n",
              "│ dense (<span style=\"color: #0087ff; text-decoration-color: #0087ff\">Dense</span>)             │ (<span style=\"color: #00d7ff; text-decoration-color: #00d7ff\">None</span>, <span style=\"color: #00af00; text-decoration-color: #00af00\">2</span>)              │            <span style=\"color: #00af00; text-decoration-color: #00af00\">258</span> │ get_item_4[<span style=\"color: #00af00; text-decoration-color: #00af00\">0</span>][<span style=\"color: #00af00; text-decoration-color: #00af00\">0</span>]       │\n",
              "└───────────────────────────┴────────────────────────┴────────────────┴────────────────────────┘\n",
              "</pre>\n"
            ]
          },
          "metadata": {}
        },
        {
          "output_type": "display_data",
          "data": {
            "text/plain": [
              "\u001b[1m Total params: \u001b[0m\u001b[38;5;34m4,782,722\u001b[0m (18.24 MB)\n"
            ],
            "text/html": [
              "<pre style=\"white-space:pre;overflow-x:auto;line-height:normal;font-family:Menlo,'DejaVu Sans Mono',consolas,'Courier New',monospace\"><span style=\"font-weight: bold\"> Total params: </span><span style=\"color: #00af00; text-decoration-color: #00af00\">4,782,722</span> (18.24 MB)\n",
              "</pre>\n"
            ]
          },
          "metadata": {}
        },
        {
          "output_type": "display_data",
          "data": {
            "text/plain": [
              "\u001b[1m Trainable params: \u001b[0m\u001b[38;5;34m396,802\u001b[0m (1.51 MB)\n"
            ],
            "text/html": [
              "<pre style=\"white-space:pre;overflow-x:auto;line-height:normal;font-family:Menlo,'DejaVu Sans Mono',consolas,'Courier New',monospace\"><span style=\"font-weight: bold\"> Trainable params: </span><span style=\"color: #00af00; text-decoration-color: #00af00\">396,802</span> (1.51 MB)\n",
              "</pre>\n"
            ]
          },
          "metadata": {}
        },
        {
          "output_type": "display_data",
          "data": {
            "text/plain": [
              "\u001b[1m Non-trainable params: \u001b[0m\u001b[38;5;34m4,385,920\u001b[0m (16.73 MB)\n"
            ],
            "text/html": [
              "<pre style=\"white-space:pre;overflow-x:auto;line-height:normal;font-family:Menlo,'DejaVu Sans Mono',consolas,'Courier New',monospace\"><span style=\"font-weight: bold\"> Non-trainable params: </span><span style=\"color: #00af00; text-decoration-color: #00af00\">4,385,920</span> (16.73 MB)\n",
              "</pre>\n"
            ]
          },
          "metadata": {}
        },
        {
          "output_type": "stream",
          "name": "stdout",
          "text": [
            "Epoch 1/3\n",
            "\u001b[1m1563/1563\u001b[0m \u001b[32m━━━━━━━━━━━━━━━━━━━━\u001b[0m\u001b[37m\u001b[0m \u001b[1m58s\u001b[0m 34ms/step - loss: 0.6184 - sparse_categorical_accuracy: 0.6566 - val_loss: 0.5179 - val_sparse_categorical_accuracy: 0.7439\n",
            "Epoch 2/3\n",
            "\u001b[1m1563/1563\u001b[0m \u001b[32m━━━━━━━━━━━━━━━━━━━━\u001b[0m\u001b[37m\u001b[0m \u001b[1m51s\u001b[0m 31ms/step - loss: 0.5310 - sparse_categorical_accuracy: 0.7352 - val_loss: 0.4746 - val_sparse_categorical_accuracy: 0.7759\n",
            "Epoch 3/3\n",
            "\u001b[1m1563/1563\u001b[0m \u001b[32m━━━━━━━━━━━━━━━━━━━━\u001b[0m\u001b[37m\u001b[0m \u001b[1m51s\u001b[0m 33ms/step - loss: 0.4755 - sparse_categorical_accuracy: 0.7741 - val_loss: 0.4190 - val_sparse_categorical_accuracy: 0.8083\n"
          ]
        },
        {
          "output_type": "execute_result",
          "data": {
            "text/plain": [
              "<keras.src.callbacks.history.History at 0x780f6c8a7f70>"
            ]
          },
          "metadata": {},
          "execution_count": 9
        }
      ],
      "source": [
        "preprocessor = keras_nlp.models.BertPreprocessor.from_preset(\"bert_tiny_en_uncased\")\n",
        "backbone = keras_nlp.models.BertBackbone.from_preset(\"bert_tiny_en_uncased\")\n",
        "\n",
        "imdb_train_preprocessed = (\n",
        "    imdb_train.map(preprocessor, tf.data.AUTOTUNE).cache().prefetch(tf.data.AUTOTUNE)\n",
        ")\n",
        "imdb_test_preprocessed = (\n",
        "    imdb_test.map(preprocessor, tf.data.AUTOTUNE).cache().prefetch(tf.data.AUTOTUNE)\n",
        ")\n",
        "\n",
        "backbone.trainable = False\n",
        "inputs = backbone.input\n",
        "sequence = backbone(inputs)[\"sequence_output\"]\n",
        "for _ in range(2):\n",
        "    sequence = keras_nlp.layers.TransformerEncoder(\n",
        "        num_heads=2,\n",
        "        intermediate_dim=512,\n",
        "        dropout=0.1,\n",
        "    )(sequence)\n",
        "# Use [CLS] token output to classify\n",
        "outputs = keras.layers.Dense(2)(sequence[:, backbone.cls_token_index, :])\n",
        "\n",
        "model = keras.Model(inputs, outputs)\n",
        "model.compile(\n",
        "    loss=keras.losses.SparseCategoricalCrossentropy(from_logits=True),\n",
        "    optimizer=keras.optimizers.AdamW(5e-5),\n",
        "    metrics=[keras.metrics.SparseCategoricalAccuracy()],\n",
        "    jit_compile=True,\n",
        ")\n",
        "model.summary()\n",
        "model.fit(\n",
        "    imdb_train_preprocessed,\n",
        "    validation_data=imdb_test_preprocessed,\n",
        "    epochs=3,\n",
        ")"
      ]
    },
    {
      "cell_type": "markdown",
      "metadata": {
        "id": "ZaKCW-EWo5le"
      },
      "source": [
        "This model achieves reasonable accuracy despite having only 10% of the trainable parameters\n",
        "of our `BertClassifier` model. Each training step takes about 1/3 of the time---even\n",
        "accounting for cached preprocessing."
      ]
    },
    {
      "cell_type": "markdown",
      "metadata": {
        "id": "RcWWliQRo5lf"
      },
      "source": [
        "## Pretraining a backbone model\n",
        "<img src=\"https://storage.googleapis.com/keras-nlp/getting_started_guide/prof_keras_expert.png\" alt=\"drawing\" height=\"250\"/>\n",
        "\n",
        "Do you have access to large unlabeled datasets in your domain? Are they around the\n",
        "same size as used to train popular backbones such as BERT, RoBERTa, or GPT2 (XX+ GiB)? If\n",
        "so, you might benefit from domain-specific pretraining of your own backbone models.\n",
        "\n",
        "NLP models are generally pretrained on a language modeling task, predicting masked words\n",
        "given the visible words in an input sentence. For example, given the input\n",
        "`\"The fox [MASK] over the [MASK] dog\"`, the model might be asked to predict `[\"jumped\", \"lazy\"]`.\n",
        "The lower layers of this model are then packaged as a **backbone** to be combined with\n",
        "layers relating to a new task.\n",
        "\n",
        "The KerasNLP library offers SoTA **backbones** and **tokenizers** to be trained from\n",
        "scratch without presets.\n",
        "\n",
        "In this workflow, we pretrain a BERT **backbone** using our IMDB review text. We skip the\n",
        "\"next sentence prediction\" (NSP) loss because it adds significant complexity to the data\n",
        "processing and was dropped by later models like RoBERTa. See our e2e\n",
        "[Transformer pretraining](https://keras.io/guides/keras_nlp/transformer_pretraining/#pretraining)\n",
        "for step-by-step details on how to replicate the original paper."
      ]
    },
    {
      "cell_type": "markdown",
      "metadata": {
        "id": "yujN0f25o5lf"
      },
      "source": [
        "### Preprocessing"
      ]
    },
    {
      "cell_type": "code",
      "execution_count": null,
      "metadata": {
        "id": "TFGkPvkHo5lg",
        "outputId": "9879b087-7dcf-4a7b-b988-12a13e643a01",
        "colab": {
          "base_uri": "https://localhost:8080/"
        }
      },
      "outputs": [
        {
          "output_type": "stream",
          "name": "stdout",
          "text": [
            "({'token_ids': <tf.Tensor: shape=(256,), dtype=int32, numpy=\n",
            "array([  101,  1045,  2034,  2387,  2023, 29931,   103,  1037,  3653,\n",
            "        1011,  9458,   103,  2055,  1996,  2287,  2043,  4268,   103,\n",
            "        2000,  2228,  2083,   103, 16967,   103,  9888,  2001,   103,\n",
            "        5360,   103,  1996,  3496,  1997,  1996,  2158,   103,  1996,\n",
            "        2336,  2040,  2002, 13275,  2004,  2010,   103,  1012,  1996,\n",
            "        7310,  2879,  2038,   103, 19982, 14706,  2008,  2010,  2388,\n",
            "         103,  1037, 19215,  1998,  3904,  1997,  2010,  9504, 19271,\n",
            "        1996,  2168,  6897,  2269,  1006,  2029, 13970,  7352, 10830,\n",
            "         103,  5793,  2011,  2383,   103,  2040,   103,   103,   103,\n",
            "         103,  2060,  1007,   103,   103,  2158,  2145, 13984,  2015,\n",
            "       27793,  2879,   103,  2002,  2003,  2037,  2269,  2011,  1996,\n",
            "        2069,  2192,  2008,  9294,   103,   103,  2158,   103,   103,\n",
            "        2000,  2022,  2269,  2011,  2035,  1997,  1996,  2336,  2021,\n",
            "        2028,  1010,  2040,  2145, 19233,  2014,  2567,  1012,  1026,\n",
            "         103,  1013,  1028,  1026,  7987,  1013,  1028,  2169,   103,\n",
            "        1996,  6819, 10177, 14581,   103,   103, 17075,  2005,  2037,\n",
            "        2219,  3441,  1998, 15306,  1012,   103,  7987,  1013,  1028,\n",
            "        1026,  7987,  1013,   103,  2009,  1005,  1055,  1037,   103,\n",
            "        2143,  1010,  2130,   103,  2009,  2003,  2025,  1996,  4602,\n",
            "       22788,   103, 10830,  2143,  1012,   102,     0,     0,     0,\n",
            "           0,     0,     0,     0,     0,     0,     0,     0,     0,\n",
            "           0,     0,     0,     0,     0,     0,     0,     0,     0,\n",
            "           0,     0,     0,     0,     0,     0,     0,     0,     0,\n",
            "           0,     0,     0,     0,     0,     0,     0,     0,     0,\n",
            "           0,     0,     0,     0,     0,     0,     0,     0,     0,\n",
            "           0,     0,     0,     0,     0,     0,     0,     0,     0,\n",
            "           0,     0,     0,     0,     0,     0,     0,     0,     0,\n",
            "           0,     0,     0,     0,     0,     0,     0,     0,     0,\n",
            "           0,     0,     0,     0], dtype=int32)>, 'segment_ids': <tf.Tensor: shape=(256,), dtype=int32, numpy=\n",
            "array([0, 0, 0, 0, 0, 0, 0, 0, 0, 0, 0, 0, 0, 0, 0, 0, 0, 0, 0, 0, 0, 0,\n",
            "       0, 0, 0, 0, 0, 0, 0, 0, 0, 0, 0, 0, 0, 0, 0, 0, 0, 0, 0, 0, 0, 0,\n",
            "       0, 0, 0, 0, 0, 0, 0, 0, 0, 0, 0, 0, 0, 0, 0, 0, 0, 0, 0, 0, 0, 0,\n",
            "       0, 0, 0, 0, 0, 0, 0, 0, 0, 0, 0, 0, 0, 0, 0, 0, 0, 0, 0, 0, 0, 0,\n",
            "       0, 0, 0, 0, 0, 0, 0, 0, 0, 0, 0, 0, 0, 0, 0, 0, 0, 0, 0, 0, 0, 0,\n",
            "       0, 0, 0, 0, 0, 0, 0, 0, 0, 0, 0, 0, 0, 0, 0, 0, 0, 0, 0, 0, 0, 0,\n",
            "       0, 0, 0, 0, 0, 0, 0, 0, 0, 0, 0, 0, 0, 0, 0, 0, 0, 0, 0, 0, 0, 0,\n",
            "       0, 0, 0, 0, 0, 0, 0, 0, 0, 0, 0, 0, 0, 0, 0, 0, 0, 0, 0, 0, 0, 0,\n",
            "       0, 0, 0, 0, 0, 0, 0, 0, 0, 0, 0, 0, 0, 0, 0, 0, 0, 0, 0, 0, 0, 0,\n",
            "       0, 0, 0, 0, 0, 0, 0, 0, 0, 0, 0, 0, 0, 0, 0, 0, 0, 0, 0, 0, 0, 0,\n",
            "       0, 0, 0, 0, 0, 0, 0, 0, 0, 0, 0, 0, 0, 0, 0, 0, 0, 0, 0, 0, 0, 0,\n",
            "       0, 0, 0, 0, 0, 0, 0, 0, 0, 0, 0, 0, 0, 0], dtype=int32)>, 'padding_mask': <tf.Tensor: shape=(256,), dtype=bool, numpy=\n",
            "array([ True,  True,  True,  True,  True,  True,  True,  True,  True,\n",
            "        True,  True,  True,  True,  True,  True,  True,  True,  True,\n",
            "        True,  True,  True,  True,  True,  True,  True,  True,  True,\n",
            "        True,  True,  True,  True,  True,  True,  True,  True,  True,\n",
            "        True,  True,  True,  True,  True,  True,  True,  True,  True,\n",
            "        True,  True,  True,  True,  True,  True,  True,  True,  True,\n",
            "        True,  True,  True,  True,  True,  True,  True,  True,  True,\n",
            "        True,  True,  True,  True,  True,  True,  True,  True,  True,\n",
            "        True,  True,  True,  True,  True,  True,  True,  True,  True,\n",
            "        True,  True,  True,  True,  True,  True,  True,  True,  True,\n",
            "        True,  True,  True,  True,  True,  True,  True,  True,  True,\n",
            "        True,  True,  True,  True,  True,  True,  True,  True,  True,\n",
            "        True,  True,  True,  True,  True,  True,  True,  True,  True,\n",
            "        True,  True,  True,  True,  True,  True,  True,  True,  True,\n",
            "        True,  True,  True,  True,  True,  True,  True,  True,  True,\n",
            "        True,  True,  True,  True,  True,  True,  True,  True,  True,\n",
            "        True,  True,  True,  True,  True,  True,  True,  True,  True,\n",
            "        True,  True,  True,  True,  True,  True,  True,  True,  True,\n",
            "        True,  True,  True,  True,  True,  True,  True,  True,  True,\n",
            "        True,  True,  True,  True,  True,  True, False, False, False,\n",
            "       False, False, False, False, False, False, False, False, False,\n",
            "       False, False, False, False, False, False, False, False, False,\n",
            "       False, False, False, False, False, False, False, False, False,\n",
            "       False, False, False, False, False, False, False, False, False,\n",
            "       False, False, False, False, False, False, False, False, False,\n",
            "       False, False, False, False, False, False, False, False, False,\n",
            "       False, False, False, False, False, False, False, False, False,\n",
            "       False, False, False, False, False, False, False, False, False,\n",
            "       False, False, False, False])>, 'mask_positions': <tf.Tensor: shape=(64,), dtype=int64, numpy=\n",
            "array([  5,   6,  11,  17,  21,  22,  23,  24,  26,  28,  34,  42,  48,\n",
            "        51,  54,  55,  62,  72,  75,  76,  78,  79,  80,  81,  84,  85,\n",
            "        90,  92, 100, 103, 104, 106, 107, 126, 134, 139, 140, 149, 156,\n",
            "       161, 164, 165, 171, 172,   0,   0,   0,   0,   0,   0,   0,   0,\n",
            "         0,   0,   0,   0,   0,   0,   0,   0,   0,   0,   0,   0])>}, <tf.Tensor: shape=(64,), dtype=int32, numpy=\n",
            "array([ 3185,  2004,  1010,  2707,  2037,  4767,  1012,  1045,  6551,\n",
            "        2011,  1998,  2219,  2042,  2008,  2003,  1037,  2031,  3084,\n",
            "        2383,  2336,  2298,  2498,  2066,  2169,  1012,  1996, 27793,\n",
            "        2008,  6210,  1012,  1996,  2003, 10251,  7987,  1997,  2024,\n",
            "       10655,  1026,  1028,  2307,  2130,  2065, 13970,  7352,     0,\n",
            "           0,     0,     0,     0,     0,     0,     0,     0,     0,\n",
            "           0,     0,     0,     0,     0,     0,     0,     0,     0,\n",
            "           0], dtype=int32)>, <tf.Tensor: shape=(64,), dtype=float16, numpy=\n",
            "array([1., 1., 1., 1., 1., 1., 1., 1., 1., 1., 1., 1., 1., 1., 1., 1., 1.,\n",
            "       1., 1., 1., 1., 1., 1., 1., 1., 1., 1., 1., 1., 1., 1., 1., 1., 1.,\n",
            "       1., 1., 1., 1., 1., 1., 1., 1., 1., 1., 0., 0., 0., 0., 0., 0., 0.,\n",
            "       0., 0., 0., 0., 0., 0., 0., 0., 0., 0., 0., 0., 0.], dtype=float16)>)\n"
          ]
        }
      ],
      "source": [
        "# All BERT `en` models have the same vocabulary, so reuse preprocessor from\n",
        "# \"bert_tiny_en_uncased\"\n",
        "preprocessor = keras_nlp.models.BertPreprocessor.from_preset(\n",
        "    \"bert_tiny_en_uncased\",\n",
        "    sequence_length=256,\n",
        ")\n",
        "packer = preprocessor.packer\n",
        "tokenizer = preprocessor.tokenizer\n",
        "\n",
        "# keras.Layer to replace some input tokens with the \"[MASK]\" token\n",
        "masker = keras_nlp.layers.MaskedLMMaskGenerator(\n",
        "    vocabulary_size=tokenizer.vocabulary_size(),\n",
        "    mask_selection_rate=0.25,\n",
        "    mask_selection_length=64,\n",
        "    mask_token_id=tokenizer.token_to_id(\"[MASK]\"),\n",
        "    unselectable_token_ids=[\n",
        "        tokenizer.token_to_id(x) for x in [\"[CLS]\", \"[PAD]\", \"[SEP]\"]\n",
        "    ],\n",
        ")\n",
        "\n",
        "\n",
        "def preprocess(inputs, label):\n",
        "    inputs = preprocessor(inputs)\n",
        "    masked_inputs = masker(inputs[\"token_ids\"])\n",
        "    # Split the masking layer outputs into a (features, labels, and weights)\n",
        "    # tuple that we can use with keras.Model.fit().\n",
        "    features = {\n",
        "        \"token_ids\": masked_inputs[\"token_ids\"],\n",
        "        \"segment_ids\": inputs[\"segment_ids\"],\n",
        "        \"padding_mask\": inputs[\"padding_mask\"],\n",
        "        \"mask_positions\": masked_inputs[\"mask_positions\"],\n",
        "    }\n",
        "    labels = masked_inputs[\"mask_ids\"]\n",
        "    weights = masked_inputs[\"mask_weights\"]\n",
        "    return features, labels, weights\n",
        "\n",
        "\n",
        "pretrain_ds = imdb_train.map(preprocess, num_parallel_calls=tf.data.AUTOTUNE).prefetch(\n",
        "    tf.data.AUTOTUNE\n",
        ")\n",
        "pretrain_val_ds = imdb_test.map(\n",
        "    preprocess, num_parallel_calls=tf.data.AUTOTUNE\n",
        ").prefetch(tf.data.AUTOTUNE)\n",
        "\n",
        "# Tokens with ID 103 are \"masked\"\n",
        "print(pretrain_ds.unbatch().take(1).get_single_element())"
      ]
    },
    {
      "cell_type": "markdown",
      "metadata": {
        "id": "HGBvzvS-o5lh"
      },
      "source": [
        "### Pretraining model"
      ]
    },
    {
      "cell_type": "code",
      "execution_count": null,
      "metadata": {
        "id": "sVoO1b5no5li",
        "outputId": "4246eb96-c499-4ee2-d270-083799ece01e",
        "colab": {
          "base_uri": "https://localhost:8080/",
          "height": 567
        }
      },
      "outputs": [
        {
          "output_type": "display_data",
          "data": {
            "text/plain": [
              "\u001b[1mModel: \"functional_3\"\u001b[0m\n"
            ],
            "text/html": [
              "<pre style=\"white-space:pre;overflow-x:auto;line-height:normal;font-family:Menlo,'DejaVu Sans Mono',consolas,'Courier New',monospace\"><span style=\"font-weight: bold\">Model: \"functional_3\"</span>\n",
              "</pre>\n"
            ]
          },
          "metadata": {}
        },
        {
          "output_type": "display_data",
          "data": {
            "text/plain": [
              "┏━━━━━━━━━━━━━━━━━━━━━━━━━━━┳━━━━━━━━━━━━━━━━━━━━━━━━┳━━━━━━━━━━━━━━━━┳━━━━━━━━━━━━━━━━━━━━━━━━┓\n",
              "┃\u001b[1m \u001b[0m\u001b[1mLayer (type)             \u001b[0m\u001b[1m \u001b[0m┃\u001b[1m \u001b[0m\u001b[1mOutput Shape          \u001b[0m\u001b[1m \u001b[0m┃\u001b[1m \u001b[0m\u001b[1m       Param #\u001b[0m\u001b[1m \u001b[0m┃\u001b[1m \u001b[0m\u001b[1mConnected to          \u001b[0m\u001b[1m \u001b[0m┃\n",
              "┡━━━━━━━━━━━━━━━━━━━━━━━━━━━╇━━━━━━━━━━━━━━━━━━━━━━━━╇━━━━━━━━━━━━━━━━╇━━━━━━━━━━━━━━━━━━━━━━━━┩\n",
              "│ mask_positions            │ (\u001b[38;5;45mNone\u001b[0m, \u001b[38;5;45mNone\u001b[0m)           │              \u001b[38;5;34m0\u001b[0m │ -                      │\n",
              "│ (\u001b[38;5;33mInputLayer\u001b[0m)              │                        │                │                        │\n",
              "├───────────────────────────┼────────────────────────┼────────────────┼────────────────────────┤\n",
              "│ padding_mask (\u001b[38;5;33mInputLayer\u001b[0m) │ (\u001b[38;5;45mNone\u001b[0m, \u001b[38;5;45mNone\u001b[0m)           │              \u001b[38;5;34m0\u001b[0m │ -                      │\n",
              "├───────────────────────────┼────────────────────────┼────────────────┼────────────────────────┤\n",
              "│ segment_ids (\u001b[38;5;33mInputLayer\u001b[0m)  │ (\u001b[38;5;45mNone\u001b[0m, \u001b[38;5;45mNone\u001b[0m)           │              \u001b[38;5;34m0\u001b[0m │ -                      │\n",
              "├───────────────────────────┼────────────────────────┼────────────────┼────────────────────────┤\n",
              "│ token_ids (\u001b[38;5;33mInputLayer\u001b[0m)    │ (\u001b[38;5;45mNone\u001b[0m, \u001b[38;5;45mNone\u001b[0m)           │              \u001b[38;5;34m0\u001b[0m │ -                      │\n",
              "├───────────────────────────┼────────────────────────┼────────────────┼────────────────────────┤\n",
              "│ bert_backbone             │ [(\u001b[38;5;45mNone\u001b[0m, \u001b[38;5;34m128\u001b[0m), (\u001b[38;5;45mNone\u001b[0m,   │      \u001b[38;5;34m4,385,920\u001b[0m │ mask_positions[\u001b[38;5;34m0\u001b[0m][\u001b[38;5;34m0\u001b[0m],  │\n",
              "│ (\u001b[38;5;33mBertBackbone\u001b[0m)            │ \u001b[38;5;45mNone\u001b[0m, \u001b[38;5;34m128\u001b[0m)]            │                │ padding_mask[\u001b[38;5;34m0\u001b[0m][\u001b[38;5;34m0\u001b[0m],    │\n",
              "│                           │                        │                │ segment_ids[\u001b[38;5;34m0\u001b[0m][\u001b[38;5;34m0\u001b[0m],     │\n",
              "│                           │                        │                │ token_ids[\u001b[38;5;34m0\u001b[0m][\u001b[38;5;34m0\u001b[0m]        │\n",
              "├───────────────────────────┼────────────────────────┼────────────────┼────────────────────────┤\n",
              "│ masked_lm_head            │ (\u001b[38;5;45mNone\u001b[0m, \u001b[38;5;45mNone\u001b[0m, \u001b[38;5;34m30522\u001b[0m)    │      \u001b[38;5;34m3,954,106\u001b[0m │ bert_backbone[\u001b[38;5;34m0\u001b[0m][\u001b[38;5;34m1\u001b[0m],   │\n",
              "│ (\u001b[38;5;33mMaskedLMHead\u001b[0m)            │                        │                │ mask_positions[\u001b[38;5;34m0\u001b[0m][\u001b[38;5;34m0\u001b[0m]   │\n",
              "└───────────────────────────┴────────────────────────┴────────────────┴────────────────────────┘\n"
            ],
            "text/html": [
              "<pre style=\"white-space:pre;overflow-x:auto;line-height:normal;font-family:Menlo,'DejaVu Sans Mono',consolas,'Courier New',monospace\">┏━━━━━━━━━━━━━━━━━━━━━━━━━━━┳━━━━━━━━━━━━━━━━━━━━━━━━┳━━━━━━━━━━━━━━━━┳━━━━━━━━━━━━━━━━━━━━━━━━┓\n",
              "┃<span style=\"font-weight: bold\"> Layer (type)              </span>┃<span style=\"font-weight: bold\"> Output Shape           </span>┃<span style=\"font-weight: bold\">        Param # </span>┃<span style=\"font-weight: bold\"> Connected to           </span>┃\n",
              "┡━━━━━━━━━━━━━━━━━━━━━━━━━━━╇━━━━━━━━━━━━━━━━━━━━━━━━╇━━━━━━━━━━━━━━━━╇━━━━━━━━━━━━━━━━━━━━━━━━┩\n",
              "│ mask_positions            │ (<span style=\"color: #00d7ff; text-decoration-color: #00d7ff\">None</span>, <span style=\"color: #00d7ff; text-decoration-color: #00d7ff\">None</span>)           │              <span style=\"color: #00af00; text-decoration-color: #00af00\">0</span> │ -                      │\n",
              "│ (<span style=\"color: #0087ff; text-decoration-color: #0087ff\">InputLayer</span>)              │                        │                │                        │\n",
              "├───────────────────────────┼────────────────────────┼────────────────┼────────────────────────┤\n",
              "│ padding_mask (<span style=\"color: #0087ff; text-decoration-color: #0087ff\">InputLayer</span>) │ (<span style=\"color: #00d7ff; text-decoration-color: #00d7ff\">None</span>, <span style=\"color: #00d7ff; text-decoration-color: #00d7ff\">None</span>)           │              <span style=\"color: #00af00; text-decoration-color: #00af00\">0</span> │ -                      │\n",
              "├───────────────────────────┼────────────────────────┼────────────────┼────────────────────────┤\n",
              "│ segment_ids (<span style=\"color: #0087ff; text-decoration-color: #0087ff\">InputLayer</span>)  │ (<span style=\"color: #00d7ff; text-decoration-color: #00d7ff\">None</span>, <span style=\"color: #00d7ff; text-decoration-color: #00d7ff\">None</span>)           │              <span style=\"color: #00af00; text-decoration-color: #00af00\">0</span> │ -                      │\n",
              "├───────────────────────────┼────────────────────────┼────────────────┼────────────────────────┤\n",
              "│ token_ids (<span style=\"color: #0087ff; text-decoration-color: #0087ff\">InputLayer</span>)    │ (<span style=\"color: #00d7ff; text-decoration-color: #00d7ff\">None</span>, <span style=\"color: #00d7ff; text-decoration-color: #00d7ff\">None</span>)           │              <span style=\"color: #00af00; text-decoration-color: #00af00\">0</span> │ -                      │\n",
              "├───────────────────────────┼────────────────────────┼────────────────┼────────────────────────┤\n",
              "│ bert_backbone             │ [(<span style=\"color: #00d7ff; text-decoration-color: #00d7ff\">None</span>, <span style=\"color: #00af00; text-decoration-color: #00af00\">128</span>), (<span style=\"color: #00d7ff; text-decoration-color: #00d7ff\">None</span>,   │      <span style=\"color: #00af00; text-decoration-color: #00af00\">4,385,920</span> │ mask_positions[<span style=\"color: #00af00; text-decoration-color: #00af00\">0</span>][<span style=\"color: #00af00; text-decoration-color: #00af00\">0</span>],  │\n",
              "│ (<span style=\"color: #0087ff; text-decoration-color: #0087ff\">BertBackbone</span>)            │ <span style=\"color: #00d7ff; text-decoration-color: #00d7ff\">None</span>, <span style=\"color: #00af00; text-decoration-color: #00af00\">128</span>)]            │                │ padding_mask[<span style=\"color: #00af00; text-decoration-color: #00af00\">0</span>][<span style=\"color: #00af00; text-decoration-color: #00af00\">0</span>],    │\n",
              "│                           │                        │                │ segment_ids[<span style=\"color: #00af00; text-decoration-color: #00af00\">0</span>][<span style=\"color: #00af00; text-decoration-color: #00af00\">0</span>],     │\n",
              "│                           │                        │                │ token_ids[<span style=\"color: #00af00; text-decoration-color: #00af00\">0</span>][<span style=\"color: #00af00; text-decoration-color: #00af00\">0</span>]        │\n",
              "├───────────────────────────┼────────────────────────┼────────────────┼────────────────────────┤\n",
              "│ masked_lm_head            │ (<span style=\"color: #00d7ff; text-decoration-color: #00d7ff\">None</span>, <span style=\"color: #00d7ff; text-decoration-color: #00d7ff\">None</span>, <span style=\"color: #00af00; text-decoration-color: #00af00\">30522</span>)    │      <span style=\"color: #00af00; text-decoration-color: #00af00\">3,954,106</span> │ bert_backbone[<span style=\"color: #00af00; text-decoration-color: #00af00\">0</span>][<span style=\"color: #00af00; text-decoration-color: #00af00\">1</span>],   │\n",
              "│ (<span style=\"color: #0087ff; text-decoration-color: #0087ff\">MaskedLMHead</span>)            │                        │                │ mask_positions[<span style=\"color: #00af00; text-decoration-color: #00af00\">0</span>][<span style=\"color: #00af00; text-decoration-color: #00af00\">0</span>]   │\n",
              "└───────────────────────────┴────────────────────────┴────────────────┴────────────────────────┘\n",
              "</pre>\n"
            ]
          },
          "metadata": {}
        },
        {
          "output_type": "display_data",
          "data": {
            "text/plain": [
              "\u001b[1m Total params: \u001b[0m\u001b[38;5;34m4,433,210\u001b[0m (16.91 MB)\n"
            ],
            "text/html": [
              "<pre style=\"white-space:pre;overflow-x:auto;line-height:normal;font-family:Menlo,'DejaVu Sans Mono',consolas,'Courier New',monospace\"><span style=\"font-weight: bold\"> Total params: </span><span style=\"color: #00af00; text-decoration-color: #00af00\">4,433,210</span> (16.91 MB)\n",
              "</pre>\n"
            ]
          },
          "metadata": {}
        },
        {
          "output_type": "display_data",
          "data": {
            "text/plain": [
              "\u001b[1m Trainable params: \u001b[0m\u001b[38;5;34m4,433,210\u001b[0m (16.91 MB)\n"
            ],
            "text/html": [
              "<pre style=\"white-space:pre;overflow-x:auto;line-height:normal;font-family:Menlo,'DejaVu Sans Mono',consolas,'Courier New',monospace\"><span style=\"font-weight: bold\"> Trainable params: </span><span style=\"color: #00af00; text-decoration-color: #00af00\">4,433,210</span> (16.91 MB)\n",
              "</pre>\n"
            ]
          },
          "metadata": {}
        },
        {
          "output_type": "display_data",
          "data": {
            "text/plain": [
              "\u001b[1m Non-trainable params: \u001b[0m\u001b[38;5;34m0\u001b[0m (0.00 B)\n"
            ],
            "text/html": [
              "<pre style=\"white-space:pre;overflow-x:auto;line-height:normal;font-family:Menlo,'DejaVu Sans Mono',consolas,'Courier New',monospace\"><span style=\"font-weight: bold\"> Non-trainable params: </span><span style=\"color: #00af00; text-decoration-color: #00af00\">0</span> (0.00 B)\n",
              "</pre>\n"
            ]
          },
          "metadata": {}
        },
        {
          "output_type": "stream",
          "name": "stdout",
          "text": [
            "Epoch 1/3\n",
            "\u001b[1m1563/1563\u001b[0m \u001b[32m━━━━━━━━━━━━━━━━━━━━\u001b[0m\u001b[37m\u001b[0m \u001b[1m66s\u001b[0m 38ms/step - loss: 5.6141 - sparse_categorical_accuracy: 0.0626 - val_loss: 4.9689 - val_sparse_categorical_accuracy: 0.1182\n",
            "Epoch 2/3\n",
            "\u001b[1m1563/1563\u001b[0m \u001b[32m━━━━━━━━━━━━━━━━━━━━\u001b[0m\u001b[37m\u001b[0m \u001b[1m56s\u001b[0m 33ms/step - loss: 4.9889 - sparse_categorical_accuracy: 0.1212 - val_loss: 4.8677 - val_sparse_categorical_accuracy: 0.1341\n",
            "Epoch 3/3\n",
            "\u001b[1m1563/1563\u001b[0m \u001b[32m━━━━━━━━━━━━━━━━━━━━\u001b[0m\u001b[37m\u001b[0m \u001b[1m63s\u001b[0m 40ms/step - loss: 4.8911 - sparse_categorical_accuracy: 0.1370 - val_loss: 4.6353 - val_sparse_categorical_accuracy: 0.1834\n"
          ]
        },
        {
          "output_type": "execute_result",
          "data": {
            "text/plain": [
              "<keras.src.callbacks.history.History at 0x780f6d2de020>"
            ]
          },
          "metadata": {},
          "execution_count": 11
        }
      ],
      "source": [
        "# BERT backbone\n",
        "backbone = keras_nlp.models.BertBackbone(\n",
        "    vocabulary_size=tokenizer.vocabulary_size(),\n",
        "    num_layers=2,\n",
        "    num_heads=2,\n",
        "    hidden_dim=128,\n",
        "    intermediate_dim=512,\n",
        ")\n",
        "\n",
        "# Language modeling head\n",
        "mlm_head = keras_nlp.layers.MaskedLMHead(\n",
        "    token_embedding=backbone.token_embedding,\n",
        ")\n",
        "\n",
        "inputs = {\n",
        "    \"token_ids\": keras.Input(shape=(None,), dtype=tf.int32, name=\"token_ids\"),\n",
        "    \"segment_ids\": keras.Input(shape=(None,), dtype=tf.int32, name=\"segment_ids\"),\n",
        "    \"padding_mask\": keras.Input(shape=(None,), dtype=tf.int32, name=\"padding_mask\"),\n",
        "    \"mask_positions\": keras.Input(shape=(None,), dtype=tf.int32, name=\"mask_positions\"),\n",
        "}\n",
        "\n",
        "# Encoded token sequence\n",
        "sequence = backbone(inputs)[\"sequence_output\"]\n",
        "\n",
        "# Predict an output word for each masked input token.\n",
        "# We use the input token embedding to project from our encoded vectors to\n",
        "# vocabulary logits, which has been shown to improve training efficiency.\n",
        "outputs = mlm_head(sequence, mask_positions=inputs[\"mask_positions\"])\n",
        "\n",
        "# Define and compile our pretraining model.\n",
        "pretraining_model = keras.Model(inputs, outputs)\n",
        "pretraining_model.summary()\n",
        "pretraining_model.compile(\n",
        "    loss=keras.losses.SparseCategoricalCrossentropy(from_logits=True),\n",
        "    optimizer=keras.optimizers.AdamW(learning_rate=5e-4),\n",
        "    weighted_metrics=[keras.metrics.SparseCategoricalAccuracy()],\n",
        "    jit_compile=True,\n",
        ")\n",
        "\n",
        "# Pretrain on IMDB dataset\n",
        "pretraining_model.fit(\n",
        "    pretrain_ds,\n",
        "    validation_data=pretrain_val_ds,\n",
        "    epochs=3,  # Increase to 6 for higher accuracy\n",
        ")"
      ]
    },
    {
      "cell_type": "markdown",
      "metadata": {
        "id": "Kf2pey2Xo5li"
      },
      "source": [
        "After pretraining save your `backbone` submodel to use in a new task!"
      ]
    },
    {
      "cell_type": "markdown",
      "metadata": {
        "id": "e-I3rsc0o5lj"
      },
      "source": [
        "## Build and train your own transformer from scratch\n",
        "<img src=\"https://storage.googleapis.com/keras-nlp/getting_started_guide/prof_keras_expert.png\" alt=\"drawing\" height=\"250\"/>\n",
        "\n",
        "Want to implement a novel transformer architecture? The KerasNLP library offers all the\n",
        "low-level modules used to build SoTA architectures in our `models` API. This includes the\n",
        "`keras_nlp.tokenizers` API which allows you to train your own subword tokenizer using\n",
        "`WordPieceTokenizer`, `BytePairTokenizer`, or `SentencePieceTokenizer`.\n",
        "\n",
        "In this workflow, we train a custom tokenizer on the IMDB data and design a backbone with\n",
        "custom transformer architecture. For simplicity, we then train directly on the\n",
        "classification task. Interested in more details? We wrote an entire guide to pretraining\n",
        "and finetuning a custom transformer on\n",
        "[keras.io](https://keras.io/guides/keras_nlp/transformer_pretraining/),"
      ]
    },
    {
      "cell_type": "markdown",
      "metadata": {
        "id": "AqDuUczLo5lj"
      },
      "source": [
        "### Train custom vocabulary from IMDB data"
      ]
    },
    {
      "cell_type": "code",
      "execution_count": null,
      "metadata": {
        "id": "9Bk-ptSFo5lk"
      },
      "outputs": [],
      "source": [
        "vocab = keras_nlp.tokenizers.compute_word_piece_vocabulary(\n",
        "    imdb_train.map(lambda x, y: x),\n",
        "    vocabulary_size=20_000,\n",
        "    lowercase=True,\n",
        "    strip_accents=True,\n",
        "    reserved_tokens=[\"[PAD]\", \"[START]\", \"[END]\", \"[MASK]\", \"[UNK]\"],\n",
        ")\n",
        "tokenizer = keras_nlp.tokenizers.WordPieceTokenizer(\n",
        "    vocabulary=vocab,\n",
        "    lowercase=True,\n",
        "    strip_accents=True,\n",
        "    oov_token=\"[UNK]\",\n",
        ")"
      ]
    },
    {
      "cell_type": "markdown",
      "metadata": {
        "id": "13owb3Gjo5ll"
      },
      "source": [
        "### Preprocess data with a custom tokenizer"
      ]
    },
    {
      "cell_type": "code",
      "execution_count": null,
      "metadata": {
        "id": "h_En3CJjo5ll",
        "outputId": "82dfb04f-ef6e-40d0-a2fa-41c1384fed18",
        "colab": {
          "base_uri": "https://localhost:8080/"
        }
      },
      "outputs": [
        {
          "output_type": "stream",
          "name": "stdout",
          "text": [
            "(<tf.Tensor: shape=(512,), dtype=int32, numpy=\n",
            "array([    1,    52,    12,    56,    44,   180,  8344,   101, 13403,\n",
            "       11662,    17,   114,    99,   361,   587,   101,   107,   113,\n",
            "         137,   215,   118,   253,   111,   166,    19,    99,   158,\n",
            "        3202,   284,  3208,    13,    52,    12,   234,   332,  2216,\n",
            "         108,    99,   115,   103,  1113,    44,  2592,    14,    17,\n",
            "         100,   198,  1072,   100,  4629,   112,  2394,  2260,   628,\n",
            "          19,   144,   101,    99,  8262, 18389,   120,  2246,  1334,\n",
            "         996,  4537,  8744,    13,    48,    19,    50,    19,    17,\n",
            "           7,   230,    17,   116,    12,   250,   118,    44,   578,\n",
            "        1765,     6,     7,    18,    18,   694,   238,   102,   532,\n",
            "         111,    44,   292,    17,   647,  1679,    18,    18,     7,\n",
            "         116,    12,   250,    44,   337,     6,     7,   520,    17,\n",
            "         164,   286,   105,    99,   179,   152,    14,   114,   134,\n",
            "         120,    44,   267,   752,   943,   108,  7572,   111,  9607,\n",
            "         108,   209,  1072,    19,    13,   378,    12,    62,   938,\n",
            "          55,  7984,  8601,   100,   121,  4764,  1044,    12,    62,\n",
            "        4043,    17,   688,     6,    14,    99,   207,    17,   157,\n",
            "        2453,  8403,  5624,    13, 16352,   141,   118,  2722,    14,\n",
            "         109,  1297,   102,    99,   308,   108,   105,   109,   350,\n",
            "         102,   200,    19,   102,    99,   641,    12,    62,  1200,\n",
            "          17,   107,  1994,   109,  2065,   110,    44,   543,    17,\n",
            "         100,    44,   297,    18,  8920,  1112,   103,   118,  1099,\n",
            "         110,    99,   302,    18,   100,    18,   145, 17852,   101,\n",
            "         144,  1143,  6248,   202,    13,    48,    19,    50,    19,\n",
            "          17,     7,  4391,    18,   292,    18,  3204,     7,    14,\n",
            "          19, 11662,   508,    44,   145,   334,    17,   110,   742,\n",
            "          17,   114,    52,   197,   119,   142,   172,   223,    18,\n",
            "         623,   106,    99,   599,    18,    18,   119,   214,  4037,\n",
            "         331,   105,    44,   267,   307,   222,    17,  8523,    19,\n",
            "          52,   215,   457,    99,  4390,   943,    17,   100,   109,\n",
            "         150,  1688,   126,    99,  3572,    19,  6239,   282,   109,\n",
            "        1330,    17,   245,  9776,   282,    19,    99,   115,   142,\n",
            "         187,   485,    17,   114,   131,   324,    17,   105,    12,\n",
            "          62,   155,   317,    18,   610, 11662,   532,    19,     2,\n",
            "           0,     0,     0,     0,     0,     0,     0,     0,     0,\n",
            "           0,     0,     0,     0,     0,     0,     0,     0,     0,\n",
            "           0,     0,     0,     0,     0,     0,     0,     0,     0,\n",
            "           0,     0,     0,     0,     0,     0,     0,     0,     0,\n",
            "           0,     0,     0,     0,     0,     0,     0,     0,     0,\n",
            "           0,     0,     0,     0,     0,     0,     0,     0,     0,\n",
            "           0,     0,     0,     0,     0,     0,     0,     0,     0,\n",
            "           0,     0,     0,     0,     0,     0,     0,     0,     0,\n",
            "           0,     0,     0,     0,     0,     0,     0,     0,     0,\n",
            "           0,     0,     0,     0,     0,     0,     0,     0,     0,\n",
            "           0,     0,     0,     0,     0,     0,     0,     0,     0,\n",
            "           0,     0,     0,     0,     0,     0,     0,     0,     0,\n",
            "           0,     0,     0,     0,     0,     0,     0,     0,     0,\n",
            "           0,     0,     0,     0,     0,     0,     0,     0,     0,\n",
            "           0,     0,     0,     0,     0,     0,     0,     0,     0,\n",
            "           0,     0,     0,     0,     0,     0,     0,     0,     0,\n",
            "           0,     0,     0,     0,     0,     0,     0,     0,     0,\n",
            "           0,     0,     0,     0,     0,     0,     0,     0,     0,\n",
            "           0,     0,     0,     0,     0,     0,     0,     0,     0,\n",
            "           0,     0,     0,     0,     0,     0,     0,     0,     0,\n",
            "           0,     0,     0,     0,     0,     0,     0,     0,     0,\n",
            "           0,     0,     0,     0,     0,     0,     0,     0,     0,\n",
            "           0,     0,     0,     0,     0,     0,     0,     0],\n",
            "      dtype=int32)>, <tf.Tensor: shape=(), dtype=int32, numpy=0>)\n"
          ]
        }
      ],
      "source": [
        "packer = keras_nlp.layers.StartEndPacker(\n",
        "    start_value=tokenizer.token_to_id(\"[START]\"),\n",
        "    end_value=tokenizer.token_to_id(\"[END]\"),\n",
        "    pad_value=tokenizer.token_to_id(\"[PAD]\"),\n",
        "    sequence_length=512,\n",
        ")\n",
        "\n",
        "\n",
        "def preprocess(x, y):\n",
        "    token_ids = packer(tokenizer(x))\n",
        "    return token_ids, y\n",
        "\n",
        "\n",
        "imdb_preproc_train_ds = imdb_train.map(\n",
        "    preprocess, num_parallel_calls=tf.data.AUTOTUNE\n",
        ").prefetch(tf.data.AUTOTUNE)\n",
        "imdb_preproc_val_ds = imdb_test.map(\n",
        "    preprocess, num_parallel_calls=tf.data.AUTOTUNE\n",
        ").prefetch(tf.data.AUTOTUNE)\n",
        "\n",
        "print(imdb_preproc_train_ds.unbatch().take(1).get_single_element())"
      ]
    },
    {
      "cell_type": "markdown",
      "metadata": {
        "id": "jtyJHaGbo5ll"
      },
      "source": [
        "### Design a tiny transformer"
      ]
    },
    {
      "cell_type": "code",
      "execution_count": null,
      "metadata": {
        "id": "jBUC5Ok2o5lm",
        "outputId": "efd7f834-3618-4027-8479-338735881c97",
        "colab": {
          "base_uri": "https://localhost:8080/",
          "height": 340
        }
      },
      "outputs": [
        {
          "output_type": "display_data",
          "data": {
            "text/plain": [
              "\u001b[1mModel: \"functional_5\"\u001b[0m\n"
            ],
            "text/html": [
              "<pre style=\"white-space:pre;overflow-x:auto;line-height:normal;font-family:Menlo,'DejaVu Sans Mono',consolas,'Courier New',monospace\"><span style=\"font-weight: bold\">Model: \"functional_5\"</span>\n",
              "</pre>\n"
            ]
          },
          "metadata": {}
        },
        {
          "output_type": "display_data",
          "data": {
            "text/plain": [
              "┏━━━━━━━━━━━━━━━━━━━━━━━━━━━━━━━━━━━━━━┳━━━━━━━━━━━━━━━━━━━━━━━━━━━━━┳━━━━━━━━━━━━━━━━━┓\n",
              "┃\u001b[1m \u001b[0m\u001b[1mLayer (type)                        \u001b[0m\u001b[1m \u001b[0m┃\u001b[1m \u001b[0m\u001b[1mOutput Shape               \u001b[0m\u001b[1m \u001b[0m┃\u001b[1m \u001b[0m\u001b[1m        Param #\u001b[0m\u001b[1m \u001b[0m┃\n",
              "┡━━━━━━━━━━━━━━━━━━━━━━━━━━━━━━━━━━━━━━╇━━━━━━━━━━━━━━━━━━━━━━━━━━━━━╇━━━━━━━━━━━━━━━━━┩\n",
              "│ token_ids (\u001b[38;5;33mInputLayer\u001b[0m)               │ (\u001b[38;5;45mNone\u001b[0m, \u001b[38;5;45mNone\u001b[0m)                │               \u001b[38;5;34m0\u001b[0m │\n",
              "├──────────────────────────────────────┼─────────────────────────────┼─────────────────┤\n",
              "│ token_and_position_embedding         │ (\u001b[38;5;45mNone\u001b[0m, \u001b[38;5;45mNone\u001b[0m, \u001b[38;5;34m64\u001b[0m)            │       \u001b[38;5;34m1,260,544\u001b[0m │\n",
              "│ (\u001b[38;5;33mTokenAndPositionEmbedding\u001b[0m)          │                             │                 │\n",
              "├──────────────────────────────────────┼─────────────────────────────┼─────────────────┤\n",
              "│ transformer_encoder_2                │ (\u001b[38;5;45mNone\u001b[0m, \u001b[38;5;45mNone\u001b[0m, \u001b[38;5;34m64\u001b[0m)            │          \u001b[38;5;34m33,472\u001b[0m │\n",
              "│ (\u001b[38;5;33mTransformerEncoder\u001b[0m)                 │                             │                 │\n",
              "├──────────────────────────────────────┼─────────────────────────────┼─────────────────┤\n",
              "│ get_item_6 (\u001b[38;5;33mGetItem\u001b[0m)                 │ (\u001b[38;5;45mNone\u001b[0m, \u001b[38;5;34m64\u001b[0m)                  │               \u001b[38;5;34m0\u001b[0m │\n",
              "├──────────────────────────────────────┼─────────────────────────────┼─────────────────┤\n",
              "│ dense_1 (\u001b[38;5;33mDense\u001b[0m)                      │ (\u001b[38;5;45mNone\u001b[0m, \u001b[38;5;34m2\u001b[0m)                   │             \u001b[38;5;34m130\u001b[0m │\n",
              "└──────────────────────────────────────┴─────────────────────────────┴─────────────────┘\n"
            ],
            "text/html": [
              "<pre style=\"white-space:pre;overflow-x:auto;line-height:normal;font-family:Menlo,'DejaVu Sans Mono',consolas,'Courier New',monospace\">┏━━━━━━━━━━━━━━━━━━━━━━━━━━━━━━━━━━━━━━┳━━━━━━━━━━━━━━━━━━━━━━━━━━━━━┳━━━━━━━━━━━━━━━━━┓\n",
              "┃<span style=\"font-weight: bold\"> Layer (type)                         </span>┃<span style=\"font-weight: bold\"> Output Shape                </span>┃<span style=\"font-weight: bold\">         Param # </span>┃\n",
              "┡━━━━━━━━━━━━━━━━━━━━━━━━━━━━━━━━━━━━━━╇━━━━━━━━━━━━━━━━━━━━━━━━━━━━━╇━━━━━━━━━━━━━━━━━┩\n",
              "│ token_ids (<span style=\"color: #0087ff; text-decoration-color: #0087ff\">InputLayer</span>)               │ (<span style=\"color: #00d7ff; text-decoration-color: #00d7ff\">None</span>, <span style=\"color: #00d7ff; text-decoration-color: #00d7ff\">None</span>)                │               <span style=\"color: #00af00; text-decoration-color: #00af00\">0</span> │\n",
              "├──────────────────────────────────────┼─────────────────────────────┼─────────────────┤\n",
              "│ token_and_position_embedding         │ (<span style=\"color: #00d7ff; text-decoration-color: #00d7ff\">None</span>, <span style=\"color: #00d7ff; text-decoration-color: #00d7ff\">None</span>, <span style=\"color: #00af00; text-decoration-color: #00af00\">64</span>)            │       <span style=\"color: #00af00; text-decoration-color: #00af00\">1,260,544</span> │\n",
              "│ (<span style=\"color: #0087ff; text-decoration-color: #0087ff\">TokenAndPositionEmbedding</span>)          │                             │                 │\n",
              "├──────────────────────────────────────┼─────────────────────────────┼─────────────────┤\n",
              "│ transformer_encoder_2                │ (<span style=\"color: #00d7ff; text-decoration-color: #00d7ff\">None</span>, <span style=\"color: #00d7ff; text-decoration-color: #00d7ff\">None</span>, <span style=\"color: #00af00; text-decoration-color: #00af00\">64</span>)            │          <span style=\"color: #00af00; text-decoration-color: #00af00\">33,472</span> │\n",
              "│ (<span style=\"color: #0087ff; text-decoration-color: #0087ff\">TransformerEncoder</span>)                 │                             │                 │\n",
              "├──────────────────────────────────────┼─────────────────────────────┼─────────────────┤\n",
              "│ get_item_6 (<span style=\"color: #0087ff; text-decoration-color: #0087ff\">GetItem</span>)                 │ (<span style=\"color: #00d7ff; text-decoration-color: #00d7ff\">None</span>, <span style=\"color: #00af00; text-decoration-color: #00af00\">64</span>)                  │               <span style=\"color: #00af00; text-decoration-color: #00af00\">0</span> │\n",
              "├──────────────────────────────────────┼─────────────────────────────┼─────────────────┤\n",
              "│ dense_1 (<span style=\"color: #0087ff; text-decoration-color: #0087ff\">Dense</span>)                      │ (<span style=\"color: #00d7ff; text-decoration-color: #00d7ff\">None</span>, <span style=\"color: #00af00; text-decoration-color: #00af00\">2</span>)                   │             <span style=\"color: #00af00; text-decoration-color: #00af00\">130</span> │\n",
              "└──────────────────────────────────────┴─────────────────────────────┴─────────────────┘\n",
              "</pre>\n"
            ]
          },
          "metadata": {}
        },
        {
          "output_type": "display_data",
          "data": {
            "text/plain": [
              "\u001b[1m Total params: \u001b[0m\u001b[38;5;34m1,294,146\u001b[0m (4.94 MB)\n"
            ],
            "text/html": [
              "<pre style=\"white-space:pre;overflow-x:auto;line-height:normal;font-family:Menlo,'DejaVu Sans Mono',consolas,'Courier New',monospace\"><span style=\"font-weight: bold\"> Total params: </span><span style=\"color: #00af00; text-decoration-color: #00af00\">1,294,146</span> (4.94 MB)\n",
              "</pre>\n"
            ]
          },
          "metadata": {}
        },
        {
          "output_type": "display_data",
          "data": {
            "text/plain": [
              "\u001b[1m Trainable params: \u001b[0m\u001b[38;5;34m1,294,146\u001b[0m (4.94 MB)\n"
            ],
            "text/html": [
              "<pre style=\"white-space:pre;overflow-x:auto;line-height:normal;font-family:Menlo,'DejaVu Sans Mono',consolas,'Courier New',monospace\"><span style=\"font-weight: bold\"> Trainable params: </span><span style=\"color: #00af00; text-decoration-color: #00af00\">1,294,146</span> (4.94 MB)\n",
              "</pre>\n"
            ]
          },
          "metadata": {}
        },
        {
          "output_type": "display_data",
          "data": {
            "text/plain": [
              "\u001b[1m Non-trainable params: \u001b[0m\u001b[38;5;34m0\u001b[0m (0.00 B)\n"
            ],
            "text/html": [
              "<pre style=\"white-space:pre;overflow-x:auto;line-height:normal;font-family:Menlo,'DejaVu Sans Mono',consolas,'Courier New',monospace\"><span style=\"font-weight: bold\"> Non-trainable params: </span><span style=\"color: #00af00; text-decoration-color: #00af00\">0</span> (0.00 B)\n",
              "</pre>\n"
            ]
          },
          "metadata": {}
        }
      ],
      "source": [
        "token_id_input = keras.Input(\n",
        "    shape=(None,),\n",
        "    dtype=\"int32\",\n",
        "    name=\"token_ids\",\n",
        ")\n",
        "outputs = keras_nlp.layers.TokenAndPositionEmbedding(\n",
        "    vocabulary_size=len(vocab),\n",
        "    sequence_length=packer.sequence_length,\n",
        "    embedding_dim=64,\n",
        ")(token_id_input)\n",
        "outputs = keras_nlp.layers.TransformerEncoder(\n",
        "    num_heads=2,\n",
        "    intermediate_dim=128,\n",
        "    dropout=0.1,\n",
        ")(outputs)\n",
        "# Use \"[START]\" token to classify\n",
        "outputs = keras.layers.Dense(2)(outputs[:, 0, :])\n",
        "model = keras.Model(\n",
        "    inputs=token_id_input,\n",
        "    outputs=outputs,\n",
        ")\n",
        "\n",
        "model.summary()"
      ]
    },
    {
      "cell_type": "markdown",
      "metadata": {
        "id": "TJ666p7No5lm"
      },
      "source": [
        "### Train the transformer directly on the classification objective"
      ]
    },
    {
      "cell_type": "code",
      "execution_count": null,
      "metadata": {
        "id": "_JWeSkedo5lm",
        "outputId": "a9758fa6-08a5-4c35-afe0-4043cd03331d",
        "colab": {
          "base_uri": "https://localhost:8080/"
        }
      },
      "outputs": [
        {
          "output_type": "stream",
          "name": "stdout",
          "text": [
            "Epoch 1/3\n",
            "\u001b[1m1563/1563\u001b[0m \u001b[32m━━━━━━━━━━━━━━━━━━━━\u001b[0m\u001b[37m\u001b[0m \u001b[1m32s\u001b[0m 18ms/step - loss: 0.6978 - sparse_categorical_accuracy: 0.5516 - val_loss: 0.4274 - val_sparse_categorical_accuracy: 0.8102\n",
            "Epoch 2/3\n",
            "\u001b[1m1563/1563\u001b[0m \u001b[32m━━━━━━━━━━━━━━━━━━━━\u001b[0m\u001b[37m\u001b[0m \u001b[1m21s\u001b[0m 12ms/step - loss: 0.3397 - sparse_categorical_accuracy: 0.8553 - val_loss: 0.3009 - val_sparse_categorical_accuracy: 0.8756\n",
            "Epoch 3/3\n",
            "\u001b[1m1563/1563\u001b[0m \u001b[32m━━━━━━━━━━━━━━━━━━━━\u001b[0m\u001b[37m\u001b[0m \u001b[1m22s\u001b[0m 14ms/step - loss: 0.2456 - sparse_categorical_accuracy: 0.9014 - val_loss: 0.2899 - val_sparse_categorical_accuracy: 0.8808\n"
          ]
        },
        {
          "output_type": "execute_result",
          "data": {
            "text/plain": [
              "<keras.src.callbacks.history.History at 0x780f696c3ee0>"
            ]
          },
          "metadata": {},
          "execution_count": 15
        }
      ],
      "source": [
        "model.compile(\n",
        "    loss=keras.losses.SparseCategoricalCrossentropy(from_logits=True),\n",
        "    optimizer=keras.optimizers.AdamW(5e-5),\n",
        "    metrics=[keras.metrics.SparseCategoricalAccuracy()],\n",
        "    jit_compile=True,\n",
        ")\n",
        "model.fit(\n",
        "    imdb_preproc_train_ds,\n",
        "    validation_data=imdb_preproc_val_ds,\n",
        "    epochs=3,\n",
        ")"
      ]
    },
    {
      "cell_type": "markdown",
      "metadata": {
        "id": "VCf_wteno5lm"
      },
      "source": [
        "Excitingly, our custom classifier is similar to the performance of fine-tuning\n",
        "`\"bert_tiny_en_uncased\"`! To see the advantages of pretraining and exceed 90% accuracy we\n",
        "would need to use larger **presets** such as `\"bert_base_en_uncased\"`."
      ]
    }
  ],
  "metadata": {
    "accelerator": "GPU",
    "colab": {
      "provenance": [],
      "toc_visible": true,
      "include_colab_link": true
    },
    "kernelspec": {
      "display_name": "Python 3",
      "language": "python",
      "name": "python3"
    },
    "language_info": {
      "codemirror_mode": {
        "name": "ipython",
        "version": 3
      },
      "file_extension": ".py",
      "mimetype": "text/x-python",
      "name": "python",
      "nbconvert_exporter": "python",
      "pygments_lexer": "ipython3",
      "version": "3.7.0"
    }
  },
  "nbformat": 4,
  "nbformat_minor": 0
}