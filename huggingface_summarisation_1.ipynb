{
 "cells": [
  {
   "cell_type": "code",
   "execution_count": 1,
   "id": "3cefd1f9",
   "metadata": {},
   "outputs": [
    {
     "name": "stdout",
     "output_type": "stream",
     "text": [
      "Requirement already satisfied: transformers in /home/pedro/Escritorio/UTAD_22_23/INAR_22_23/grupo_b/lib/python3.10/site-packages (4.40.1)\n",
      "Requirement already satisfied: datasets in /home/pedro/Escritorio/UTAD_22_23/INAR_22_23/grupo_b/lib/python3.10/site-packages (2.19.0)\n",
      "Requirement already satisfied: evaluate in /home/pedro/Escritorio/UTAD_22_23/INAR_22_23/grupo_b/lib/python3.10/site-packages (0.4.1)\n",
      "Collecting rouge_score\n",
      "  Downloading rouge_score-0.1.2.tar.gz (17 kB)\n",
      "  Preparing metadata (setup.py) ... \u001b[?25ldone\n",
      "\u001b[?25hRequirement already satisfied: filelock in /home/pedro/Escritorio/UTAD_22_23/INAR_22_23/grupo_b/lib/python3.10/site-packages (from transformers) (3.13.1)\n",
      "Requirement already satisfied: huggingface-hub<1.0,>=0.19.3 in /home/pedro/Escritorio/UTAD_22_23/INAR_22_23/grupo_b/lib/python3.10/site-packages (from transformers) (0.22.2)\n",
      "Requirement already satisfied: numpy>=1.17 in /home/pedro/Escritorio/UTAD_22_23/INAR_22_23/grupo_b/lib/python3.10/site-packages (from transformers) (1.24.4)\n",
      "Requirement already satisfied: packaging>=20.0 in /home/pedro/Escritorio/UTAD_22_23/INAR_22_23/grupo_b/lib/python3.10/site-packages (from transformers) (21.3)\n",
      "Requirement already satisfied: pyyaml>=5.1 in /home/pedro/Escritorio/UTAD_22_23/INAR_22_23/grupo_b/lib/python3.10/site-packages (from transformers) (6.0.1)\n",
      "Requirement already satisfied: regex!=2019.12.17 in /home/pedro/Escritorio/UTAD_22_23/INAR_22_23/grupo_b/lib/python3.10/site-packages (from transformers) (2022.10.31)\n",
      "Requirement already satisfied: requests in /home/pedro/Escritorio/UTAD_22_23/INAR_22_23/grupo_b/lib/python3.10/site-packages (from transformers) (2.28.1)\n",
      "Requirement already satisfied: tokenizers<0.20,>=0.19 in /home/pedro/Escritorio/UTAD_22_23/INAR_22_23/grupo_b/lib/python3.10/site-packages (from transformers) (0.19.1)\n",
      "Requirement already satisfied: safetensors>=0.4.1 in /home/pedro/Escritorio/UTAD_22_23/INAR_22_23/grupo_b/lib/python3.10/site-packages (from transformers) (0.4.3)\n",
      "Requirement already satisfied: tqdm>=4.27 in /home/pedro/Escritorio/UTAD_22_23/INAR_22_23/grupo_b/lib/python3.10/site-packages (from transformers) (4.64.1)\n",
      "Requirement already satisfied: pyarrow>=12.0.0 in /home/pedro/Escritorio/UTAD_22_23/INAR_22_23/grupo_b/lib/python3.10/site-packages (from datasets) (16.0.0)\n",
      "Requirement already satisfied: pyarrow-hotfix in /home/pedro/Escritorio/UTAD_22_23/INAR_22_23/grupo_b/lib/python3.10/site-packages (from datasets) (0.6)\n",
      "Requirement already satisfied: dill<0.3.9,>=0.3.0 in /home/pedro/Escritorio/UTAD_22_23/INAR_22_23/grupo_b/lib/python3.10/site-packages (from datasets) (0.3.8)\n",
      "Requirement already satisfied: pandas in /home/pedro/Escritorio/UTAD_22_23/INAR_22_23/grupo_b/lib/python3.10/site-packages (from datasets) (1.5.0)\n",
      "Requirement already satisfied: xxhash in /home/pedro/Escritorio/UTAD_22_23/INAR_22_23/grupo_b/lib/python3.10/site-packages (from datasets) (3.4.1)\n",
      "Requirement already satisfied: multiprocess in /home/pedro/Escritorio/UTAD_22_23/INAR_22_23/grupo_b/lib/python3.10/site-packages (from datasets) (0.70.16)\n",
      "Requirement already satisfied: fsspec<=2024.3.1,>=2023.1.0 in /home/pedro/Escritorio/UTAD_22_23/INAR_22_23/grupo_b/lib/python3.10/site-packages (from fsspec[http]<=2024.3.1,>=2023.1.0->datasets) (2024.3.1)\n",
      "Requirement already satisfied: aiohttp in /home/pedro/Escritorio/UTAD_22_23/INAR_22_23/grupo_b/lib/python3.10/site-packages (from datasets) (3.9.5)\n",
      "Requirement already satisfied: responses<0.19 in /home/pedro/Escritorio/UTAD_22_23/INAR_22_23/grupo_b/lib/python3.10/site-packages (from evaluate) (0.18.0)\n",
      "Requirement already satisfied: absl-py in /home/pedro/Escritorio/UTAD_22_23/INAR_22_23/grupo_b/lib/python3.10/site-packages (from rouge_score) (1.2.0)\n",
      "Requirement already satisfied: nltk in /home/pedro/Escritorio/UTAD_22_23/INAR_22_23/grupo_b/lib/python3.10/site-packages (from rouge_score) (3.7)\n",
      "Requirement already satisfied: six>=1.14.0 in /home/pedro/Escritorio/UTAD_22_23/INAR_22_23/grupo_b/lib/python3.10/site-packages (from rouge_score) (1.16.0)\n",
      "Requirement already satisfied: aiosignal>=1.1.2 in /home/pedro/Escritorio/UTAD_22_23/INAR_22_23/grupo_b/lib/python3.10/site-packages (from aiohttp->datasets) (1.3.1)\n",
      "Requirement already satisfied: attrs>=17.3.0 in /home/pedro/Escritorio/UTAD_22_23/INAR_22_23/grupo_b/lib/python3.10/site-packages (from aiohttp->datasets) (22.1.0)\n",
      "Requirement already satisfied: frozenlist>=1.1.1 in /home/pedro/Escritorio/UTAD_22_23/INAR_22_23/grupo_b/lib/python3.10/site-packages (from aiohttp->datasets) (1.4.1)\n",
      "Requirement already satisfied: multidict<7.0,>=4.5 in /home/pedro/Escritorio/UTAD_22_23/INAR_22_23/grupo_b/lib/python3.10/site-packages (from aiohttp->datasets) (6.0.5)\n",
      "Requirement already satisfied: yarl<2.0,>=1.0 in /home/pedro/Escritorio/UTAD_22_23/INAR_22_23/grupo_b/lib/python3.10/site-packages (from aiohttp->datasets) (1.9.4)\n",
      "Requirement already satisfied: async-timeout<5.0,>=4.0 in /home/pedro/Escritorio/UTAD_22_23/INAR_22_23/grupo_b/lib/python3.10/site-packages (from aiohttp->datasets) (4.0.3)\n",
      "Requirement already satisfied: typing-extensions>=3.7.4.3 in /home/pedro/Escritorio/UTAD_22_23/INAR_22_23/grupo_b/lib/python3.10/site-packages (from huggingface-hub<1.0,>=0.19.3->transformers) (4.9.0)\n",
      "Requirement already satisfied: pyparsing!=3.0.5,>=2.0.2 in /home/pedro/Escritorio/UTAD_22_23/INAR_22_23/grupo_b/lib/python3.10/site-packages (from packaging>=20.0->transformers) (3.0.9)\n",
      "Requirement already satisfied: charset-normalizer<3,>=2 in /home/pedro/Escritorio/UTAD_22_23/INAR_22_23/grupo_b/lib/python3.10/site-packages (from requests->transformers) (2.1.1)\n",
      "Requirement already satisfied: idna<4,>=2.5 in /home/pedro/Escritorio/UTAD_22_23/INAR_22_23/grupo_b/lib/python3.10/site-packages (from requests->transformers) (3.4)\n",
      "Requirement already satisfied: urllib3<1.27,>=1.21.1 in /home/pedro/Escritorio/UTAD_22_23/INAR_22_23/grupo_b/lib/python3.10/site-packages (from requests->transformers) (1.26.12)\n",
      "Requirement already satisfied: certifi>=2017.4.17 in /home/pedro/Escritorio/UTAD_22_23/INAR_22_23/grupo_b/lib/python3.10/site-packages (from requests->transformers) (2022.9.24)\n",
      "Requirement already satisfied: click in /home/pedro/Escritorio/UTAD_22_23/INAR_22_23/grupo_b/lib/python3.10/site-packages (from nltk->rouge_score) (8.1.3)\n",
      "Requirement already satisfied: joblib in /home/pedro/Escritorio/UTAD_22_23/INAR_22_23/grupo_b/lib/python3.10/site-packages (from nltk->rouge_score) (1.2.0)\n",
      "Requirement already satisfied: python-dateutil>=2.8.1 in /home/pedro/Escritorio/UTAD_22_23/INAR_22_23/grupo_b/lib/python3.10/site-packages (from pandas->datasets) (2.8.2)\n",
      "Requirement already satisfied: pytz>=2020.1 in /home/pedro/Escritorio/UTAD_22_23/INAR_22_23/grupo_b/lib/python3.10/site-packages (from pandas->datasets) (2022.2.1)\n",
      "Building wheels for collected packages: rouge_score\n",
      "  Building wheel for rouge_score (setup.py) ... \u001b[?25ldone\n",
      "\u001b[?25h  Created wheel for rouge_score: filename=rouge_score-0.1.2-py3-none-any.whl size=24955 sha256=262cb237923ad38a213fcc0db39b935476917eb3ea4b1d73695774a7f7992467\n",
      "  Stored in directory: /home/pedro/.cache/pip/wheels/5f/dd/89/461065a73be61a532ff8599a28e9beef17985c9e9c31e541b4\n",
      "Successfully built rouge_score\n",
      "Installing collected packages: rouge_score\n",
      "Successfully installed rouge_score-0.1.2\n"
     ]
    }
   ],
   "source": [
    "!pip install transformers datasets evaluate rouge_score"
   ]
  },
  {
   "cell_type": "code",
   "execution_count": 2,
   "id": "3c60456f",
   "metadata": {},
   "outputs": [
    {
     "data": {
      "application/vnd.jupyter.widget-view+json": {
       "model_id": "93364e80f6da4d2f93e834d7a47e60e7",
       "version_major": 2,
       "version_minor": 0
      },
      "text/plain": [
       "Downloading readme:   0%|          | 0.00/7.27k [00:00<?, ?B/s]"
      ]
     },
     "metadata": {},
     "output_type": "display_data"
    },
    {
     "data": {
      "application/vnd.jupyter.widget-view+json": {
       "model_id": "8ec120685fad48f2931291b7cf0df224",
       "version_major": 2,
       "version_minor": 0
      },
      "text/plain": [
       "Downloading data:   0%|          | 0.00/91.8M [00:00<?, ?B/s]"
      ]
     },
     "metadata": {},
     "output_type": "display_data"
    },
    {
     "data": {
      "application/vnd.jupyter.widget-view+json": {
       "model_id": "fc1806421aaf497d898af80f50350af0",
       "version_major": 2,
       "version_minor": 0
      },
      "text/plain": [
       "Downloading data:   0%|          | 0.00/15.8M [00:00<?, ?B/s]"
      ]
     },
     "metadata": {},
     "output_type": "display_data"
    },
    {
     "data": {
      "application/vnd.jupyter.widget-view+json": {
       "model_id": "1f941e344bb04e489e4c32826d1ac437",
       "version_major": 2,
       "version_minor": 0
      },
      "text/plain": [
       "Downloading data:   0%|          | 0.00/6.12M [00:00<?, ?B/s]"
      ]
     },
     "metadata": {},
     "output_type": "display_data"
    },
    {
     "data": {
      "application/vnd.jupyter.widget-view+json": {
       "model_id": "307067617a1140c388c087b090cc915d",
       "version_major": 2,
       "version_minor": 0
      },
      "text/plain": [
       "Generating train split:   0%|          | 0/18949 [00:00<?, ? examples/s]"
      ]
     },
     "metadata": {},
     "output_type": "display_data"
    },
    {
     "data": {
      "application/vnd.jupyter.widget-view+json": {
       "model_id": "acf1d1fb56fd466fbbd54c5d68132abb",
       "version_major": 2,
       "version_minor": 0
      },
      "text/plain": [
       "Generating test split:   0%|          | 0/3269 [00:00<?, ? examples/s]"
      ]
     },
     "metadata": {},
     "output_type": "display_data"
    },
    {
     "data": {
      "application/vnd.jupyter.widget-view+json": {
       "model_id": "1d7e77220bf54966bd53bb5e123f7de2",
       "version_major": 2,
       "version_minor": 0
      },
      "text/plain": [
       "Generating ca_test split:   0%|          | 0/1237 [00:00<?, ? examples/s]"
      ]
     },
     "metadata": {},
     "output_type": "display_data"
    }
   ],
   "source": [
    "from datasets import load_dataset\n",
    "\n",
    "billsum = load_dataset(\"billsum\", split=\"ca_test\")"
   ]
  },
  {
   "cell_type": "code",
   "execution_count": 3,
   "id": "03c18a26",
   "metadata": {},
   "outputs": [],
   "source": [
    "billsum = billsum.train_test_split(test_size=0.2)"
   ]
  },
  {
   "cell_type": "code",
   "execution_count": 4,
   "id": "6ffea546",
   "metadata": {},
   "outputs": [
    {
     "data": {
      "text/plain": [
       "{'text': 'The people of the State of California do enact as follows:\\n\\n\\nSECTION 1.\\nThe Legislature finds and declares all of the following:\\n(a) The Isla Vista community encompasses a population of approximately 15,000 residents situated within approximately a half square mile of land in Santa Barbara County. It is adjacent to the University of California, Santa Barbara (UCSB) campus and its student population, of which approximately 8,000 students reside in university owned housing. Including university property, the area totals about 1,200 acres. Isla Vista represents one of the largest urban communities in California not governed as a city.\\n(b) Isla Vista faces various challenges in local governance. As a university community, Isla Vista must accommodate the service needs associated with its transient student population and a predominantly renter-oriented community while balancing the needs of local homeowners and long-term residents. Isla Vista’s situation is complicated by its unincorporated status, which limits its local participation in managing public services and providing needed public improvements.\\n(c) As an unincorporated area, various county agencies provide services to the residents and businesses of Isla Vista. Since these agencies must provide services throughout the whole county, Isla Vista must compete for attention and funding for the services they need. Isla Vista is represented at the county level by one of five supervisors and is situated in the largest and most diverse geographic supervisorial district in the county.\\n(d) The Isla Vista Recreation and Park District is the only local district providing limited services exclusively to Isla Vista. Due to its stewardship of protected wetlands and the coastline, as well as the dwindling amount of available open space, the Isla Vista Recreation and Park District should remain an independent district.\\n(e) There have been multiple attempts at achieving cityhood for Isla Vista; however, cityhood has been denied for a variety of reasons, including financial and political feasibility. In 2003, the Santa Barbara County Grand Jury found that establishing a community services district would be the best governance option to expand and improve services to Isla Vista; however, no action was taken by the community at that time.\\n(f) Over the last year, the Isla Vista community has been faced with many challenges due to tragic events, including multiple injuries from students falling off cliffs, multiple violent sexual assaults, riots, a mass murder, and homicides that have brought focus to the unique needs of Isla Vista that can only be addressed by direct, local governance. Following these events, a local coalition was formed to determine the best direction for Isla Vista self-governance and the community services district has garnered much local support.\\n(g) Additionally, following these events, many trustees on the UC Santa Barbara Foundation Board expressed a strong desire to support the chancellor and the university in efforts to create change in Isla Vista, to ensure a safer and more enhanced community for students. The UC Santa Barbara Foundation Trustees’ Advisory Committee on Isla Vista Strategies was formed to analyze the conditions and dynamics of Isla Vista and develop mid- and long-term recommendations to establish a viable, safe, and supportive environment. Among their recommendations is that the State of California create a Community Services District/Municipal Improvement District in Isla Vista with potential powers of infrastructure, utilities, garbage, police services, parks, recreation, cultural facilities, fire, security, and roads.\\nSEC. 2.\\nPart 4 (commencing with Section 61250) is added to Division 3 of Title 6 of the Government Code, to read:\\nPART 4. Isla Vista Community Services District\\n61250.\\n(a) Notwithstanding Chapter 2 (commencing with Section 61010) of Part 1, the Isla Vista Community Services District may be established in accordance with this part. All other provisions of this division shall apply to the Isla Vista Community Services District upon its establishment, except as provided in this part.\\n(b) (1) On or before January 5, 2016, the Board of Supervisors of the County of Santa Barbara shall file a resolution of application with the Santa Barbara County Local Agency Formation Commission, pursuant to subdivision (a) of Section 56654, to initiate a comprehensive review and recommendation of the formation of the district by the Santa Barbara County Local Agency Formation Commission. The board of supervisors shall pay any fees associated with the resolution of application.\\n(2) The Santa Barbara County Local Agency Formation Commission shall complete the review no later than 150 days following receipt of the completed resolution of application. Notwithstanding any other law, the Santa Barbara County Local Agency Formation Commission shall not have the power to disapprove the resolution of application.\\n(3) Notwithstanding any other law, the resolution of application filed by the board of supervisors pursuant to this subdivision shall not be subject to any protest proceedings.\\n(c) (1) The Santa Barbara County Local Agency Formation Commission shall order the formation of the district subject to a vote of the registered voters residing within the boundaries of the district, as those boundaries are set forth in subdivision (f), at an election following the completion of the review pursuant to subdivision (b). If a majority of voters within the boundaries of the district, as specified in subdivision (f), vote in favor of the district, the district shall be formed in accordance with this part.\\n(2) (A) The Santa Barbara Local Agency Formation Commission shall determine the appropriate rate of taxation for a utility user tax, applicable utilities to be taxed, and which services the district will be initially authorized to provide, pursuant to subdivision (d) and paragraph (5) of subdivision (g). The rate shall be no lower than 5 percent and no higher than 8 percent of the total cost of an individual’s service charge for the utility being taxed.\\n(B) The utility user tax shall only be applied to electricity, garbage disposal, gas, sewage, or water services.\\n(3) If the voters of the district do not vote to impose a utility user tax within the district on or before January 1, 2023, regardless of whether the establishment of the district is approved by the voters of the district, the district shall be dissolved as of that date.\\n(4) The Santa Barbara Local Agency Formation Commission shall direct the Santa Barbara County Board of Supervisors to direct county officials to conduct the necessary elections on behalf of the proposed district and place the items on the ballot including district approval, candidates for the district’s board, and the utility user tax pursuant to subparagraph (A) of paragraph (2) at the next countywide election, as provided in subdivision (f) of Section 61014.\\n(d) (1) The initial utility user tax imposed by the district shall only be used to fund the following services and powers of the district:\\n(A) Finance the operations of municipal advisory councils formed pursuant to Section 31010.\\n(B) Create a tenant mediation program.\\n(C) Finance the operations of area planning commissions formed pursuant to Section 65101.\\n(D) Exercise the powers of a parking district, in the same manner as a parking district formed pursuant to the Parking District Law of 1951 (Part 4 (commencing with Section 35100) of Division 18 of the Streets and Highways Code).\\n(E) Contract with the County of Santa Barbara or the Regents of the University of California, or both, for additional police protection services to supplement the level of police protection services already provided by either the County of Santa Barbara or the Regents of the University of California within the area of the district.\\n(F) Acquire, construct, improve, maintain, and operate community facilities, including, but not limited to, community centers, libraries, theaters, museums, cultural facilities, and child care facilities.\\n(G) Acquire, construct, improve, and maintain sidewalks, lighting, gutters, and trees to supplement the level of service already provided by either the County of Santa Barbara or County Service Area 31. The district shall not acquire, construct, improve, or maintain any work owned by another public agency unless that other public agency gives its written consent.\\n(H) Abate graffiti.\\n(2) This subdivision shall not be construed to limit the services that may be funded by a tax imposed at a later date.\\n(e) (1) Notwithstanding Chapter 1 (commencing with Section 61020), Chapter 2 (commencing with Section 61025), and Chapter 3 (commencing with Section 61040) of Part 2, the board of directors of the district shall be composed as follows:\\n(A) Five members elected at large from within the district as follows:\\n(i) Four members shall be elected for terms of four years. For the first election of the board of directors of the district, two members shall be elected for a term of two years and two members shall be elected for a term of four years.\\n(ii) One member shall be elected for a term of two years.\\n(B) One member appointed by the Board of Supervisors of the County of Santa Barbara for a term of two years for the first appointment following the creation of the district, and for a term of four years thereafter.\\n(C) One member appointed by the Chancellor of the University of California, Santa Barbara for a term of four years.\\n(2) (A) There shall be no limit on the number of terms any individual may serve on the board of directors of the district, whether that individual is appointed or elected.\\n(B) The qualification of candidates for the initial board of directors shall be conducted pursuant to the Uniform District Election Law (Part 4 (commencing with Section 10500) of the Elections Code).\\n(f) The boundaries of the district shall be contiguous with the area known as County Service Area No. 31 within the County of Santa Barbara and shall exclude any property owned by the Regents of the University of California within those boundaries.\\n(g) The district may, within its boundaries, do any of the following:\\n(1) Create a tenant mediation program.\\n(2) Exercise the powers of a parking district, in the same manner as a parking district formed pursuant to the Parking District Law of 1951 (Part 4 (commencing with Section 35100) of Division 18 of the Streets and Highways Code).\\n(3) Contract with the County of Santa Barbara or the Regents of the University of California, or both, for additional police protection services to supplement the level of police protection services already provided by either the County of Santa Barbara or the Regents of the University of California within the area of the district.\\n(4) Acquire, construct, improve, and maintain sidewalks, lighting, gutters, and trees to supplement the level of service provided by either the County of Santa Barbara or County Service Area 31. The district shall not acquire, construct, improve, or maintain any work owned by another public agency unless that other public agency gives its written consent.\\n(5) Levy a utility user tax proposed by resolution of the board of directors of the district and pursuant to approval by a two-thirds vote in accordance with Section 2 of Article XIII\\u2009C of the California Constitution on the utilities of gas, water, electricity, sewer, or garbage disposal services. A utility user tax imposed by the district shall not apply to any utility provided by a telecommunications service provider.\\n(6) Contract with the County of Santa Barbara, the Santa Barbara County Department of Planning and Development’s Code Enforcement Program, or both, to provide Code Enforcement services to supplement the level of service provided by either the County of Santa Barbara or the Santa Barbara County Department of Planning and Development’s Code Enforcement Program, or both. This includes, but is not limited to, contracting for dedicated Zoning Enforcement services pursuant to Chapter 35 of the Santa Barbara County Code, or contracting for dedicated Building Enforcement services pursuant to Chapters 10 and 14 of the Santa Barbara County Code. These contracted services may be proactive or reactive in their enforcement, as specified by the individual contract.\\n(h) Following the creation of the district, the district may petition the Santa Barbara Local Agency Formation Commission pursuant to the Cortese-Knox-Hertzberg Local Government Reorganization Act of 2000 (Division 3 (commencing with Section 56000) of Title 5) to exercise new or different functions or classes of services listed in Section 61100, except those powers specified in subdivisions (e) and (f) of that section, in addition to those functions or services that were authorized at the time the district was created.\\n(i) The services provided by the district shall not supplant the level of services provided by the County of Santa Barbara, the Isla Vista Recreation and Park District, the University of California, Santa Barbara, or any other service provider.\\n(j) The district does not possess, and shall not exercise, the power of eminent domain.\\n(k) As used in this part, the term “district” means the Isla Vista Community Services District formed pursuant to this part.\\n(l) The Cortese-Knox-Hertzberg Local Government Reorganization Act of 2000 (Division 3 (commencing with Section 56000) of Title 5) shall not apply to the formation of the district pursuant to subdivisions (b) and (c), to the selection of functions or services that may be provided pursuant to subdivision (d), or to the selection of functions or services to be provided pursuant to subdivision (g) upon establishment of the district, except as specified in this part. The act shall apply to any other change of organization or reorganization as defined in that act, following the establishment of the district, including, but not limited to, the exercise of new or different functions or classes of services authorized pursuant to subdivision (g) or (h) that were not selected upon establishment of the district.\\nSEC. 3.\\nThe Legislature finds and declares that a special law is necessary and that a general law cannot be made applicable within the meaning of Section 16 of Article IV of the California Constitution because of the unique community needs in the Isla Vista area that would be served by the Isla Vista Community Services District.\\nSEC. 4.\\nIf the Commission on State Mandates determines that this act contains costs mandated by the state, reimbursement to local agencies and school districts for those costs shall be made pursuant to Part 7 (commencing with Section 17500) of Division 4 of Title 2 of the Government Code.',\n",
       " 'summary': 'The Community Services District Law authorizes the establishment of community services districts and specifies the powers of those districts including, among others, the power to acquire, construct, improve, maintain, and operate community facilities, as specified. Existing law authorizes the formation of the Isla Vista College Community Services District within the unincorporated area of Santa Barbara County known as Isla Vista for the performance of various services, including, but not limited, to public parks, police protection, and transportation facilities.\\nThis bill would authorize the establishment of the Isla Vista Community Services District by requiring the Board of Supervisors of the County of Santa Barbara to submit a resolution of application to the Santa Barbara County Local Agency Formation Commission, and, upon direction by the commission, place the questions of whether the district should be established and whether a utility user tax should be imposed on the ballot at the next countywide election following the completion of the review by the commission. By imposing new duties on the County of Santa Barbara, this bill would impose a state-mandated local program. The bill would provide that if a utility user tax is not passed by the voters of the district on or before January 1, 2023, the district would be dissolved. The bill would set forth the board of directors of the district and would specify the services that district would be authorized to provide, including, among others, the power to create a tenant mediation program and to exercise the powers of a parking district.\\nThis bill would make legislative findings and declarations as to the necessity of a special statute for the Isla Vista Community Services District.\\nThe California Constitution requires the state to reimburse local agencies and school districts for certain costs mandated by the state. Statutory provisions establish procedures for making that reimbursement.\\nThis bill would provide that, if the Commission on State Mandates determines that the bill contains costs mandated by the state, reimbursement for those costs shall be made pursuant to these statutory provisions.',\n",
       " 'title': 'An act to add Part 4 (commencing with Section 61250) to Division 3 of Title 6 of the Government Code, relating to local government.'}"
      ]
     },
     "execution_count": 4,
     "metadata": {},
     "output_type": "execute_result"
    }
   ],
   "source": [
    "billsum[\"train\"][0]"
   ]
  },
  {
   "cell_type": "markdown",
   "id": "220b7405",
   "metadata": {},
   "source": [
    "There are two fields that you’ll want to use:\n",
    "\n",
    "    text: the text of the bill which’ll be the input to the model.\n",
    "    summary: a condensed version of text which’ll be the model target."
   ]
  },
  {
   "cell_type": "markdown",
   "id": "7e85bc7c",
   "metadata": {},
   "source": [
    "## Preprocess\n",
    "\n",
    "The next step is to load a T5 tokenizer to process text and summary:\n",
    "\n",
    "The preprocessing function you want to create needs to:\n",
    "\n",
    "    Prefix the input with a prompt so T5 knows this is a summarization task. Some models capable of multiple NLP tasks require prompting for specific tasks.\n",
    "    Use the keyword text_target argument when tokenizing labels.\n",
    "    Truncate sequences to be no longer than the maximum length set by the max_length parameter."
   ]
  },
  {
   "cell_type": "code",
   "execution_count": 5,
   "id": "1e571e5d",
   "metadata": {
    "scrolled": true
   },
   "outputs": [
    {
     "data": {
      "application/vnd.jupyter.widget-view+json": {
       "model_id": "9dce4aeee23342ab85c5350af9d7a7c7",
       "version_major": 2,
       "version_minor": 0
      },
      "text/plain": [
       "tokenizer_config.json:   0%|          | 0.00/2.32k [00:00<?, ?B/s]"
      ]
     },
     "metadata": {},
     "output_type": "display_data"
    },
    {
     "data": {
      "application/vnd.jupyter.widget-view+json": {
       "model_id": "99a378a8b37745588f3a73f24d0b245f",
       "version_major": 2,
       "version_minor": 0
      },
      "text/plain": [
       "spiece.model:   0%|          | 0.00/792k [00:00<?, ?B/s]"
      ]
     },
     "metadata": {},
     "output_type": "display_data"
    },
    {
     "data": {
      "application/vnd.jupyter.widget-view+json": {
       "model_id": "c3f2ec824ad34d57bfef48ff90f6105e",
       "version_major": 2,
       "version_minor": 0
      },
      "text/plain": [
       "tokenizer.json:   0%|          | 0.00/1.39M [00:00<?, ?B/s]"
      ]
     },
     "metadata": {},
     "output_type": "display_data"
    }
   ],
   "source": [
    "from transformers import AutoTokenizer\n",
    "\n",
    "checkpoint = \"google-t5/t5-small\"\n",
    "\n",
    "tokenizer = AutoTokenizer.from_pretrained(checkpoint)"
   ]
  },
  {
   "cell_type": "code",
   "execution_count": 8,
   "id": "715cf28e",
   "metadata": {},
   "outputs": [],
   "source": [
    "prefix = \"summarize: \"\n",
    "\n",
    "\n",
    "def preprocess_function(examples):\n",
    "\n",
    "    inputs = [prefix + doc for doc in examples[\"text\"]]\n",
    "\n",
    "    model_inputs = tokenizer(inputs, \n",
    "                             max_length=1024, \n",
    "                             truncation=True)\n",
    "\n",
    "    labels = tokenizer(text_target=examples[\"summary\"], \n",
    "                       max_length=128, \n",
    "                       truncation=True)\n",
    "\n",
    "    model_inputs[\"labels\"] = labels[\"input_ids\"]\n",
    "\n",
    "    return model_inputs"
   ]
  },
  {
   "cell_type": "markdown",
   "id": "2513e104",
   "metadata": {},
   "source": [
    "To apply the preprocessing function over the entire dataset, use 🤗 Datasets map method. You can speed up the map function by setting batched=True to process multiple elements of the dataset at once:"
   ]
  },
  {
   "cell_type": "code",
   "execution_count": 9,
   "id": "43d8bac2",
   "metadata": {},
   "outputs": [
    {
     "data": {
      "application/vnd.jupyter.widget-view+json": {
       "model_id": "c67b8325264149828abc35b8df9d9e1f",
       "version_major": 2,
       "version_minor": 0
      },
      "text/plain": [
       "Map:   0%|          | 0/989 [00:00<?, ? examples/s]"
      ]
     },
     "metadata": {},
     "output_type": "display_data"
    },
    {
     "data": {
      "application/vnd.jupyter.widget-view+json": {
       "model_id": "1bceef514ea54af5ba2c08e6eea6fc19",
       "version_major": 2,
       "version_minor": 0
      },
      "text/plain": [
       "Map:   0%|          | 0/248 [00:00<?, ? examples/s]"
      ]
     },
     "metadata": {},
     "output_type": "display_data"
    }
   ],
   "source": [
    "tokenized_billsum = billsum.map(preprocess_function, batched=True)"
   ]
  },
  {
   "cell_type": "markdown",
   "id": "203e9958",
   "metadata": {},
   "source": [
    "Now create a batch of examples using DataCollatorForSeq2Seq. It’s more efficient to dynamically pad the sentences to the longest length in a batch during collation, instead of padding the whole dataset to the maximum length."
   ]
  },
  {
   "cell_type": "code",
   "execution_count": 10,
   "id": "b955587b",
   "metadata": {},
   "outputs": [
    {
     "name": "stderr",
     "output_type": "stream",
     "text": [
      "2024-04-28 16:32:53.907763: I external/local_tsl/tsl/cuda/cudart_stub.cc:32] Could not find cuda drivers on your machine, GPU will not be used.\n",
      "2024-04-28 16:32:54.109286: I external/local_tsl/tsl/cuda/cudart_stub.cc:32] Could not find cuda drivers on your machine, GPU will not be used.\n",
      "2024-04-28 16:32:54.801908: I tensorflow/core/platform/cpu_feature_guard.cc:210] This TensorFlow binary is optimized to use available CPU instructions in performance-critical operations.\n",
      "To enable the following instructions: AVX2 FMA, in other operations, rebuild TensorFlow with the appropriate compiler flags.\n",
      "2024-04-28 16:32:56.422611: W tensorflow/compiler/tf2tensorrt/utils/py_utils.cc:38] TF-TRT Warning: Could not find TensorRT\n"
     ]
    }
   ],
   "source": [
    "from transformers import DataCollatorForSeq2Seq\n",
    "\n",
    "data_collator = DataCollatorForSeq2Seq(tokenizer=tokenizer, model=checkpoint)"
   ]
  },
  {
   "cell_type": "markdown",
   "id": "ef2ee12d",
   "metadata": {},
   "source": [
    "# Evaluate\n",
    "\n",
    "Including a metric during training is often helpful for evaluating your model’s performance. You can quickly load a evaluation method with the 🤗 Evaluate library. For this task, load the ROUGE metric (see the 🤗 Evaluate quick tour to learn more about how to load and compute a metric):"
   ]
  },
  {
   "cell_type": "code",
   "execution_count": 11,
   "id": "f7cfee6a",
   "metadata": {},
   "outputs": [
    {
     "data": {
      "application/vnd.jupyter.widget-view+json": {
       "model_id": "69ecf756b68640e6ad5e6e1cca82c7f2",
       "version_major": 2,
       "version_minor": 0
      },
      "text/plain": [
       "Downloading builder script:   0%|          | 0.00/6.27k [00:00<?, ?B/s]"
      ]
     },
     "metadata": {},
     "output_type": "display_data"
    }
   ],
   "source": [
    "import evaluate\n",
    "\n",
    "rouge = evaluate.load(\"rouge\")"
   ]
  },
  {
   "cell_type": "markdown",
   "id": "bd56c9e2",
   "metadata": {},
   "source": [
    "Then create a function that passes your predictions and labels to compute to calculate the ROUGE metric:"
   ]
  },
  {
   "cell_type": "code",
   "execution_count": 12,
   "id": "1210bff5",
   "metadata": {},
   "outputs": [],
   "source": [
    "import numpy as np\n",
    "\n",
    "\n",
    "def compute_metrics(eval_pred):\n",
    "\n",
    "    predictions, labels = eval_pred\n",
    "\n",
    "    decoded_preds = tokenizer.batch_decode(predictions, skip_special_tokens=True)\n",
    "\n",
    "    labels = np.where(labels != -100, labels, tokenizer.pad_token_id)\n",
    "\n",
    "    decoded_labels = tokenizer.batch_decode(labels, skip_special_tokens=True)\n",
    "\n",
    "    result = rouge.compute(predictions=decoded_preds, references=decoded_labels, use_stemmer=True)\n",
    "\n",
    "    prediction_lens = [np.count_nonzero(pred != tokenizer.pad_token_id) for pred in predictions]\n",
    "\n",
    "    result[\"gen_len\"] = np.mean(prediction_lens)\n",
    "\n",
    "    return {k: round(v, 4) for k, v in result.items()}"
   ]
  },
  {
   "cell_type": "markdown",
   "id": "9c5718d2",
   "metadata": {},
   "source": [
    "## Train\n",
    "\n",
    "Pytorch\n",
    "\n",
    "You’re ready to start training your model now! Load T5 with AutoModelForSeq2SeqLM:"
   ]
  },
  {
   "cell_type": "code",
   "execution_count": 13,
   "id": "3b78d4f8",
   "metadata": {},
   "outputs": [
    {
     "data": {
      "application/vnd.jupyter.widget-view+json": {
       "model_id": "ec01f98d5a9548558ae5c41fa3682145",
       "version_major": 2,
       "version_minor": 0
      },
      "text/plain": [
       "config.json:   0%|          | 0.00/1.21k [00:00<?, ?B/s]"
      ]
     },
     "metadata": {},
     "output_type": "display_data"
    },
    {
     "data": {
      "application/vnd.jupyter.widget-view+json": {
       "model_id": "2bcd7415abc54a0d932c239591b2a647",
       "version_major": 2,
       "version_minor": 0
      },
      "text/plain": [
       "model.safetensors:   0%|          | 0.00/242M [00:00<?, ?B/s]"
      ]
     },
     "metadata": {},
     "output_type": "display_data"
    },
    {
     "data": {
      "application/vnd.jupyter.widget-view+json": {
       "model_id": "911fc7f24ae74878b6a88716e4e7d9e0",
       "version_major": 2,
       "version_minor": 0
      },
      "text/plain": [
       "generation_config.json:   0%|          | 0.00/147 [00:00<?, ?B/s]"
      ]
     },
     "metadata": {},
     "output_type": "display_data"
    }
   ],
   "source": [
    "from transformers import AutoModelForSeq2SeqLM, Seq2SeqTrainingArguments, Seq2SeqTrainer\n",
    "\n",
    "model = AutoModelForSeq2SeqLM.from_pretrained(checkpoint)\n",
    "\n"
   ]
  },
  {
   "cell_type": "markdown",
   "id": "9de79e46",
   "metadata": {},
   "source": [
    "At this point, only three steps remain:\n",
    "\n",
    "1.     Define your training hyperparameters in Seq2SeqTrainingArguments. The only required parameter is output_dir which specifies where to save your model. You’ll push this model to the Hub by setting push_to_hub=True (you need to be signed in to Hugging Face to upload your model). At the end of each epoch, the Trainer will evaluate the ROUGE metric and save the training checkpoint.\n",
    "2.     Pass the training arguments to Seq2SeqTrainer along with the model, dataset, tokenizer, data collator, and compute_metrics function.\n",
    "3.     Call train() to finetune your model."
   ]
  },
  {
   "cell_type": "code",
   "execution_count": 14,
   "id": "7b199544",
   "metadata": {
    "scrolled": true
   },
   "outputs": [
    {
     "ename": "ValueError",
     "evalue": "FP16 Mixed precision training with AMP or APEX (`--fp16`) and FP16 half precision evaluation (`--fp16_full_eval`) can only be used on CUDA or MLU devices or NPU devices or certain XPU devices (with IPEX).",
     "output_type": "error",
     "traceback": [
      "\u001b[0;31m---------------------------------------------------------------------------\u001b[0m",
      "\u001b[0;31mValueError\u001b[0m                                Traceback (most recent call last)",
      "Cell \u001b[0;32mIn [14], line 1\u001b[0m\n\u001b[0;32m----> 1\u001b[0m training_args \u001b[38;5;241m=\u001b[39m \u001b[43mSeq2SeqTrainingArguments\u001b[49m\u001b[43m(\u001b[49m\n\u001b[1;32m      2\u001b[0m \n\u001b[1;32m      3\u001b[0m \u001b[43m    \u001b[49m\u001b[43moutput_dir\u001b[49m\u001b[38;5;241;43m=\u001b[39;49m\u001b[38;5;124;43m\"\u001b[39;49m\u001b[38;5;124;43mmy_awesome_billsum_model\u001b[39;49m\u001b[38;5;124;43m\"\u001b[39;49m\u001b[43m,\u001b[49m\n\u001b[1;32m      4\u001b[0m \n\u001b[1;32m      5\u001b[0m \u001b[43m    \u001b[49m\u001b[43mevaluation_strategy\u001b[49m\u001b[38;5;241;43m=\u001b[39;49m\u001b[38;5;124;43m\"\u001b[39;49m\u001b[38;5;124;43mepoch\u001b[39;49m\u001b[38;5;124;43m\"\u001b[39;49m\u001b[43m,\u001b[49m\n\u001b[1;32m      6\u001b[0m \n\u001b[1;32m      7\u001b[0m \u001b[43m    \u001b[49m\u001b[43mlearning_rate\u001b[49m\u001b[38;5;241;43m=\u001b[39;49m\u001b[38;5;241;43m2e-5\u001b[39;49m\u001b[43m,\u001b[49m\n\u001b[1;32m      8\u001b[0m \n\u001b[1;32m      9\u001b[0m \u001b[43m    \u001b[49m\u001b[43mper_device_train_batch_size\u001b[49m\u001b[38;5;241;43m=\u001b[39;49m\u001b[38;5;241;43m16\u001b[39;49m\u001b[43m,\u001b[49m\n\u001b[1;32m     10\u001b[0m \n\u001b[1;32m     11\u001b[0m \u001b[43m    \u001b[49m\u001b[43mper_device_eval_batch_size\u001b[49m\u001b[38;5;241;43m=\u001b[39;49m\u001b[38;5;241;43m16\u001b[39;49m\u001b[43m,\u001b[49m\n\u001b[1;32m     12\u001b[0m \n\u001b[1;32m     13\u001b[0m \u001b[43m    \u001b[49m\u001b[43mweight_decay\u001b[49m\u001b[38;5;241;43m=\u001b[39;49m\u001b[38;5;241;43m0.01\u001b[39;49m\u001b[43m,\u001b[49m\n\u001b[1;32m     14\u001b[0m \n\u001b[1;32m     15\u001b[0m \u001b[43m    \u001b[49m\u001b[43msave_total_limit\u001b[49m\u001b[38;5;241;43m=\u001b[39;49m\u001b[38;5;241;43m3\u001b[39;49m\u001b[43m,\u001b[49m\n\u001b[1;32m     16\u001b[0m \n\u001b[1;32m     17\u001b[0m \u001b[43m    \u001b[49m\u001b[43mnum_train_epochs\u001b[49m\u001b[38;5;241;43m=\u001b[39;49m\u001b[38;5;241;43m4\u001b[39;49m\u001b[43m,\u001b[49m\n\u001b[1;32m     18\u001b[0m \n\u001b[1;32m     19\u001b[0m \u001b[43m    \u001b[49m\u001b[43mpredict_with_generate\u001b[49m\u001b[38;5;241;43m=\u001b[39;49m\u001b[38;5;28;43;01mTrue\u001b[39;49;00m\u001b[43m,\u001b[49m\n\u001b[1;32m     20\u001b[0m \n\u001b[1;32m     21\u001b[0m \u001b[43m    \u001b[49m\u001b[43mfp16\u001b[49m\u001b[38;5;241;43m=\u001b[39;49m\u001b[38;5;28;43;01mTrue\u001b[39;49;00m\u001b[43m,\u001b[49m\n\u001b[1;32m     22\u001b[0m \n\u001b[1;32m     23\u001b[0m \u001b[43m    \u001b[49m\u001b[43mpush_to_hub\u001b[49m\u001b[38;5;241;43m=\u001b[39;49m\u001b[38;5;28;43;01mTrue\u001b[39;49;00m\u001b[43m,\u001b[49m\n\u001b[1;32m     24\u001b[0m \n\u001b[1;32m     25\u001b[0m \u001b[43m)\u001b[49m\n\u001b[1;32m     27\u001b[0m trainer \u001b[38;5;241m=\u001b[39m Seq2SeqTrainer(\n\u001b[1;32m     28\u001b[0m \n\u001b[1;32m     29\u001b[0m     model\u001b[38;5;241m=\u001b[39mmodel,\n\u001b[0;32m   (...)\u001b[0m\n\u001b[1;32m     42\u001b[0m \n\u001b[1;32m     43\u001b[0m )\n\u001b[1;32m     45\u001b[0m trainer\u001b[38;5;241m.\u001b[39mtrain()\n",
      "File \u001b[0;32m<string>:130\u001b[0m, in \u001b[0;36m__init__\u001b[0;34m(self, output_dir, overwrite_output_dir, do_train, do_eval, do_predict, evaluation_strategy, prediction_loss_only, per_device_train_batch_size, per_device_eval_batch_size, per_gpu_train_batch_size, per_gpu_eval_batch_size, gradient_accumulation_steps, eval_accumulation_steps, eval_delay, learning_rate, weight_decay, adam_beta1, adam_beta2, adam_epsilon, max_grad_norm, num_train_epochs, max_steps, lr_scheduler_type, lr_scheduler_kwargs, warmup_ratio, warmup_steps, log_level, log_level_replica, log_on_each_node, logging_dir, logging_strategy, logging_first_step, logging_steps, logging_nan_inf_filter, save_strategy, save_steps, save_total_limit, save_safetensors, save_on_each_node, save_only_model, no_cuda, use_cpu, use_mps_device, seed, data_seed, jit_mode_eval, use_ipex, bf16, fp16, fp16_opt_level, half_precision_backend, bf16_full_eval, fp16_full_eval, tf32, local_rank, ddp_backend, tpu_num_cores, tpu_metrics_debug, debug, dataloader_drop_last, eval_steps, dataloader_num_workers, dataloader_prefetch_factor, past_index, run_name, disable_tqdm, remove_unused_columns, label_names, load_best_model_at_end, metric_for_best_model, greater_is_better, ignore_data_skip, fsdp, fsdp_min_num_params, fsdp_config, fsdp_transformer_layer_cls_to_wrap, accelerator_config, deepspeed, label_smoothing_factor, optim, optim_args, adafactor, group_by_length, length_column_name, report_to, ddp_find_unused_parameters, ddp_bucket_cap_mb, ddp_broadcast_buffers, dataloader_pin_memory, dataloader_persistent_workers, skip_memory_metrics, use_legacy_prediction_loop, push_to_hub, resume_from_checkpoint, hub_model_id, hub_strategy, hub_token, hub_private_repo, hub_always_push, gradient_checkpointing, gradient_checkpointing_kwargs, include_inputs_for_metrics, eval_do_concat_batches, fp16_backend, push_to_hub_model_id, push_to_hub_organization, push_to_hub_token, mp_parameters, auto_find_batch_size, full_determinism, torchdynamo, ray_scope, ddp_timeout, torch_compile, torch_compile_backend, torch_compile_mode, dispatch_batches, split_batches, include_tokens_per_second, include_num_input_tokens_seen, neftune_noise_alpha, optim_target_modules, sortish_sampler, predict_with_generate, generation_max_length, generation_num_beams, generation_config)\u001b[0m\n",
      "File \u001b[0;32m~/Escritorio/UTAD_22_23/INAR_22_23/grupo_b/lib/python3.10/site-packages/transformers/training_args.py:1612\u001b[0m, in \u001b[0;36mTrainingArguments.__post_init__\u001b[0;34m(self)\u001b[0m\n\u001b[1;32m   1600\u001b[0m         \u001b[38;5;28;01mraise\u001b[39;00m \u001b[38;5;167;01mValueError\u001b[39;00m(\u001b[38;5;124m\"\u001b[39m\u001b[38;5;124m--optim adamw_torch_fused with --fp16 requires PyTorch>2.0\u001b[39m\u001b[38;5;124m\"\u001b[39m)\n\u001b[1;32m   1602\u001b[0m \u001b[38;5;28;01mif\u001b[39;00m (\n\u001b[1;32m   1603\u001b[0m     \u001b[38;5;28mself\u001b[39m\u001b[38;5;241m.\u001b[39mframework \u001b[38;5;241m==\u001b[39m \u001b[38;5;124m\"\u001b[39m\u001b[38;5;124mpt\u001b[39m\u001b[38;5;124m\"\u001b[39m\n\u001b[1;32m   1604\u001b[0m     \u001b[38;5;129;01mand\u001b[39;00m is_torch_available()\n\u001b[0;32m   (...)\u001b[0m\n\u001b[1;32m   1610\u001b[0m     \u001b[38;5;129;01mand\u001b[39;00m (\u001b[38;5;28mself\u001b[39m\u001b[38;5;241m.\u001b[39mfp16 \u001b[38;5;129;01mor\u001b[39;00m \u001b[38;5;28mself\u001b[39m\u001b[38;5;241m.\u001b[39mfp16_full_eval)\n\u001b[1;32m   1611\u001b[0m ):\n\u001b[0;32m-> 1612\u001b[0m     \u001b[38;5;28;01mraise\u001b[39;00m \u001b[38;5;167;01mValueError\u001b[39;00m(\n\u001b[1;32m   1613\u001b[0m         \u001b[38;5;124m\"\u001b[39m\u001b[38;5;124mFP16 Mixed precision training with AMP or APEX (`--fp16`) and FP16 half precision evaluation\u001b[39m\u001b[38;5;124m\"\u001b[39m\n\u001b[1;32m   1614\u001b[0m         \u001b[38;5;124m\"\u001b[39m\u001b[38;5;124m (`--fp16_full_eval`) can only be used on CUDA or MLU devices or NPU devices or certain XPU devices (with IPEX).\u001b[39m\u001b[38;5;124m\"\u001b[39m\n\u001b[1;32m   1615\u001b[0m     )\n\u001b[1;32m   1617\u001b[0m \u001b[38;5;28;01mif\u001b[39;00m (\n\u001b[1;32m   1618\u001b[0m     \u001b[38;5;28mself\u001b[39m\u001b[38;5;241m.\u001b[39mframework \u001b[38;5;241m==\u001b[39m \u001b[38;5;124m\"\u001b[39m\u001b[38;5;124mpt\u001b[39m\u001b[38;5;124m\"\u001b[39m\n\u001b[1;32m   1619\u001b[0m     \u001b[38;5;129;01mand\u001b[39;00m is_torch_available()\n\u001b[0;32m   (...)\u001b[0m\n\u001b[1;32m   1627\u001b[0m     \u001b[38;5;129;01mand\u001b[39;00m (\u001b[38;5;28mself\u001b[39m\u001b[38;5;241m.\u001b[39mbf16 \u001b[38;5;129;01mor\u001b[39;00m \u001b[38;5;28mself\u001b[39m\u001b[38;5;241m.\u001b[39mbf16_full_eval)\n\u001b[1;32m   1628\u001b[0m ):\n\u001b[1;32m   1629\u001b[0m     \u001b[38;5;28;01mraise\u001b[39;00m \u001b[38;5;167;01mValueError\u001b[39;00m(\n\u001b[1;32m   1630\u001b[0m         \u001b[38;5;124m\"\u001b[39m\u001b[38;5;124mBF16 Mixed precision training with AMP (`--bf16`) and BF16 half precision evaluation\u001b[39m\u001b[38;5;124m\"\u001b[39m\n\u001b[1;32m   1631\u001b[0m         \u001b[38;5;124m\"\u001b[39m\u001b[38;5;124m (`--bf16_full_eval`) can only be used on CUDA, XPU (with IPEX), NPU, MLU or CPU/TPU/NeuronCore devices.\u001b[39m\u001b[38;5;124m\"\u001b[39m\n\u001b[1;32m   1632\u001b[0m     )\n",
      "\u001b[0;31mValueError\u001b[0m: FP16 Mixed precision training with AMP or APEX (`--fp16`) and FP16 half precision evaluation (`--fp16_full_eval`) can only be used on CUDA or MLU devices or NPU devices or certain XPU devices (with IPEX)."
     ]
    }
   ],
   "source": [
    "training_args = Seq2SeqTrainingArguments(\n",
    "\n",
    "    output_dir=\"my_awesome_billsum_model\",\n",
    "\n",
    "    evaluation_strategy=\"epoch\",\n",
    "\n",
    "    learning_rate=2e-5,\n",
    "\n",
    "    per_device_train_batch_size=16,\n",
    "\n",
    "    per_device_eval_batch_size=16,\n",
    "\n",
    "    weight_decay=0.01,\n",
    "\n",
    "    save_total_limit=3,\n",
    "\n",
    "    num_train_epochs=4,\n",
    "\n",
    "    predict_with_generate=True,\n",
    "\n",
    "    fp16=True,\n",
    "\n",
    "    push_to_hub=True,\n",
    "\n",
    ")\n",
    "\n",
    "trainer = Seq2SeqTrainer(\n",
    "\n",
    "    model=model,\n",
    "\n",
    "    args=training_args,\n",
    "\n",
    "    train_dataset=tokenized_billsum[\"train\"],\n",
    "\n",
    "    eval_dataset=tokenized_billsum[\"test\"],\n",
    "\n",
    "    tokenizer=tokenizer,\n",
    "\n",
    "    data_collator=data_collator,\n",
    "\n",
    "    compute_metrics=compute_metrics,\n",
    "\n",
    ")\n",
    "\n",
    "trainer.train()"
   ]
  },
  {
   "cell_type": "markdown",
   "id": "88d18cd0",
   "metadata": {},
   "source": [
    "## Train\n",
    "\n",
    "Tensorflow\n",
    "\n",
    "To finetune a model in TensorFlow, start by setting up an optimizer function, learning rate schedule, and some training hyperparameters: "
   ]
  },
  {
   "cell_type": "code",
   "execution_count": 15,
   "id": "e3413357",
   "metadata": {},
   "outputs": [],
   "source": [
    "from transformers import create_optimizer, AdamWeightDecay\n",
    "\n",
    "optimizer = AdamWeightDecay(learning_rate=2e-5, weight_decay_rate=0.01)"
   ]
  },
  {
   "cell_type": "code",
   "execution_count": 16,
   "id": "c99cf5f9",
   "metadata": {},
   "outputs": [
    {
     "name": "stderr",
     "output_type": "stream",
     "text": [
      "2024-04-28 16:38:08.610444: W external/local_tsl/tsl/framework/cpu_allocator_impl.cc:83] Allocation of 65798144 exceeds 10% of free system memory.\n",
      "2024-04-28 16:38:08.797004: W external/local_tsl/tsl/framework/cpu_allocator_impl.cc:83] Allocation of 65798144 exceeds 10% of free system memory.\n",
      "2024-04-28 16:38:08.820863: W external/local_tsl/tsl/framework/cpu_allocator_impl.cc:83] Allocation of 65798144 exceeds 10% of free system memory.\n",
      "2024-04-28 16:38:09.918118: W external/local_tsl/tsl/framework/cpu_allocator_impl.cc:83] Allocation of 65798144 exceeds 10% of free system memory.\n",
      "All PyTorch model weights were used when initializing TFT5ForConditionalGeneration.\n",
      "\n",
      "All the weights of TFT5ForConditionalGeneration were initialized from the PyTorch model.\n",
      "If your task is similar to the task the model of the checkpoint was trained on, you can already use TFT5ForConditionalGeneration for predictions without further training.\n"
     ]
    }
   ],
   "source": [
    "from transformers import TFAutoModelForSeq2SeqLM\n",
    "\n",
    "model = TFAutoModelForSeq2SeqLM.from_pretrained(checkpoint)"
   ]
  },
  {
   "cell_type": "markdown",
   "id": "b898ad8f",
   "metadata": {},
   "source": [
    "Convert your datasets to the tf.data.Dataset format with prepare_tf_dataset():"
   ]
  },
  {
   "cell_type": "code",
   "execution_count": 17,
   "id": "d0665de7",
   "metadata": {},
   "outputs": [],
   "source": [
    "tf_train_set = model.prepare_tf_dataset(\n",
    "\n",
    "    tokenized_billsum[\"train\"],\n",
    "\n",
    "    shuffle=True,\n",
    "\n",
    "    batch_size=16,\n",
    "\n",
    "    collate_fn=data_collator,\n",
    "\n",
    ")\n",
    "\n",
    "tf_test_set = model.prepare_tf_dataset(\n",
    "\n",
    "    tokenized_billsum[\"test\"],\n",
    "\n",
    "    shuffle=False,\n",
    "\n",
    "    batch_size=16,\n",
    "\n",
    "    collate_fn=data_collator,\n",
    "\n",
    ")"
   ]
  },
  {
   "cell_type": "code",
   "execution_count": 18,
   "id": "3efb1779",
   "metadata": {},
   "outputs": [],
   "source": [
    "import tensorflow as tf\n",
    "\n",
    "model.compile(optimizer=optimizer)  # No loss argument!"
   ]
  },
  {
   "cell_type": "markdown",
   "id": "aae26edf",
   "metadata": {},
   "source": [
    "The last two things to setup before you start training is to compute the ROUGE score from the predictions, and provide a way to push your model to the Hub. Both are done by using Keras callbacks.\n",
    "\n",
    "Pass your compute_metrics function to KerasMetricCallback:"
   ]
  },
  {
   "cell_type": "code",
   "execution_count": 20,
   "id": "b973ee16",
   "metadata": {},
   "outputs": [],
   "source": [
    "from transformers.keras_callbacks import KerasMetricCallback\n",
    "\n",
    "metric_callback = KerasMetricCallback(metric_fn=compute_metrics, eval_dataset=tf_test_set)"
   ]
  },
  {
   "cell_type": "markdown",
   "id": "180838c7",
   "metadata": {},
   "source": []
  },
  {
   "cell_type": "code",
   "execution_count": 21,
   "id": "5b3defc7",
   "metadata": {},
   "outputs": [],
   "source": [
    "callbacks = [metric_callback]"
   ]
  },
  {
   "cell_type": "code",
   "execution_count": null,
   "id": "cc11b9a1",
   "metadata": {},
   "outputs": [
    {
     "name": "stdout",
     "output_type": "stream",
     "text": [
      "Epoch 1/3\n",
      "WARNING:tensorflow:AutoGraph could not transform <function infer_framework at 0x7f91b5667d00> and will run it as-is.\n",
      "Cause: for/else statement not yet supported\n",
      "To silence this warning, decorate the function with @tf.autograph.experimental.do_not_convert\n",
      "WARNING: AutoGraph could not transform <function infer_framework at 0x7f91b5667d00> and will run it as-is.\n",
      "Cause: for/else statement not yet supported\n",
      "To silence this warning, decorate the function with @tf.autograph.experimental.do_not_convert\n"
     ]
    },
    {
     "name": "stderr",
     "output_type": "stream",
     "text": [
      "2024-04-28 16:41:24.078636: W external/local_tsl/tsl/framework/cpu_allocator_impl.cc:83] Allocation of 65798144 exceeds 10% of free system memory.\n"
     ]
    }
   ],
   "source": [
    "model.fit(x=tf_train_set, \n",
    "          validation_data=tf_test_set, \n",
    "          epochs=3, \n",
    "          callbacks=callbacks)"
   ]
  }
 ],
 "metadata": {
  "kernelspec": {
   "display_name": "Python 3 (ipykernel)",
   "language": "python",
   "name": "python3"
  },
  "language_info": {
   "codemirror_mode": {
    "name": "ipython",
    "version": 3
   },
   "file_extension": ".py",
   "mimetype": "text/x-python",
   "name": "python",
   "nbconvert_exporter": "python",
   "pygments_lexer": "ipython3",
   "version": "3.10.12"
  }
 },
 "nbformat": 4,
 "nbformat_minor": 5
}
