{
  "cells": [
    {
      "cell_type": "markdown",
      "metadata": {
        "id": "view-in-github",
        "colab_type": "text"
      },
      "source": [
        "<a href=\"https://colab.research.google.com/github/pedroconcejero/UTAD_python/blob/master/huggingface_summarisation_con_TF_2.ipynb\" target=\"_parent\"><img src=\"https://colab.research.google.com/assets/colab-badge.svg\" alt=\"Open In Colab\"/></a>"
      ]
    },
    {
      "cell_type": "code",
      "execution_count": 41,
      "id": "3cefd1f9",
      "metadata": {
        "colab": {
          "base_uri": "https://localhost:8080/"
        },
        "id": "3cefd1f9",
        "outputId": "4e8ce3a1-e78b-4479-99a7-19077e407234"
      },
      "outputs": [
        {
          "output_type": "stream",
          "name": "stdout",
          "text": [
            "Requirement already satisfied: transformers in /usr/local/lib/python3.10/dist-packages (4.40.0)\n",
            "Requirement already satisfied: datasets in /usr/local/lib/python3.10/dist-packages (2.19.0)\n",
            "Requirement already satisfied: evaluate in /usr/local/lib/python3.10/dist-packages (0.4.1)\n",
            "Requirement already satisfied: rouge_score in /usr/local/lib/python3.10/dist-packages (0.1.2)\n",
            "Requirement already satisfied: filelock in /usr/local/lib/python3.10/dist-packages (from transformers) (3.13.4)\n",
            "Requirement already satisfied: huggingface-hub<1.0,>=0.19.3 in /usr/local/lib/python3.10/dist-packages (from transformers) (0.22.2)\n",
            "Requirement already satisfied: numpy>=1.17 in /usr/local/lib/python3.10/dist-packages (from transformers) (1.25.2)\n",
            "Requirement already satisfied: packaging>=20.0 in /usr/local/lib/python3.10/dist-packages (from transformers) (24.0)\n",
            "Requirement already satisfied: pyyaml>=5.1 in /usr/local/lib/python3.10/dist-packages (from transformers) (6.0.1)\n",
            "Requirement already satisfied: regex!=2019.12.17 in /usr/local/lib/python3.10/dist-packages (from transformers) (2023.12.25)\n",
            "Requirement already satisfied: requests in /usr/local/lib/python3.10/dist-packages (from transformers) (2.31.0)\n",
            "Requirement already satisfied: tokenizers<0.20,>=0.19 in /usr/local/lib/python3.10/dist-packages (from transformers) (0.19.1)\n",
            "Requirement already satisfied: safetensors>=0.4.1 in /usr/local/lib/python3.10/dist-packages (from transformers) (0.4.3)\n",
            "Requirement already satisfied: tqdm>=4.27 in /usr/local/lib/python3.10/dist-packages (from transformers) (4.66.2)\n",
            "Requirement already satisfied: pyarrow>=12.0.0 in /usr/local/lib/python3.10/dist-packages (from datasets) (14.0.2)\n",
            "Requirement already satisfied: pyarrow-hotfix in /usr/local/lib/python3.10/dist-packages (from datasets) (0.6)\n",
            "Requirement already satisfied: dill<0.3.9,>=0.3.0 in /usr/local/lib/python3.10/dist-packages (from datasets) (0.3.8)\n",
            "Requirement already satisfied: pandas in /usr/local/lib/python3.10/dist-packages (from datasets) (2.0.3)\n",
            "Requirement already satisfied: xxhash in /usr/local/lib/python3.10/dist-packages (from datasets) (3.4.1)\n",
            "Requirement already satisfied: multiprocess in /usr/local/lib/python3.10/dist-packages (from datasets) (0.70.16)\n",
            "Requirement already satisfied: fsspec[http]<=2024.3.1,>=2023.1.0 in /usr/local/lib/python3.10/dist-packages (from datasets) (2023.6.0)\n",
            "Requirement already satisfied: aiohttp in /usr/local/lib/python3.10/dist-packages (from datasets) (3.9.5)\n",
            "Requirement already satisfied: responses<0.19 in /usr/local/lib/python3.10/dist-packages (from evaluate) (0.18.0)\n",
            "Requirement already satisfied: absl-py in /usr/local/lib/python3.10/dist-packages (from rouge_score) (1.4.0)\n",
            "Requirement already satisfied: nltk in /usr/local/lib/python3.10/dist-packages (from rouge_score) (3.8.1)\n",
            "Requirement already satisfied: six>=1.14.0 in /usr/local/lib/python3.10/dist-packages (from rouge_score) (1.16.0)\n",
            "Requirement already satisfied: aiosignal>=1.1.2 in /usr/local/lib/python3.10/dist-packages (from aiohttp->datasets) (1.3.1)\n",
            "Requirement already satisfied: attrs>=17.3.0 in /usr/local/lib/python3.10/dist-packages (from aiohttp->datasets) (23.2.0)\n",
            "Requirement already satisfied: frozenlist>=1.1.1 in /usr/local/lib/python3.10/dist-packages (from aiohttp->datasets) (1.4.1)\n",
            "Requirement already satisfied: multidict<7.0,>=4.5 in /usr/local/lib/python3.10/dist-packages (from aiohttp->datasets) (6.0.5)\n",
            "Requirement already satisfied: yarl<2.0,>=1.0 in /usr/local/lib/python3.10/dist-packages (from aiohttp->datasets) (1.9.4)\n",
            "Requirement already satisfied: async-timeout<5.0,>=4.0 in /usr/local/lib/python3.10/dist-packages (from aiohttp->datasets) (4.0.3)\n",
            "Requirement already satisfied: typing-extensions>=3.7.4.3 in /usr/local/lib/python3.10/dist-packages (from huggingface-hub<1.0,>=0.19.3->transformers) (4.11.0)\n",
            "Requirement already satisfied: charset-normalizer<4,>=2 in /usr/local/lib/python3.10/dist-packages (from requests->transformers) (3.3.2)\n",
            "Requirement already satisfied: idna<4,>=2.5 in /usr/local/lib/python3.10/dist-packages (from requests->transformers) (3.7)\n",
            "Requirement already satisfied: urllib3<3,>=1.21.1 in /usr/local/lib/python3.10/dist-packages (from requests->transformers) (2.0.7)\n",
            "Requirement already satisfied: certifi>=2017.4.17 in /usr/local/lib/python3.10/dist-packages (from requests->transformers) (2024.2.2)\n",
            "Requirement already satisfied: click in /usr/local/lib/python3.10/dist-packages (from nltk->rouge_score) (8.1.7)\n",
            "Requirement already satisfied: joblib in /usr/local/lib/python3.10/dist-packages (from nltk->rouge_score) (1.4.0)\n",
            "Requirement already satisfied: python-dateutil>=2.8.2 in /usr/local/lib/python3.10/dist-packages (from pandas->datasets) (2.8.2)\n",
            "Requirement already satisfied: pytz>=2020.1 in /usr/local/lib/python3.10/dist-packages (from pandas->datasets) (2023.4)\n",
            "Requirement already satisfied: tzdata>=2022.1 in /usr/local/lib/python3.10/dist-packages (from pandas->datasets) (2024.1)\n"
          ]
        }
      ],
      "source": [
        "!pip install transformers datasets evaluate rouge_score"
      ]
    },
    {
      "cell_type": "code",
      "execution_count": 42,
      "id": "3c60456f",
      "metadata": {
        "id": "3c60456f"
      },
      "outputs": [],
      "source": [
        "from datasets import load_dataset\n",
        "\n",
        "billsum = load_dataset(\"billsum\", split=\"ca_test\")"
      ]
    },
    {
      "cell_type": "code",
      "execution_count": 43,
      "id": "03c18a26",
      "metadata": {
        "id": "03c18a26"
      },
      "outputs": [],
      "source": [
        "billsum = billsum.train_test_split(test_size=0.2)"
      ]
    },
    {
      "cell_type": "code",
      "source": [
        "type(billsum)"
      ],
      "metadata": {
        "id": "ZsJazXkVY-tp",
        "outputId": "e1a2d4aa-cbf9-46c0-e4ec-932ad837fcc0",
        "colab": {
          "base_uri": "https://localhost:8080/"
        }
      },
      "id": "ZsJazXkVY-tp",
      "execution_count": 45,
      "outputs": [
        {
          "output_type": "execute_result",
          "data": {
            "text/plain": [
              "datasets.dataset_dict.DatasetDict"
            ]
          },
          "metadata": {},
          "execution_count": 45
        }
      ]
    },
    {
      "cell_type": "code",
      "execution_count": 44,
      "id": "6ffea546",
      "metadata": {
        "colab": {
          "base_uri": "https://localhost:8080/"
        },
        "id": "6ffea546",
        "outputId": "13c553ef-a5c5-44ca-c838-2603d7f99b6c"
      },
      "outputs": [
        {
          "output_type": "execute_result",
          "data": {
            "text/plain": [
              "{'text': 'The people of the State of California do enact as follows:\\n\\n\\nSECTION 1.\\nSection 18897 of the Revenue and Taxation Code is amended to read:\\n18897.\\nAll moneys transferred to the School Supplies for Homeless Children Fund, upon appropriation by the Legislature, shall be allocated as follows:\\n(a) To the Franchise Tax Board, the State Department of Social Services, and the Controller for reimbursement of all costs incurred by the Franchise Tax Board, the Controller, and the State Department of Social Services in connection with their duties under this article.\\n(b) To the State Department of Social Services as follows:\\n(1) For the 2014–15 fiscal year, the Controller shall transfer the funds appropriated to the State Department of Education for this purpose from Budget Items 6110-001-8075 and 6110-101-8075 to the State Department of Social Services. Funds transferred may be used for state operations or local assistance expenditures and for distribution to a nonprofit organization exempt from federal income tax as an organization described in Section 501(c)(3) of the Internal Revenue Code for the sole purpose of assisting pupils in California on a statewide basis pursuant to the federal McKinney-Vento Homeless Assistance Act (42 U.S.C. Sec. 11301 et seq.) by providing school supplies and health-related products to partnering local education agencies for distribution to homeless children, as defined by the federal McKinney-Vento Homeless Assistance Act (42 U.S.C. Sec. 11434a). The nonprofit organization shall provide a minimum 100 percent match for all funds received from the School Supplies for Homeless Children Fund. If the nonprofit organization provides in-kind materials towards the 100 percent match, then the value of the in-kind materials contributing to a 100 percent match shall be verified by the donor donating the in-kind materials and cannot exceed the market value of the materials if sold at retail. The State Department of Social Services shall enter into a subvention services agreement with the nonprofit organization.\\n(2) The State Department of Social Services’ first designation of a nonprofit organization shall be valid until January 1, 2017. On that date, and every three calendar years thereafter, while this section is operative and in effect, the State Department of Social Services shall designate the same or a different nonprofit organization pursuant to this section. The State Department of Social Services may revoke the designation if the nonprofit organization fails to comply with the provisions of this article. If a designation is revoked, the State Department of Social Services shall designate a new nonprofit organization within three calendar months or as soon as administratively feasible.\\n(3) Funds shall be distributed by the State Department of Social Services only after evidence is presented to the State Department of Social Services that demonstrates that the local education agencies, domestic violence shelters, or eligible basic living centers and transitional living centers, as specified in paragraph (3) of subdivision (c), have received the materials described in paragraph (1).\\n(c) (1) Funds distributed to the nonprofit organization pursuant to this section shall be used only for costs incurred to procure, assemble, and ship school supplies and health-related products. Funds made available pursuant to this section shall not be used for administrative purposes, to reimburse costs associated with administering grants of school supplies and health-related products to local education agencies or domestic violence shelters, or for any purpose relating to the operation of the nonprofit organization.\\n(2) The nonprofit organization may provide school supplies and health-related products to children living in domestic violence shelters.\\n(3) The nonprofit organization may provide school supplies and health-related products to homeless children and homeless youth, as defined in Section 11139.3 of the Government Code, residing in or receiving services from eligible basic living centers and transitional living centers eligible for assistance as specified in the Runaway and Homeless Youth Act (42 U.S.C. 5701 et seq.), as that act read on January 1, 2015.\\n(d) The State Department of Social Services shall verify that the designated nonprofit organization procured school supplies and health-related products and provided matching funds or in-kind materials as described in this section.\\nSEC. 2.\\nSection 18898 of the Revenue and Taxation Code is amended to read:\\n18898.\\n(a) Except as otherwise provided in subdivision (b), this article shall remain in effect only until January 1, 2022, and is repealed as of December 1 of that year.\\n(b) (1) By September 1 of the second calendar year and each subsequent calendar year that the School Supplies for Homeless Children Fund appears on the tax return, the Franchise Tax Board shall do all of the following:\\n(A) Determine the minimum contribution amount required to be received during the next calendar year for the fund to appear on the tax return for the taxable year that includes that next calendar year.\\n(B) Provide written notification to the State Department of Social Services of the amount determined in subparagraph (A).\\n(C) Determine whether the amount of contributions estimated to be received during the calendar year will equal or exceed the minimum contribution amount determined by the Franchise Tax Board for the calendar year pursuant to subparagraph (A). The Franchise Tax Board shall estimate the amount of contributions to be received by using the actual amounts received and an estimate of the contributions that will be received by the end of that calendar year.\\n(2) If the Franchise Tax Board determines that the amount of the contributions estimated to be received during a calendar year will not at least equal the minimum contribution amount for the calendar year, this article shall be inoperative with respect to taxable years beginning on or after January 1 of that calendar year and shall be repealed on December 1 of that year.\\n(3) For purposes of this section, the minimum contribution amount for a calendar year means two hundred fifty thousand dollars ($250,000) for the second calendar year after the first appearance of the School Supplies for Homeless Children Fund on the personal income tax return or the adjusted minimum contribution amount adjusted pursuant to subdivision (c).\\n(c) For each calendar year, beginning with the third calendar year after the first appearance of the School Supplies for Homeless Children Fund on the personal income tax return, the Franchise Tax Board shall adjust, on or before September 1 of that calendar year, the minimum contribution amount specified in subdivision (b) as follows:\\n(1) The minimum estimated contribution amount for the calendar year shall be an amount equal to the product of the minimum estimated contribution amount for the calendar year multiplied by the inflation factor adjustment as specified in subparagraph (A) of paragraph (2) of subdivision (h) of Section 17041, rounded off to the nearest dollar.\\n(2) The inflation factor adjustment used for the calendar year shall be based on the figures for the percentage change in the California Consumer Price Index for all items received on or before August 1 of the calendar year pursuant to paragraph (1) of subdivision (h) of Section 17041.\\n(d) Notwithstanding the repeal of this article, any contribution amounts designated pursuant to this article prior to its repeal shall continue to be transferred and disbursed in accordance with this article as in effect immediately prior to that repeal.',\n",
              " 'summary': 'Existing law authorizes an individual to contribute amounts in excess of his or her personal income tax liability for the support of specified funds, including the School Supplies for Homeless Children Fund. Existing law requires the moneys deposited in the School Supplies for Homeless Children Fund, upon appropriation by the Legislature, to be allocated to the State Department of Social Services for distribution to a designated nonprofit organization for the sole purpose of assisting pupils in California pursuant to the federal McKinney-Vento Homeless Assistance Act, as provided. Existing law provides that this voluntary contribution remain in effect only until January 1 of the 5th taxable year in which the fund appears on the tax return or when the amount of contributions by taxpayers does not meet the minimum contribution amount, whichever occurs first.\\nThis bill would authorize the designated nonprofit organization to provide school supplies and health-related products to homeless children and homeless youth residing in or receiving services from specified living centers and would extend the time period for the School Supplies for Homeless Children Fund to appear on the tax return to January 1, 2022, or when the amount of contributions by taxpayers does not meet the minimum contribution amount, whichever occurs first.',\n",
              " 'title': 'An act to amend Sections 18897 and 18898 of the Revenue and Taxation Code, relating to taxation.'}"
            ]
          },
          "metadata": {},
          "execution_count": 44
        }
      ],
      "source": [
        "billsum[\"train\"][0]"
      ]
    },
    {
      "cell_type": "markdown",
      "id": "220b7405",
      "metadata": {
        "id": "220b7405"
      },
      "source": [
        "There are two fields that you’ll want to use:\n",
        "\n",
        "    text: the text of the bill which’ll be the input to the model.\n",
        "    summary: a condensed version of text which’ll be the model target."
      ]
    },
    {
      "cell_type": "markdown",
      "id": "7e85bc7c",
      "metadata": {
        "id": "7e85bc7c"
      },
      "source": [
        "## Preprocess\n",
        "\n",
        "The next step is to load a T5 tokenizer to process text and summary:\n",
        "\n",
        "The preprocessing function you want to create needs to:\n",
        "\n",
        "  - Prefix the input with a prompt so T5 knows this is a summarization task. Some models capable of multiple NLP tasks require prompting for specific tasks.\n",
        "  - Use the keyword text_target argument when tokenizing labels.\n",
        "  - Truncate sequences to be no longer than the maximum length set by the max_length parameter."
      ]
    },
    {
      "cell_type": "code",
      "execution_count": 46,
      "id": "1e571e5d",
      "metadata": {
        "scrolled": true,
        "id": "1e571e5d"
      },
      "outputs": [],
      "source": [
        "from transformers import AutoTokenizer\n",
        "\n",
        "checkpoint = \"google-t5/t5-small\"\n",
        "\n",
        "tokenizer = AutoTokenizer.from_pretrained(checkpoint)"
      ]
    },
    {
      "cell_type": "code",
      "execution_count": 47,
      "id": "715cf28e",
      "metadata": {
        "id": "715cf28e"
      },
      "outputs": [],
      "source": [
        "prefix = \"summarize: \"\n",
        "\n",
        "# IMPORTANT CHANGED max_length inputs to 512 and of labels to 64.\n",
        "# OTHERWISE WE HAVE NO RESOURCES\n",
        "\n",
        "def preprocess_function(examples):\n",
        "\n",
        "    inputs = [prefix + doc for doc in examples[\"text\"]]\n",
        "\n",
        "    model_inputs = tokenizer(inputs,\n",
        "                             max_length=512,\n",
        "                             truncation=True)\n",
        "\n",
        "    labels = tokenizer(text_target=examples[\"summary\"],\n",
        "                       max_length=64,\n",
        "                       truncation=True)\n",
        "\n",
        "    model_inputs[\"labels\"] = labels[\"input_ids\"]\n",
        "\n",
        "    return model_inputs"
      ]
    },
    {
      "cell_type": "markdown",
      "id": "2513e104",
      "metadata": {
        "id": "2513e104"
      },
      "source": [
        "To apply the preprocessing function over the entire dataset, use 🤗 Datasets map method. You can speed up the map function by setting batched=True to process multiple elements of the dataset at once:"
      ]
    },
    {
      "cell_type": "code",
      "execution_count": 48,
      "id": "43d8bac2",
      "metadata": {
        "colab": {
          "base_uri": "https://localhost:8080/",
          "height": 81,
          "referenced_widgets": [
            "a2fdbb3c823443d695ca8d9aba402c5f",
            "7c16f4c821594ed18bf500ef2c0cbbbd",
            "bd03f62e310d40e49c29511619bd0948",
            "a7a375028b134bb99e5c7386d2e66b8b",
            "9369395ec5274a15a346e238e3b11edc",
            "5af76cb7619149a7b4defd474f98a061",
            "84773ed47d08402aa1fcbdd8a639cc9b",
            "f9e7b1e80fb84e269b325e4ad3a2b750",
            "a44ba413031140c29507bd4990c40b2f",
            "58a37dda01af49d0b14acd21dac5fe77",
            "2b2c27c2d02e45ceb92158cf07edc45a",
            "ad52f8dab23f46cab64227679b9e3670",
            "96ac9a38643a4068b7907524df3f791e",
            "1d08ed3ed6a14f6ea0f641ecfa21a752",
            "ab7b046bbdac45a7b6530e5bf4aec079",
            "095ec73d7f6d44369cdcbb0b7c80cedd",
            "c5e93cb95a30479889a100f05c99b41e",
            "75ee01805054402a9436a9721bd57d75",
            "852048167f9748278bbe192e3aaeda62",
            "bc9f45a6ce7c46c887f32d585b190358",
            "3af33182df1a433fa0b032a07f49c2dc",
            "86ec3876bd3f45129b75e70d0591ac7c"
          ]
        },
        "id": "43d8bac2",
        "outputId": "01c0562d-9648-4d04-98bc-316e07001e2e"
      },
      "outputs": [
        {
          "output_type": "display_data",
          "data": {
            "text/plain": [
              "Map:   0%|          | 0/989 [00:00<?, ? examples/s]"
            ],
            "application/vnd.jupyter.widget-view+json": {
              "version_major": 2,
              "version_minor": 0,
              "model_id": "a2fdbb3c823443d695ca8d9aba402c5f"
            }
          },
          "metadata": {}
        },
        {
          "output_type": "display_data",
          "data": {
            "text/plain": [
              "Map:   0%|          | 0/248 [00:00<?, ? examples/s]"
            ],
            "application/vnd.jupyter.widget-view+json": {
              "version_major": 2,
              "version_minor": 0,
              "model_id": "ad52f8dab23f46cab64227679b9e3670"
            }
          },
          "metadata": {}
        }
      ],
      "source": [
        "tokenized_billsum = billsum.map(preprocess_function, batched=True)"
      ]
    },
    {
      "cell_type": "markdown",
      "id": "203e9958",
      "metadata": {
        "id": "203e9958"
      },
      "source": [
        "Now create a batch of examples using DataCollatorForSeq2Seq. It’s more efficient to dynamically pad the sentences to the longest length in a batch during collation, instead of padding the whole dataset to the maximum length."
      ]
    },
    {
      "cell_type": "code",
      "execution_count": 49,
      "id": "b955587b",
      "metadata": {
        "id": "b955587b"
      },
      "outputs": [],
      "source": [
        "from transformers import DataCollatorForSeq2Seq\n",
        "\n",
        "data_collator = DataCollatorForSeq2Seq(tokenizer=tokenizer, model=checkpoint)"
      ]
    },
    {
      "cell_type": "markdown",
      "id": "ef2ee12d",
      "metadata": {
        "id": "ef2ee12d"
      },
      "source": [
        "# Evaluate\n",
        "\n",
        "Including a metric during training is often helpful for evaluating your model’s performance. You can quickly load a evaluation method with the 🤗 Evaluate library. For this task, load the ROUGE metric (see the 🤗 Evaluate quick tour to learn more about how to load and compute a metric):"
      ]
    },
    {
      "cell_type": "code",
      "execution_count": 50,
      "id": "f7cfee6a",
      "metadata": {
        "id": "f7cfee6a"
      },
      "outputs": [],
      "source": [
        "import evaluate\n",
        "\n",
        "rouge = evaluate.load(\"rouge\")"
      ]
    },
    {
      "cell_type": "markdown",
      "id": "bd56c9e2",
      "metadata": {
        "id": "bd56c9e2"
      },
      "source": [
        "Then create a function that passes your predictions and labels to compute to calculate the ROUGE metric:"
      ]
    },
    {
      "cell_type": "code",
      "execution_count": 51,
      "id": "1210bff5",
      "metadata": {
        "id": "1210bff5"
      },
      "outputs": [],
      "source": [
        "import numpy as np\n",
        "\n",
        "\n",
        "def compute_metrics(eval_pred):\n",
        "\n",
        "    predictions, labels = eval_pred\n",
        "\n",
        "    decoded_preds = tokenizer.batch_decode(predictions, skip_special_tokens=True)\n",
        "\n",
        "    labels = np.where(labels != -100, labels, tokenizer.pad_token_id)\n",
        "\n",
        "    decoded_labels = tokenizer.batch_decode(labels, skip_special_tokens=True)\n",
        "\n",
        "    result = rouge.compute(predictions=decoded_preds, references=decoded_labels, use_stemmer=True)\n",
        "\n",
        "    prediction_lens = [np.count_nonzero(pred != tokenizer.pad_token_id) for pred in predictions]\n",
        "\n",
        "    result[\"gen_len\"] = np.mean(prediction_lens)\n",
        "\n",
        "    return {k: round(v, 4) for k, v in result.items()}"
      ]
    },
    {
      "cell_type": "markdown",
      "source": [
        "\n",
        "## Train Tensorflow\n",
        "\n",
        "To finetune a model in TensorFlow, start by setting up an optimizer function, learning rate schedule, and some training hyperparameters:\n"
      ],
      "metadata": {
        "id": "QfByXNSoYosP"
      },
      "id": "QfByXNSoYosP"
    },
    {
      "cell_type": "code",
      "execution_count": 52,
      "id": "e3413357",
      "metadata": {
        "id": "e3413357"
      },
      "outputs": [],
      "source": [
        "from transformers import create_optimizer, AdamWeightDecay\n",
        "\n",
        "optimizer = AdamWeightDecay(learning_rate=2e-5, weight_decay_rate=0.01)"
      ]
    },
    {
      "cell_type": "code",
      "execution_count": 53,
      "id": "c99cf5f9",
      "metadata": {
        "colab": {
          "base_uri": "https://localhost:8080/"
        },
        "id": "c99cf5f9",
        "outputId": "31bf1e8a-16a0-412e-d3c5-aed84c4954eb"
      },
      "outputs": [
        {
          "output_type": "stream",
          "name": "stderr",
          "text": [
            "All PyTorch model weights were used when initializing TFT5ForConditionalGeneration.\n",
            "\n",
            "All the weights of TFT5ForConditionalGeneration were initialized from the PyTorch model.\n",
            "If your task is similar to the task the model of the checkpoint was trained on, you can already use TFT5ForConditionalGeneration for predictions without further training.\n"
          ]
        }
      ],
      "source": [
        "from transformers import TFAutoModelForSeq2SeqLM\n",
        "\n",
        "model = TFAutoModelForSeq2SeqLM.from_pretrained(checkpoint)"
      ]
    },
    {
      "cell_type": "markdown",
      "id": "b898ad8f",
      "metadata": {
        "id": "b898ad8f"
      },
      "source": [
        "Convert your datasets to the tf.data.Dataset format with prepare_tf_dataset():"
      ]
    },
    {
      "cell_type": "code",
      "execution_count": 54,
      "id": "d0665de7",
      "metadata": {
        "id": "d0665de7"
      },
      "outputs": [],
      "source": [
        "tf_train_set = model.prepare_tf_dataset(\n",
        "\n",
        "    tokenized_billsum[\"train\"],\n",
        "\n",
        "    shuffle=True,\n",
        "\n",
        "    batch_size=16,\n",
        "\n",
        "    collate_fn=data_collator,\n",
        "\n",
        ")\n",
        "\n",
        "tf_test_set = model.prepare_tf_dataset(\n",
        "\n",
        "    tokenized_billsum[\"test\"],\n",
        "\n",
        "    shuffle=False,\n",
        "\n",
        "    batch_size=16,\n",
        "\n",
        "    collate_fn=data_collator,\n",
        "\n",
        ")"
      ]
    },
    {
      "cell_type": "code",
      "execution_count": 55,
      "id": "3efb1779",
      "metadata": {
        "id": "3efb1779"
      },
      "outputs": [],
      "source": [
        "import tensorflow as tf\n",
        "\n",
        "model.compile(optimizer=optimizer)  # No loss argument!"
      ]
    },
    {
      "cell_type": "markdown",
      "id": "aae26edf",
      "metadata": {
        "id": "aae26edf"
      },
      "source": [
        "The last two things to setup before you start training is to compute the ROUGE score from the predictions, and provide a way to push your model to the Hub. Both are done by using Keras callbacks.\n",
        "\n",
        "Pass your compute_metrics function to KerasMetricCallback:\n",
        "\n",
        "## THIS CALLBACK **DOES NOT WORK IN COLAB**"
      ]
    },
    {
      "cell_type": "code",
      "execution_count": null,
      "id": "b973ee16",
      "metadata": {
        "id": "b973ee16"
      },
      "outputs": [],
      "source": [
        "from transformers.keras_callbacks import KerasMetricCallback\n",
        "\n",
        "metric_callback = KerasMetricCallback(metric_fn=compute_metrics, eval_dataset=tf_test_set)"
      ]
    },
    {
      "cell_type": "markdown",
      "id": "180838c7",
      "metadata": {
        "id": "180838c7"
      },
      "source": [
        "Aunque creemos este callback **no se usará en el .fit**"
      ]
    },
    {
      "cell_type": "markdown",
      "source": [],
      "metadata": {
        "id": "fkYaN2ZWavGs"
      },
      "id": "fkYaN2ZWavGs"
    },
    {
      "cell_type": "code",
      "execution_count": null,
      "id": "5b3defc7",
      "metadata": {
        "id": "5b3defc7"
      },
      "outputs": [],
      "source": [
        "callbacks = [metric_callback]"
      ]
    },
    {
      "cell_type": "code",
      "execution_count": 56,
      "id": "cc11b9a1",
      "metadata": {
        "colab": {
          "base_uri": "https://localhost:8080/"
        },
        "id": "cc11b9a1",
        "outputId": "81bf2b5b-2888-4dda-b875-d45276a56c06"
      },
      "outputs": [
        {
          "output_type": "stream",
          "name": "stdout",
          "text": [
            "Epoch 1/3\n",
            "61/61 [==============================] - 106s 969ms/step - loss: 3.3850 - val_loss: 2.9303\n",
            "Epoch 2/3\n",
            "61/61 [==============================] - 44s 729ms/step - loss: 3.0322 - val_loss: 2.7383\n",
            "Epoch 3/3\n",
            "61/61 [==============================] - 44s 720ms/step - loss: 2.8924 - val_loss: 2.6443\n"
          ]
        },
        {
          "output_type": "execute_result",
          "data": {
            "text/plain": [
              "<tf_keras.src.callbacks.History at 0x7c9216305990>"
            ]
          },
          "metadata": {},
          "execution_count": 56
        }
      ],
      "source": [
        "model.fit(x=tf_train_set,\n",
        "          validation_data=tf_test_set,\n",
        "          epochs=3)"
      ]
    },
    {
      "cell_type": "markdown",
      "source": [
        "ES NECESARIO GUARDAR EL MODELO\n",
        "** con save_pretrained**\n",
        "PARA USARLO EN PIPELINE\n",
        "\n",
        "Se puede guardar en local o en un hub de huggingface"
      ],
      "metadata": {
        "id": "JV9MdFqxZ8e3"
      },
      "id": "JV9MdFqxZ8e3"
    },
    {
      "cell_type": "code",
      "source": [
        "model.save_pretrained(\"modelos/modelo1\", from_pt=True)"
      ],
      "metadata": {
        "id": "y93LwlhlXCrr"
      },
      "id": "y93LwlhlXCrr",
      "execution_count": 58,
      "outputs": []
    },
    {
      "cell_type": "markdown",
      "source": [
        "Proponemos un texto para resumir:"
      ],
      "metadata": {
        "id": "rNlR2ggSbL1t"
      },
      "id": "rNlR2ggSbL1t"
    },
    {
      "cell_type": "code",
      "source": [
        "text = \"summarize: The Inflation Reduction Act lowers prescription drug costs, health care costs, and energy costs. It's the most aggressive action on tackling the climate crisis in American history, which will lift up American workers and create good-paying, union jobs across the country. It'll lower the deficit and ask the ultra-wealthy and corporations to pay their fair share. And no one making under $400,000 per year will pay a penny more in taxes.\""
      ],
      "metadata": {
        "id": "cq7YapmnSts0"
      },
      "id": "cq7YapmnSts0",
      "execution_count": null,
      "outputs": []
    },
    {
      "cell_type": "markdown",
      "source": [
        "Creamos nuestro pipeline A PARTIR DEL MODELO GUARDADO"
      ],
      "metadata": {
        "id": "E3w6jWpJbTIL"
      },
      "id": "E3w6jWpJbTIL"
    },
    {
      "cell_type": "code",
      "source": [
        "from transformers import pipeline\n",
        "\n",
        "miresumen = pipeline(task=\"summarization\",\n",
        "                model='modelos/modelo1',\n",
        "                tokenizer=tokenizer)"
      ],
      "metadata": {
        "colab": {
          "base_uri": "https://localhost:8080/"
        },
        "id": "O_U_Rb9DTyIJ",
        "outputId": "312364cc-b21a-4c1d-b180-44c521a05a9f"
      },
      "id": "O_U_Rb9DTyIJ",
      "execution_count": 60,
      "outputs": [
        {
          "output_type": "stream",
          "name": "stderr",
          "text": [
            "All model checkpoint layers were used when initializing TFT5ForConditionalGeneration.\n",
            "\n",
            "All the layers of TFT5ForConditionalGeneration were initialized from the model checkpoint at modelos/modelo1.\n",
            "If your task is similar to the task the model of the checkpoint was trained on, you can already use TFT5ForConditionalGeneration for predictions without further training.\n"
          ]
        }
      ]
    },
    {
      "cell_type": "code",
      "source": [],
      "metadata": {
        "id": "NJUbhcdkX1vL"
      },
      "id": "NJUbhcdkX1vL",
      "execution_count": null,
      "outputs": []
    },
    {
      "cell_type": "markdown",
      "source": [
        "# Inference - Create summaries\n",
        "\n",
        "Tokenize the text and return the input_ids as TensorFlow tensors:"
      ],
      "metadata": {
        "id": "dIQQ1QJ6TFr9"
      },
      "id": "dIQQ1QJ6TFr9"
    },
    {
      "cell_type": "code",
      "source": [
        "miresumen(text)"
      ],
      "metadata": {
        "colab": {
          "base_uri": "https://localhost:8080/"
        },
        "id": "r8LjmEUuX6Pv",
        "outputId": "f5b6501b-3395-4606-a013-51577b6c1008"
      },
      "id": "r8LjmEUuX6Pv",
      "execution_count": 61,
      "outputs": [
        {
          "output_type": "stream",
          "name": "stderr",
          "text": [
            "Your max_length is set to 200, but your input_length is only 103. Since this is a summarization task, where outputs shorter than the input are typically wanted, you might consider decreasing max_length manually, e.g. summarizer('...', max_length=51)\n"
          ]
        },
        {
          "output_type": "execute_result",
          "data": {
            "text/plain": [
              "[{'summary_text': \"the Inflation Reduction Act lowers prescription drug costs, health care costs, and energy costs. It's the most aggressive action on tackling the climate crisis in American history, which will lift up workers and create good-paying, union jobs across the country.\"}]"
            ]
          },
          "metadata": {},
          "execution_count": 61
        }
      ]
    }
  ],
  "metadata": {
    "kernelspec": {
      "display_name": "Python 3",
      "name": "python3"
    },
    "language_info": {
      "codemirror_mode": {
        "name": "ipython",
        "version": 3
      },
      "file_extension": ".py",
      "mimetype": "text/x-python",
      "name": "python",
      "nbconvert_exporter": "python",
      "pygments_lexer": "ipython3",
      "version": "3.10.12"
    },
    "colab": {
      "provenance": [],
      "gpuType": "T4",
      "include_colab_link": true
    },
    "accelerator": "GPU",
    "widgets": {
      "application/vnd.jupyter.widget-state+json": {
        "a2fdbb3c823443d695ca8d9aba402c5f": {
          "model_module": "@jupyter-widgets/controls",
          "model_name": "HBoxModel",
          "model_module_version": "1.5.0",
          "state": {
            "_dom_classes": [],
            "_model_module": "@jupyter-widgets/controls",
            "_model_module_version": "1.5.0",
            "_model_name": "HBoxModel",
            "_view_count": null,
            "_view_module": "@jupyter-widgets/controls",
            "_view_module_version": "1.5.0",
            "_view_name": "HBoxView",
            "box_style": "",
            "children": [
              "IPY_MODEL_7c16f4c821594ed18bf500ef2c0cbbbd",
              "IPY_MODEL_bd03f62e310d40e49c29511619bd0948",
              "IPY_MODEL_a7a375028b134bb99e5c7386d2e66b8b"
            ],
            "layout": "IPY_MODEL_9369395ec5274a15a346e238e3b11edc"
          }
        },
        "7c16f4c821594ed18bf500ef2c0cbbbd": {
          "model_module": "@jupyter-widgets/controls",
          "model_name": "HTMLModel",
          "model_module_version": "1.5.0",
          "state": {
            "_dom_classes": [],
            "_model_module": "@jupyter-widgets/controls",
            "_model_module_version": "1.5.0",
            "_model_name": "HTMLModel",
            "_view_count": null,
            "_view_module": "@jupyter-widgets/controls",
            "_view_module_version": "1.5.0",
            "_view_name": "HTMLView",
            "description": "",
            "description_tooltip": null,
            "layout": "IPY_MODEL_5af76cb7619149a7b4defd474f98a061",
            "placeholder": "​",
            "style": "IPY_MODEL_84773ed47d08402aa1fcbdd8a639cc9b",
            "value": "Map: 100%"
          }
        },
        "bd03f62e310d40e49c29511619bd0948": {
          "model_module": "@jupyter-widgets/controls",
          "model_name": "FloatProgressModel",
          "model_module_version": "1.5.0",
          "state": {
            "_dom_classes": [],
            "_model_module": "@jupyter-widgets/controls",
            "_model_module_version": "1.5.0",
            "_model_name": "FloatProgressModel",
            "_view_count": null,
            "_view_module": "@jupyter-widgets/controls",
            "_view_module_version": "1.5.0",
            "_view_name": "ProgressView",
            "bar_style": "success",
            "description": "",
            "description_tooltip": null,
            "layout": "IPY_MODEL_f9e7b1e80fb84e269b325e4ad3a2b750",
            "max": 989,
            "min": 0,
            "orientation": "horizontal",
            "style": "IPY_MODEL_a44ba413031140c29507bd4990c40b2f",
            "value": 989
          }
        },
        "a7a375028b134bb99e5c7386d2e66b8b": {
          "model_module": "@jupyter-widgets/controls",
          "model_name": "HTMLModel",
          "model_module_version": "1.5.0",
          "state": {
            "_dom_classes": [],
            "_model_module": "@jupyter-widgets/controls",
            "_model_module_version": "1.5.0",
            "_model_name": "HTMLModel",
            "_view_count": null,
            "_view_module": "@jupyter-widgets/controls",
            "_view_module_version": "1.5.0",
            "_view_name": "HTMLView",
            "description": "",
            "description_tooltip": null,
            "layout": "IPY_MODEL_58a37dda01af49d0b14acd21dac5fe77",
            "placeholder": "​",
            "style": "IPY_MODEL_2b2c27c2d02e45ceb92158cf07edc45a",
            "value": " 989/989 [00:07&lt;00:00, 135.45 examples/s]"
          }
        },
        "9369395ec5274a15a346e238e3b11edc": {
          "model_module": "@jupyter-widgets/base",
          "model_name": "LayoutModel",
          "model_module_version": "1.2.0",
          "state": {
            "_model_module": "@jupyter-widgets/base",
            "_model_module_version": "1.2.0",
            "_model_name": "LayoutModel",
            "_view_count": null,
            "_view_module": "@jupyter-widgets/base",
            "_view_module_version": "1.2.0",
            "_view_name": "LayoutView",
            "align_content": null,
            "align_items": null,
            "align_self": null,
            "border": null,
            "bottom": null,
            "display": null,
            "flex": null,
            "flex_flow": null,
            "grid_area": null,
            "grid_auto_columns": null,
            "grid_auto_flow": null,
            "grid_auto_rows": null,
            "grid_column": null,
            "grid_gap": null,
            "grid_row": null,
            "grid_template_areas": null,
            "grid_template_columns": null,
            "grid_template_rows": null,
            "height": null,
            "justify_content": null,
            "justify_items": null,
            "left": null,
            "margin": null,
            "max_height": null,
            "max_width": null,
            "min_height": null,
            "min_width": null,
            "object_fit": null,
            "object_position": null,
            "order": null,
            "overflow": null,
            "overflow_x": null,
            "overflow_y": null,
            "padding": null,
            "right": null,
            "top": null,
            "visibility": null,
            "width": null
          }
        },
        "5af76cb7619149a7b4defd474f98a061": {
          "model_module": "@jupyter-widgets/base",
          "model_name": "LayoutModel",
          "model_module_version": "1.2.0",
          "state": {
            "_model_module": "@jupyter-widgets/base",
            "_model_module_version": "1.2.0",
            "_model_name": "LayoutModel",
            "_view_count": null,
            "_view_module": "@jupyter-widgets/base",
            "_view_module_version": "1.2.0",
            "_view_name": "LayoutView",
            "align_content": null,
            "align_items": null,
            "align_self": null,
            "border": null,
            "bottom": null,
            "display": null,
            "flex": null,
            "flex_flow": null,
            "grid_area": null,
            "grid_auto_columns": null,
            "grid_auto_flow": null,
            "grid_auto_rows": null,
            "grid_column": null,
            "grid_gap": null,
            "grid_row": null,
            "grid_template_areas": null,
            "grid_template_columns": null,
            "grid_template_rows": null,
            "height": null,
            "justify_content": null,
            "justify_items": null,
            "left": null,
            "margin": null,
            "max_height": null,
            "max_width": null,
            "min_height": null,
            "min_width": null,
            "object_fit": null,
            "object_position": null,
            "order": null,
            "overflow": null,
            "overflow_x": null,
            "overflow_y": null,
            "padding": null,
            "right": null,
            "top": null,
            "visibility": null,
            "width": null
          }
        },
        "84773ed47d08402aa1fcbdd8a639cc9b": {
          "model_module": "@jupyter-widgets/controls",
          "model_name": "DescriptionStyleModel",
          "model_module_version": "1.5.0",
          "state": {
            "_model_module": "@jupyter-widgets/controls",
            "_model_module_version": "1.5.0",
            "_model_name": "DescriptionStyleModel",
            "_view_count": null,
            "_view_module": "@jupyter-widgets/base",
            "_view_module_version": "1.2.0",
            "_view_name": "StyleView",
            "description_width": ""
          }
        },
        "f9e7b1e80fb84e269b325e4ad3a2b750": {
          "model_module": "@jupyter-widgets/base",
          "model_name": "LayoutModel",
          "model_module_version": "1.2.0",
          "state": {
            "_model_module": "@jupyter-widgets/base",
            "_model_module_version": "1.2.0",
            "_model_name": "LayoutModel",
            "_view_count": null,
            "_view_module": "@jupyter-widgets/base",
            "_view_module_version": "1.2.0",
            "_view_name": "LayoutView",
            "align_content": null,
            "align_items": null,
            "align_self": null,
            "border": null,
            "bottom": null,
            "display": null,
            "flex": null,
            "flex_flow": null,
            "grid_area": null,
            "grid_auto_columns": null,
            "grid_auto_flow": null,
            "grid_auto_rows": null,
            "grid_column": null,
            "grid_gap": null,
            "grid_row": null,
            "grid_template_areas": null,
            "grid_template_columns": null,
            "grid_template_rows": null,
            "height": null,
            "justify_content": null,
            "justify_items": null,
            "left": null,
            "margin": null,
            "max_height": null,
            "max_width": null,
            "min_height": null,
            "min_width": null,
            "object_fit": null,
            "object_position": null,
            "order": null,
            "overflow": null,
            "overflow_x": null,
            "overflow_y": null,
            "padding": null,
            "right": null,
            "top": null,
            "visibility": null,
            "width": null
          }
        },
        "a44ba413031140c29507bd4990c40b2f": {
          "model_module": "@jupyter-widgets/controls",
          "model_name": "ProgressStyleModel",
          "model_module_version": "1.5.0",
          "state": {
            "_model_module": "@jupyter-widgets/controls",
            "_model_module_version": "1.5.0",
            "_model_name": "ProgressStyleModel",
            "_view_count": null,
            "_view_module": "@jupyter-widgets/base",
            "_view_module_version": "1.2.0",
            "_view_name": "StyleView",
            "bar_color": null,
            "description_width": ""
          }
        },
        "58a37dda01af49d0b14acd21dac5fe77": {
          "model_module": "@jupyter-widgets/base",
          "model_name": "LayoutModel",
          "model_module_version": "1.2.0",
          "state": {
            "_model_module": "@jupyter-widgets/base",
            "_model_module_version": "1.2.0",
            "_model_name": "LayoutModel",
            "_view_count": null,
            "_view_module": "@jupyter-widgets/base",
            "_view_module_version": "1.2.0",
            "_view_name": "LayoutView",
            "align_content": null,
            "align_items": null,
            "align_self": null,
            "border": null,
            "bottom": null,
            "display": null,
            "flex": null,
            "flex_flow": null,
            "grid_area": null,
            "grid_auto_columns": null,
            "grid_auto_flow": null,
            "grid_auto_rows": null,
            "grid_column": null,
            "grid_gap": null,
            "grid_row": null,
            "grid_template_areas": null,
            "grid_template_columns": null,
            "grid_template_rows": null,
            "height": null,
            "justify_content": null,
            "justify_items": null,
            "left": null,
            "margin": null,
            "max_height": null,
            "max_width": null,
            "min_height": null,
            "min_width": null,
            "object_fit": null,
            "object_position": null,
            "order": null,
            "overflow": null,
            "overflow_x": null,
            "overflow_y": null,
            "padding": null,
            "right": null,
            "top": null,
            "visibility": null,
            "width": null
          }
        },
        "2b2c27c2d02e45ceb92158cf07edc45a": {
          "model_module": "@jupyter-widgets/controls",
          "model_name": "DescriptionStyleModel",
          "model_module_version": "1.5.0",
          "state": {
            "_model_module": "@jupyter-widgets/controls",
            "_model_module_version": "1.5.0",
            "_model_name": "DescriptionStyleModel",
            "_view_count": null,
            "_view_module": "@jupyter-widgets/base",
            "_view_module_version": "1.2.0",
            "_view_name": "StyleView",
            "description_width": ""
          }
        },
        "ad52f8dab23f46cab64227679b9e3670": {
          "model_module": "@jupyter-widgets/controls",
          "model_name": "HBoxModel",
          "model_module_version": "1.5.0",
          "state": {
            "_dom_classes": [],
            "_model_module": "@jupyter-widgets/controls",
            "_model_module_version": "1.5.0",
            "_model_name": "HBoxModel",
            "_view_count": null,
            "_view_module": "@jupyter-widgets/controls",
            "_view_module_version": "1.5.0",
            "_view_name": "HBoxView",
            "box_style": "",
            "children": [
              "IPY_MODEL_96ac9a38643a4068b7907524df3f791e",
              "IPY_MODEL_1d08ed3ed6a14f6ea0f641ecfa21a752",
              "IPY_MODEL_ab7b046bbdac45a7b6530e5bf4aec079"
            ],
            "layout": "IPY_MODEL_095ec73d7f6d44369cdcbb0b7c80cedd"
          }
        },
        "96ac9a38643a4068b7907524df3f791e": {
          "model_module": "@jupyter-widgets/controls",
          "model_name": "HTMLModel",
          "model_module_version": "1.5.0",
          "state": {
            "_dom_classes": [],
            "_model_module": "@jupyter-widgets/controls",
            "_model_module_version": "1.5.0",
            "_model_name": "HTMLModel",
            "_view_count": null,
            "_view_module": "@jupyter-widgets/controls",
            "_view_module_version": "1.5.0",
            "_view_name": "HTMLView",
            "description": "",
            "description_tooltip": null,
            "layout": "IPY_MODEL_c5e93cb95a30479889a100f05c99b41e",
            "placeholder": "​",
            "style": "IPY_MODEL_75ee01805054402a9436a9721bd57d75",
            "value": "Map: 100%"
          }
        },
        "1d08ed3ed6a14f6ea0f641ecfa21a752": {
          "model_module": "@jupyter-widgets/controls",
          "model_name": "FloatProgressModel",
          "model_module_version": "1.5.0",
          "state": {
            "_dom_classes": [],
            "_model_module": "@jupyter-widgets/controls",
            "_model_module_version": "1.5.0",
            "_model_name": "FloatProgressModel",
            "_view_count": null,
            "_view_module": "@jupyter-widgets/controls",
            "_view_module_version": "1.5.0",
            "_view_name": "ProgressView",
            "bar_style": "success",
            "description": "",
            "description_tooltip": null,
            "layout": "IPY_MODEL_852048167f9748278bbe192e3aaeda62",
            "max": 248,
            "min": 0,
            "orientation": "horizontal",
            "style": "IPY_MODEL_bc9f45a6ce7c46c887f32d585b190358",
            "value": 248
          }
        },
        "ab7b046bbdac45a7b6530e5bf4aec079": {
          "model_module": "@jupyter-widgets/controls",
          "model_name": "HTMLModel",
          "model_module_version": "1.5.0",
          "state": {
            "_dom_classes": [],
            "_model_module": "@jupyter-widgets/controls",
            "_model_module_version": "1.5.0",
            "_model_name": "HTMLModel",
            "_view_count": null,
            "_view_module": "@jupyter-widgets/controls",
            "_view_module_version": "1.5.0",
            "_view_name": "HTMLView",
            "description": "",
            "description_tooltip": null,
            "layout": "IPY_MODEL_3af33182df1a433fa0b032a07f49c2dc",
            "placeholder": "​",
            "style": "IPY_MODEL_86ec3876bd3f45129b75e70d0591ac7c",
            "value": " 248/248 [00:01&lt;00:00, 144.03 examples/s]"
          }
        },
        "095ec73d7f6d44369cdcbb0b7c80cedd": {
          "model_module": "@jupyter-widgets/base",
          "model_name": "LayoutModel",
          "model_module_version": "1.2.0",
          "state": {
            "_model_module": "@jupyter-widgets/base",
            "_model_module_version": "1.2.0",
            "_model_name": "LayoutModel",
            "_view_count": null,
            "_view_module": "@jupyter-widgets/base",
            "_view_module_version": "1.2.0",
            "_view_name": "LayoutView",
            "align_content": null,
            "align_items": null,
            "align_self": null,
            "border": null,
            "bottom": null,
            "display": null,
            "flex": null,
            "flex_flow": null,
            "grid_area": null,
            "grid_auto_columns": null,
            "grid_auto_flow": null,
            "grid_auto_rows": null,
            "grid_column": null,
            "grid_gap": null,
            "grid_row": null,
            "grid_template_areas": null,
            "grid_template_columns": null,
            "grid_template_rows": null,
            "height": null,
            "justify_content": null,
            "justify_items": null,
            "left": null,
            "margin": null,
            "max_height": null,
            "max_width": null,
            "min_height": null,
            "min_width": null,
            "object_fit": null,
            "object_position": null,
            "order": null,
            "overflow": null,
            "overflow_x": null,
            "overflow_y": null,
            "padding": null,
            "right": null,
            "top": null,
            "visibility": null,
            "width": null
          }
        },
        "c5e93cb95a30479889a100f05c99b41e": {
          "model_module": "@jupyter-widgets/base",
          "model_name": "LayoutModel",
          "model_module_version": "1.2.0",
          "state": {
            "_model_module": "@jupyter-widgets/base",
            "_model_module_version": "1.2.0",
            "_model_name": "LayoutModel",
            "_view_count": null,
            "_view_module": "@jupyter-widgets/base",
            "_view_module_version": "1.2.0",
            "_view_name": "LayoutView",
            "align_content": null,
            "align_items": null,
            "align_self": null,
            "border": null,
            "bottom": null,
            "display": null,
            "flex": null,
            "flex_flow": null,
            "grid_area": null,
            "grid_auto_columns": null,
            "grid_auto_flow": null,
            "grid_auto_rows": null,
            "grid_column": null,
            "grid_gap": null,
            "grid_row": null,
            "grid_template_areas": null,
            "grid_template_columns": null,
            "grid_template_rows": null,
            "height": null,
            "justify_content": null,
            "justify_items": null,
            "left": null,
            "margin": null,
            "max_height": null,
            "max_width": null,
            "min_height": null,
            "min_width": null,
            "object_fit": null,
            "object_position": null,
            "order": null,
            "overflow": null,
            "overflow_x": null,
            "overflow_y": null,
            "padding": null,
            "right": null,
            "top": null,
            "visibility": null,
            "width": null
          }
        },
        "75ee01805054402a9436a9721bd57d75": {
          "model_module": "@jupyter-widgets/controls",
          "model_name": "DescriptionStyleModel",
          "model_module_version": "1.5.0",
          "state": {
            "_model_module": "@jupyter-widgets/controls",
            "_model_module_version": "1.5.0",
            "_model_name": "DescriptionStyleModel",
            "_view_count": null,
            "_view_module": "@jupyter-widgets/base",
            "_view_module_version": "1.2.0",
            "_view_name": "StyleView",
            "description_width": ""
          }
        },
        "852048167f9748278bbe192e3aaeda62": {
          "model_module": "@jupyter-widgets/base",
          "model_name": "LayoutModel",
          "model_module_version": "1.2.0",
          "state": {
            "_model_module": "@jupyter-widgets/base",
            "_model_module_version": "1.2.0",
            "_model_name": "LayoutModel",
            "_view_count": null,
            "_view_module": "@jupyter-widgets/base",
            "_view_module_version": "1.2.0",
            "_view_name": "LayoutView",
            "align_content": null,
            "align_items": null,
            "align_self": null,
            "border": null,
            "bottom": null,
            "display": null,
            "flex": null,
            "flex_flow": null,
            "grid_area": null,
            "grid_auto_columns": null,
            "grid_auto_flow": null,
            "grid_auto_rows": null,
            "grid_column": null,
            "grid_gap": null,
            "grid_row": null,
            "grid_template_areas": null,
            "grid_template_columns": null,
            "grid_template_rows": null,
            "height": null,
            "justify_content": null,
            "justify_items": null,
            "left": null,
            "margin": null,
            "max_height": null,
            "max_width": null,
            "min_height": null,
            "min_width": null,
            "object_fit": null,
            "object_position": null,
            "order": null,
            "overflow": null,
            "overflow_x": null,
            "overflow_y": null,
            "padding": null,
            "right": null,
            "top": null,
            "visibility": null,
            "width": null
          }
        },
        "bc9f45a6ce7c46c887f32d585b190358": {
          "model_module": "@jupyter-widgets/controls",
          "model_name": "ProgressStyleModel",
          "model_module_version": "1.5.0",
          "state": {
            "_model_module": "@jupyter-widgets/controls",
            "_model_module_version": "1.5.0",
            "_model_name": "ProgressStyleModel",
            "_view_count": null,
            "_view_module": "@jupyter-widgets/base",
            "_view_module_version": "1.2.0",
            "_view_name": "StyleView",
            "bar_color": null,
            "description_width": ""
          }
        },
        "3af33182df1a433fa0b032a07f49c2dc": {
          "model_module": "@jupyter-widgets/base",
          "model_name": "LayoutModel",
          "model_module_version": "1.2.0",
          "state": {
            "_model_module": "@jupyter-widgets/base",
            "_model_module_version": "1.2.0",
            "_model_name": "LayoutModel",
            "_view_count": null,
            "_view_module": "@jupyter-widgets/base",
            "_view_module_version": "1.2.0",
            "_view_name": "LayoutView",
            "align_content": null,
            "align_items": null,
            "align_self": null,
            "border": null,
            "bottom": null,
            "display": null,
            "flex": null,
            "flex_flow": null,
            "grid_area": null,
            "grid_auto_columns": null,
            "grid_auto_flow": null,
            "grid_auto_rows": null,
            "grid_column": null,
            "grid_gap": null,
            "grid_row": null,
            "grid_template_areas": null,
            "grid_template_columns": null,
            "grid_template_rows": null,
            "height": null,
            "justify_content": null,
            "justify_items": null,
            "left": null,
            "margin": null,
            "max_height": null,
            "max_width": null,
            "min_height": null,
            "min_width": null,
            "object_fit": null,
            "object_position": null,
            "order": null,
            "overflow": null,
            "overflow_x": null,
            "overflow_y": null,
            "padding": null,
            "right": null,
            "top": null,
            "visibility": null,
            "width": null
          }
        },
        "86ec3876bd3f45129b75e70d0591ac7c": {
          "model_module": "@jupyter-widgets/controls",
          "model_name": "DescriptionStyleModel",
          "model_module_version": "1.5.0",
          "state": {
            "_model_module": "@jupyter-widgets/controls",
            "_model_module_version": "1.5.0",
            "_model_name": "DescriptionStyleModel",
            "_view_count": null,
            "_view_module": "@jupyter-widgets/base",
            "_view_module_version": "1.2.0",
            "_view_name": "StyleView",
            "description_width": ""
          }
        }
      }
    }
  },
  "nbformat": 4,
  "nbformat_minor": 5
}